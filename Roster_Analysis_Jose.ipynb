{
 "cells": [
  {
   "cell_type": "code",
   "execution_count": 1,
   "id": "2ed8035d-b6d5-4a45-99f3-d3e1332cd5c1",
   "metadata": {},
   "outputs": [],
   "source": [
    "import pandas as pd\n",
    "import altair as alt"
   ]
  },
  {
   "cell_type": "code",
   "execution_count": 2,
   "id": "2b475ac6-d5d3-480a-8575-ba40185126c9",
   "metadata": {},
   "outputs": [
    {
     "data": {
      "text/plain": [
       "DataTransformerRegistry.enable('default')"
      ]
     },
     "execution_count": 2,
     "metadata": {},
     "output_type": "execute_result"
    }
   ],
   "source": [
    "#allows altair to use unlimited number of rows when visualizing data\n",
    "alt.data_transformers.disable_max_rows()"
   ]
  },
  {
   "cell_type": "code",
   "execution_count": 3,
   "id": "eb744a49-abd8-4eb7-a969-0980e2caa302",
   "metadata": {},
   "outputs": [],
   "source": [
    "roster = pd.read_csv(\"/Users/josemartinez/Desktop/Code/Discipline_Data/staff_roster_cleaned.csv\")"
   ]
  },
  {
   "cell_type": "code",
   "execution_count": 4,
   "id": "9c4bc199-ed34-4653-af59-e97779e65fd4",
   "metadata": {},
   "outputs": [
    {
     "data": {
      "text/plain": [
       "Index(['name', 'job_desc', 'dept_desc', 'gender', 'race_ethnicity',\n",
       "       'date_started', 'year', 'clean_name', 'clean_race_ethnicity'],\n",
       "      dtype='object')"
      ]
     },
     "execution_count": 4,
     "metadata": {},
     "output_type": "execute_result"
    }
   ],
   "source": [
    "roster.columns"
   ]
  },
  {
   "cell_type": "code",
   "execution_count": 5,
   "id": "fbf3a020-a95c-4ace-b49b-c38022dfb6dc",
   "metadata": {},
   "outputs": [],
   "source": [
    "#Pulled out race and year from dataset\n",
    "year_race = roster[['year','clean_race_ethnicity']]"
   ]
  },
  {
   "cell_type": "markdown",
   "id": "7aab7be2-8791-4b59-9795-62cc68f48f26",
   "metadata": {},
   "source": [
    "# **Demographic breakdown by year**"
   ]
  },
  {
   "cell_type": "markdown",
   "id": "21b41ec7-7a68-45f1-96ad-89af4e4e4799",
   "metadata": {},
   "source": [
    "### Demographic Breakdown in 2010"
   ]
  },
  {
   "cell_type": "code",
   "execution_count": 6,
   "id": "0685f7c6-dcb9-42ce-9603-a790b216d8c6",
   "metadata": {},
   "outputs": [],
   "source": [
    "#filtered data by every row that had 2010 as the roster year\n",
    "roster_2010 = year_race.loc[year_race['year'] == 2010]\n",
    "#counted number of instances that each value had in new data (ex. 50 hispanics 50 blacks)\n",
    "chart10 = roster_2010.value_counts().reset_index()\n",
    "#don't need year column anymore since it's all 2020, so I deleted it\n",
    "del chart10['year']\n",
    "#renamed columns for clarity\n",
    "chart10.columns = ['Race', 'Amount']"
   ]
  },
  {
   "cell_type": "code",
   "execution_count": 7,
   "id": "1204c6dd-2b44-4683-bcb7-237f27aaf2b3",
   "metadata": {},
   "outputs": [],
   "source": [
    "#Made a new column that found the percentage of each race group and rounded it to one decimanl point\n",
    "chart10['Percentage'] = ((chart10['Amount']/chart10['Amount'].sum())*100).round(1)\n",
    "#Added the string '%' at the end for chart marking purposes.\n",
    "chart10['Percentage'] = chart10['Percentage'].astype(str) + '%'"
   ]
  },
  {
   "cell_type": "code",
   "execution_count": 8,
   "id": "55165497-014e-4077-88a1-fb55eca3bf68",
   "metadata": {},
   "outputs": [
    {
     "data": {
      "text/html": [
       "<style  type=\"text/css\" >\n",
       "</style><table id=\"T_98f63_\" ><caption>Officer Demographics MNPD - 2010</caption><thead>    <tr>        <th class=\"blank level0\" ></th>        <th class=\"col_heading level0 col0\" >Race</th>        <th class=\"col_heading level0 col1\" >Amount</th>        <th class=\"col_heading level0 col2\" >Percentage</th>    </tr></thead><tbody>\n",
       "                <tr>\n",
       "                        <th id=\"T_98f63_level0_row0\" class=\"row_heading level0 row0\" >0</th>\n",
       "                        <td id=\"T_98f63_row0_col0\" class=\"data row0 col0\" >white</td>\n",
       "                        <td id=\"T_98f63_row0_col1\" class=\"data row0 col1\" >1455</td>\n",
       "                        <td id=\"T_98f63_row0_col2\" class=\"data row0 col2\" >76.5%</td>\n",
       "            </tr>\n",
       "            <tr>\n",
       "                        <th id=\"T_98f63_level0_row1\" class=\"row_heading level0 row1\" >1</th>\n",
       "                        <td id=\"T_98f63_row1_col0\" class=\"data row1 col0\" >black</td>\n",
       "                        <td id=\"T_98f63_row1_col1\" class=\"data row1 col1\" >398</td>\n",
       "                        <td id=\"T_98f63_row1_col2\" class=\"data row1 col2\" >20.9%</td>\n",
       "            </tr>\n",
       "            <tr>\n",
       "                        <th id=\"T_98f63_level0_row2\" class=\"row_heading level0 row2\" >2</th>\n",
       "                        <td id=\"T_98f63_row2_col0\" class=\"data row2 col0\" >asian/pacific islander</td>\n",
       "                        <td id=\"T_98f63_row2_col1\" class=\"data row2 col1\" >23</td>\n",
       "                        <td id=\"T_98f63_row2_col2\" class=\"data row2 col2\" >1.2%</td>\n",
       "            </tr>\n",
       "            <tr>\n",
       "                        <th id=\"T_98f63_level0_row3\" class=\"row_heading level0 row3\" >3</th>\n",
       "                        <td id=\"T_98f63_row3_col0\" class=\"data row3 col0\" >hispanic</td>\n",
       "                        <td id=\"T_98f63_row3_col1\" class=\"data row3 col1\" >23</td>\n",
       "                        <td id=\"T_98f63_row3_col2\" class=\"data row3 col2\" >1.2%</td>\n",
       "            </tr>\n",
       "            <tr>\n",
       "                        <th id=\"T_98f63_level0_row4\" class=\"row_heading level0 row4\" >4</th>\n",
       "                        <td id=\"T_98f63_row4_col0\" class=\"data row4 col0\" >native american</td>\n",
       "                        <td id=\"T_98f63_row4_col1\" class=\"data row4 col1\" >2</td>\n",
       "                        <td id=\"T_98f63_row4_col2\" class=\"data row4 col2\" >0.1%</td>\n",
       "            </tr>\n",
       "            <tr>\n",
       "                        <th id=\"T_98f63_level0_row5\" class=\"row_heading level0 row5\" >5</th>\n",
       "                        <td id=\"T_98f63_row5_col0\" class=\"data row5 col0\" >unknown</td>\n",
       "                        <td id=\"T_98f63_row5_col1\" class=\"data row5 col1\" >1</td>\n",
       "                        <td id=\"T_98f63_row5_col2\" class=\"data row5 col2\" >0.1%</td>\n",
       "            </tr>\n",
       "    </tbody></table>"
      ],
      "text/plain": [
       "<pandas.io.formats.style.Styler at 0x7fc688939850>"
      ]
     },
     "execution_count": 8,
     "metadata": {},
     "output_type": "execute_result"
    }
   ],
   "source": [
    "chart10.style.set_caption(\"Officer Demographics MNPD - 2010\")"
   ]
  },
  {
   "cell_type": "code",
   "execution_count": 9,
   "id": "4faff745-ea1e-442a-a8a6-7aa46109d36d",
   "metadata": {},
   "outputs": [
    {
     "data": {
      "text/html": [
       "\n",
       "<div id=\"altair-viz-f5e1d7c426cc4d058e9f16451062b671\"></div>\n",
       "<script type=\"text/javascript\">\n",
       "  (function(spec, embedOpt){\n",
       "    let outputDiv = document.currentScript.previousElementSibling;\n",
       "    if (outputDiv.id !== \"altair-viz-f5e1d7c426cc4d058e9f16451062b671\") {\n",
       "      outputDiv = document.getElementById(\"altair-viz-f5e1d7c426cc4d058e9f16451062b671\");\n",
       "    }\n",
       "    const paths = {\n",
       "      \"vega\": \"https://cdn.jsdelivr.net/npm//vega@5?noext\",\n",
       "      \"vega-lib\": \"https://cdn.jsdelivr.net/npm//vega-lib?noext\",\n",
       "      \"vega-lite\": \"https://cdn.jsdelivr.net/npm//vega-lite@4.8.1?noext\",\n",
       "      \"vega-embed\": \"https://cdn.jsdelivr.net/npm//vega-embed@6?noext\",\n",
       "    };\n",
       "\n",
       "    function loadScript(lib) {\n",
       "      return new Promise(function(resolve, reject) {\n",
       "        var s = document.createElement('script');\n",
       "        s.src = paths[lib];\n",
       "        s.async = true;\n",
       "        s.onload = () => resolve(paths[lib]);\n",
       "        s.onerror = () => reject(`Error loading script: ${paths[lib]}`);\n",
       "        document.getElementsByTagName(\"head\")[0].appendChild(s);\n",
       "      });\n",
       "    }\n",
       "\n",
       "    function showError(err) {\n",
       "      outputDiv.innerHTML = `<div class=\"error\" style=\"color:red;\">${err}</div>`;\n",
       "      throw err;\n",
       "    }\n",
       "\n",
       "    function displayChart(vegaEmbed) {\n",
       "      vegaEmbed(outputDiv, spec, embedOpt)\n",
       "        .catch(err => showError(`Javascript Error: ${err.message}<br>This usually means there's a typo in your chart specification. See the javascript console for the full traceback.`));\n",
       "    }\n",
       "\n",
       "    if(typeof define === \"function\" && define.amd) {\n",
       "      requirejs.config({paths});\n",
       "      require([\"vega-embed\"], displayChart, err => showError(`Error loading script: ${err.message}`));\n",
       "    } else if (typeof vegaEmbed === \"function\") {\n",
       "      displayChart(vegaEmbed);\n",
       "    } else {\n",
       "      loadScript(\"vega\")\n",
       "        .then(() => loadScript(\"vega-lite\"))\n",
       "        .then(() => loadScript(\"vega-embed\"))\n",
       "        .catch(showError)\n",
       "        .then(() => displayChart(vegaEmbed));\n",
       "    }\n",
       "  })({\"config\": {\"view\": {\"continuousWidth\": 400, \"continuousHeight\": 300}}, \"layer\": [{\"mark\": \"bar\", \"encoding\": {\"x\": {\"type\": \"nominal\", \"axis\": {\"labelAngle\": 0}, \"field\": \"Race\", \"sort\": {\"field\": \"Letters\", \"op\": \"count\", \"order\": \"ascending\"}}, \"y\": {\"type\": \"quantitative\", \"field\": \"Amount\"}}, \"height\": 300, \"title\": \"Officer Demographics MNPD - 2010\", \"width\": 800}, {\"mark\": {\"type\": \"text\", \"dy\": -10}, \"encoding\": {\"text\": {\"type\": \"nominal\", \"field\": \"Percentage\"}, \"x\": {\"type\": \"nominal\", \"axis\": {\"labelAngle\": 0}, \"field\": \"Race\", \"sort\": {\"field\": \"Letters\", \"op\": \"count\", \"order\": \"ascending\"}}, \"y\": {\"type\": \"quantitative\", \"field\": \"Amount\"}}, \"height\": 300, \"title\": \"Officer Demographics MNPD - 2010\", \"width\": 800}], \"data\": {\"name\": \"data-84e89d3ad3ec59c6f64f11534b51a002\"}, \"$schema\": \"https://vega.github.io/schema/vega-lite/v4.8.1.json\", \"datasets\": {\"data-84e89d3ad3ec59c6f64f11534b51a002\": [{\"Race\": \"white\", \"Amount\": 1455, \"Percentage\": \"76.5%\"}, {\"Race\": \"black\", \"Amount\": 398, \"Percentage\": \"20.9%\"}, {\"Race\": \"asian/pacific islander\", \"Amount\": 23, \"Percentage\": \"1.2%\"}, {\"Race\": \"hispanic\", \"Amount\": 23, \"Percentage\": \"1.2%\"}, {\"Race\": \"native american\", \"Amount\": 2, \"Percentage\": \"0.1%\"}, {\"Race\": \"unknown\", \"Amount\": 1, \"Percentage\": \"0.1%\"}]}}, {\"mode\": \"vega-lite\"});\n",
       "</script>"
      ],
      "text/plain": [
       "alt.LayerChart(...)"
      ]
     },
     "execution_count": 9,
     "metadata": {},
     "output_type": "execute_result"
    }
   ],
   "source": [
    "ten = alt.Chart(chart10, title= 'Officer Demographics MNPD - 2010').mark_bar().encode(\n",
    "    alt.X('Race', axis=alt.Axis(labelAngle=0),sort=alt.EncodingSortField(field=\"Letters\", op=\"count\", order='ascending')),\n",
    "    alt.Y('Amount')).properties(\n",
    "    width=800,\n",
    "    height=300\n",
    ")\n",
    "\n",
    "#created the percentage labels to put above bars on chart\n",
    "#'dy' just moves the label vertically while the 'text' command chooses what column to pull from the database\n",
    "text = ten.mark_text(dy=-10).encode(text='Percentage')\n",
    "\n",
    "#Combine the chart and text labels\n",
    "ten + text"
   ]
  },
  {
   "cell_type": "markdown",
   "id": "5f578889-3ecf-4880-9a1d-3b26e343081c",
   "metadata": {},
   "source": [
    "# Notes above are the same for the following yearly demographic breakdowns"
   ]
  },
  {
   "cell_type": "markdown",
   "id": "88b9712d-784a-4090-b976-24468c6d572c",
   "metadata": {},
   "source": [
    "### Demographic Breakdown in 2011"
   ]
  },
  {
   "cell_type": "code",
   "execution_count": 10,
   "id": "08290a91-eabe-49dc-a045-cabe34cfacf2",
   "metadata": {},
   "outputs": [],
   "source": [
    "roster_2011 = year_race.loc[year_race['year'] == 2011]\n",
    "chart11 = roster_2011.value_counts().reset_index()\n",
    "del chart11['year']\n",
    "chart11.columns = ['Race', 'Amount']"
   ]
  },
  {
   "cell_type": "code",
   "execution_count": 11,
   "id": "cc2ad6cb-9b79-4f56-825d-c19f367df263",
   "metadata": {},
   "outputs": [],
   "source": [
    "chart11['Percentage'] = ((chart11['Amount']/chart11['Amount'].sum())*100).round(1)\n",
    "chart11['Percentage'] = chart11['Percentage'].astype(str) + '%'"
   ]
  },
  {
   "cell_type": "code",
   "execution_count": 12,
   "id": "434826e6-460f-4f55-94c0-6cca5fd07e67",
   "metadata": {},
   "outputs": [
    {
     "data": {
      "text/html": [
       "<div>\n",
       "<style scoped>\n",
       "    .dataframe tbody tr th:only-of-type {\n",
       "        vertical-align: middle;\n",
       "    }\n",
       "\n",
       "    .dataframe tbody tr th {\n",
       "        vertical-align: top;\n",
       "    }\n",
       "\n",
       "    .dataframe thead th {\n",
       "        text-align: right;\n",
       "    }\n",
       "</style>\n",
       "<table border=\"1\" class=\"dataframe\">\n",
       "  <thead>\n",
       "    <tr style=\"text-align: right;\">\n",
       "      <th></th>\n",
       "      <th>Race</th>\n",
       "      <th>Amount</th>\n",
       "      <th>Percentage</th>\n",
       "    </tr>\n",
       "  </thead>\n",
       "  <tbody>\n",
       "    <tr>\n",
       "      <th>0</th>\n",
       "      <td>white</td>\n",
       "      <td>1379</td>\n",
       "      <td>75.9%</td>\n",
       "    </tr>\n",
       "    <tr>\n",
       "      <th>1</th>\n",
       "      <td>black</td>\n",
       "      <td>388</td>\n",
       "      <td>21.4%</td>\n",
       "    </tr>\n",
       "    <tr>\n",
       "      <th>2</th>\n",
       "      <td>hispanic</td>\n",
       "      <td>24</td>\n",
       "      <td>1.3%</td>\n",
       "    </tr>\n",
       "    <tr>\n",
       "      <th>3</th>\n",
       "      <td>asian/pacific islander</td>\n",
       "      <td>22</td>\n",
       "      <td>1.2%</td>\n",
       "    </tr>\n",
       "    <tr>\n",
       "      <th>4</th>\n",
       "      <td>native american</td>\n",
       "      <td>2</td>\n",
       "      <td>0.1%</td>\n",
       "    </tr>\n",
       "    <tr>\n",
       "      <th>5</th>\n",
       "      <td>unknown</td>\n",
       "      <td>1</td>\n",
       "      <td>0.1%</td>\n",
       "    </tr>\n",
       "  </tbody>\n",
       "</table>\n",
       "</div>"
      ],
      "text/plain": [
       "                     Race  Amount Percentage\n",
       "0                   white    1379      75.9%\n",
       "1                   black     388      21.4%\n",
       "2                hispanic      24       1.3%\n",
       "3  asian/pacific islander      22       1.2%\n",
       "4         native american       2       0.1%\n",
       "5                 unknown       1       0.1%"
      ]
     },
     "execution_count": 12,
     "metadata": {},
     "output_type": "execute_result"
    }
   ],
   "source": [
    "chart11"
   ]
  },
  {
   "cell_type": "code",
   "execution_count": 13,
   "id": "78da1289-1015-420a-b85f-28d03643e5c7",
   "metadata": {},
   "outputs": [
    {
     "data": {
      "text/html": [
       "\n",
       "<div id=\"altair-viz-a5fc3eae519c47cc918e11bcb1f1bc1b\"></div>\n",
       "<script type=\"text/javascript\">\n",
       "  (function(spec, embedOpt){\n",
       "    let outputDiv = document.currentScript.previousElementSibling;\n",
       "    if (outputDiv.id !== \"altair-viz-a5fc3eae519c47cc918e11bcb1f1bc1b\") {\n",
       "      outputDiv = document.getElementById(\"altair-viz-a5fc3eae519c47cc918e11bcb1f1bc1b\");\n",
       "    }\n",
       "    const paths = {\n",
       "      \"vega\": \"https://cdn.jsdelivr.net/npm//vega@5?noext\",\n",
       "      \"vega-lib\": \"https://cdn.jsdelivr.net/npm//vega-lib?noext\",\n",
       "      \"vega-lite\": \"https://cdn.jsdelivr.net/npm//vega-lite@4.8.1?noext\",\n",
       "      \"vega-embed\": \"https://cdn.jsdelivr.net/npm//vega-embed@6?noext\",\n",
       "    };\n",
       "\n",
       "    function loadScript(lib) {\n",
       "      return new Promise(function(resolve, reject) {\n",
       "        var s = document.createElement('script');\n",
       "        s.src = paths[lib];\n",
       "        s.async = true;\n",
       "        s.onload = () => resolve(paths[lib]);\n",
       "        s.onerror = () => reject(`Error loading script: ${paths[lib]}`);\n",
       "        document.getElementsByTagName(\"head\")[0].appendChild(s);\n",
       "      });\n",
       "    }\n",
       "\n",
       "    function showError(err) {\n",
       "      outputDiv.innerHTML = `<div class=\"error\" style=\"color:red;\">${err}</div>`;\n",
       "      throw err;\n",
       "    }\n",
       "\n",
       "    function displayChart(vegaEmbed) {\n",
       "      vegaEmbed(outputDiv, spec, embedOpt)\n",
       "        .catch(err => showError(`Javascript Error: ${err.message}<br>This usually means there's a typo in your chart specification. See the javascript console for the full traceback.`));\n",
       "    }\n",
       "\n",
       "    if(typeof define === \"function\" && define.amd) {\n",
       "      requirejs.config({paths});\n",
       "      require([\"vega-embed\"], displayChart, err => showError(`Error loading script: ${err.message}`));\n",
       "    } else if (typeof vegaEmbed === \"function\") {\n",
       "      displayChart(vegaEmbed);\n",
       "    } else {\n",
       "      loadScript(\"vega\")\n",
       "        .then(() => loadScript(\"vega-lite\"))\n",
       "        .then(() => loadScript(\"vega-embed\"))\n",
       "        .catch(showError)\n",
       "        .then(() => displayChart(vegaEmbed));\n",
       "    }\n",
       "  })({\"config\": {\"view\": {\"continuousWidth\": 400, \"continuousHeight\": 300}}, \"layer\": [{\"mark\": \"bar\", \"encoding\": {\"x\": {\"type\": \"nominal\", \"axis\": {\"labelAngle\": 0}, \"field\": \"Race\", \"sort\": {\"order\": \"ascending\"}}, \"y\": {\"type\": \"quantitative\", \"field\": \"Amount\"}}, \"height\": 300, \"title\": \"Officer Demographics MNPD - 2011\", \"width\": 800}, {\"mark\": {\"type\": \"text\", \"dy\": -10}, \"encoding\": {\"text\": {\"type\": \"nominal\", \"field\": \"Percentage\"}, \"x\": {\"type\": \"nominal\", \"axis\": {\"labelAngle\": 0}, \"field\": \"Race\", \"sort\": {\"order\": \"ascending\"}}, \"y\": {\"type\": \"quantitative\", \"field\": \"Amount\"}}, \"height\": 300, \"title\": \"Officer Demographics MNPD - 2011\", \"width\": 800}], \"data\": {\"name\": \"data-d5eaa281ba907737be0cce2148a230ff\"}, \"$schema\": \"https://vega.github.io/schema/vega-lite/v4.8.1.json\", \"datasets\": {\"data-d5eaa281ba907737be0cce2148a230ff\": [{\"Race\": \"white\", \"Amount\": 1379, \"Percentage\": \"75.9%\"}, {\"Race\": \"black\", \"Amount\": 388, \"Percentage\": \"21.4%\"}, {\"Race\": \"hispanic\", \"Amount\": 24, \"Percentage\": \"1.3%\"}, {\"Race\": \"asian/pacific islander\", \"Amount\": 22, \"Percentage\": \"1.2%\"}, {\"Race\": \"native american\", \"Amount\": 2, \"Percentage\": \"0.1%\"}, {\"Race\": \"unknown\", \"Amount\": 1, \"Percentage\": \"0.1%\"}]}}, {\"mode\": \"vega-lite\"});\n",
       "</script>"
      ],
      "text/plain": [
       "alt.LayerChart(...)"
      ]
     },
     "execution_count": 13,
     "metadata": {},
     "output_type": "execute_result"
    }
   ],
   "source": [
    "eleven = alt.Chart(chart11, title= 'Officer Demographics MNPD - 2011').mark_bar().encode(\n",
    "    alt.X('Race', axis=alt.Axis(labelAngle=0),sort=alt.EncodingSortField(order='ascending')),\n",
    "    alt.Y('Amount')).properties(\n",
    "    width=800,\n",
    "    height=300\n",
    ")\n",
    "\n",
    "text = eleven.mark_text(dy=-10).encode(text='Percentage')\n",
    "\n",
    "eleven + text"
   ]
  },
  {
   "cell_type": "markdown",
   "id": "c058f646-5ddd-4021-bff2-454f11458d37",
   "metadata": {},
   "source": [
    "### Demographic Breakdown in 2012"
   ]
  },
  {
   "cell_type": "code",
   "execution_count": 14,
   "id": "444e9e1e-0d4b-47ff-9141-415deb04fbfa",
   "metadata": {},
   "outputs": [],
   "source": [
    "roster_2012 = year_race.loc[year_race['year'] == 2012]\n",
    "chart12 = roster_2012.value_counts().reset_index()\n",
    "del chart12['year']\n",
    "chart12.columns = ['Race', 'Amount']"
   ]
  },
  {
   "cell_type": "code",
   "execution_count": 15,
   "id": "d50a8b63-af5f-4b66-b626-ffadb5769ccc",
   "metadata": {},
   "outputs": [],
   "source": [
    "chart12['Percentage'] = ((chart12['Amount']/chart12['Amount'].sum())*100).round(1)\n",
    "chart12['Percentage'] = chart12['Percentage'].astype(str) + '%'"
   ]
  },
  {
   "cell_type": "code",
   "execution_count": 16,
   "id": "4cef5c28-ab17-43a8-b892-759152438a53",
   "metadata": {},
   "outputs": [
    {
     "data": {
      "text/html": [
       "<div>\n",
       "<style scoped>\n",
       "    .dataframe tbody tr th:only-of-type {\n",
       "        vertical-align: middle;\n",
       "    }\n",
       "\n",
       "    .dataframe tbody tr th {\n",
       "        vertical-align: top;\n",
       "    }\n",
       "\n",
       "    .dataframe thead th {\n",
       "        text-align: right;\n",
       "    }\n",
       "</style>\n",
       "<table border=\"1\" class=\"dataframe\">\n",
       "  <thead>\n",
       "    <tr style=\"text-align: right;\">\n",
       "      <th></th>\n",
       "      <th>Race</th>\n",
       "      <th>Amount</th>\n",
       "      <th>Percentage</th>\n",
       "    </tr>\n",
       "  </thead>\n",
       "  <tbody>\n",
       "    <tr>\n",
       "      <th>0</th>\n",
       "      <td>white</td>\n",
       "      <td>1547</td>\n",
       "      <td>76.2%</td>\n",
       "    </tr>\n",
       "    <tr>\n",
       "      <th>1</th>\n",
       "      <td>black</td>\n",
       "      <td>429</td>\n",
       "      <td>21.1%</td>\n",
       "    </tr>\n",
       "    <tr>\n",
       "      <th>2</th>\n",
       "      <td>hispanic</td>\n",
       "      <td>26</td>\n",
       "      <td>1.3%</td>\n",
       "    </tr>\n",
       "    <tr>\n",
       "      <th>3</th>\n",
       "      <td>asian/pacific islander</td>\n",
       "      <td>23</td>\n",
       "      <td>1.1%</td>\n",
       "    </tr>\n",
       "    <tr>\n",
       "      <th>4</th>\n",
       "      <td>native american</td>\n",
       "      <td>3</td>\n",
       "      <td>0.1%</td>\n",
       "    </tr>\n",
       "    <tr>\n",
       "      <th>5</th>\n",
       "      <td>unknown</td>\n",
       "      <td>1</td>\n",
       "      <td>0.0%</td>\n",
       "    </tr>\n",
       "  </tbody>\n",
       "</table>\n",
       "</div>"
      ],
      "text/plain": [
       "                     Race  Amount Percentage\n",
       "0                   white    1547      76.2%\n",
       "1                   black     429      21.1%\n",
       "2                hispanic      26       1.3%\n",
       "3  asian/pacific islander      23       1.1%\n",
       "4         native american       3       0.1%\n",
       "5                 unknown       1       0.0%"
      ]
     },
     "execution_count": 16,
     "metadata": {},
     "output_type": "execute_result"
    }
   ],
   "source": [
    "chart12"
   ]
  },
  {
   "cell_type": "code",
   "execution_count": 17,
   "id": "fcb8ad9c-67d1-4549-bb7d-183fda04c035",
   "metadata": {},
   "outputs": [
    {
     "data": {
      "text/html": [
       "\n",
       "<div id=\"altair-viz-56ca057947d0452cab1f6a07ac972667\"></div>\n",
       "<script type=\"text/javascript\">\n",
       "  (function(spec, embedOpt){\n",
       "    let outputDiv = document.currentScript.previousElementSibling;\n",
       "    if (outputDiv.id !== \"altair-viz-56ca057947d0452cab1f6a07ac972667\") {\n",
       "      outputDiv = document.getElementById(\"altair-viz-56ca057947d0452cab1f6a07ac972667\");\n",
       "    }\n",
       "    const paths = {\n",
       "      \"vega\": \"https://cdn.jsdelivr.net/npm//vega@5?noext\",\n",
       "      \"vega-lib\": \"https://cdn.jsdelivr.net/npm//vega-lib?noext\",\n",
       "      \"vega-lite\": \"https://cdn.jsdelivr.net/npm//vega-lite@4.8.1?noext\",\n",
       "      \"vega-embed\": \"https://cdn.jsdelivr.net/npm//vega-embed@6?noext\",\n",
       "    };\n",
       "\n",
       "    function loadScript(lib) {\n",
       "      return new Promise(function(resolve, reject) {\n",
       "        var s = document.createElement('script');\n",
       "        s.src = paths[lib];\n",
       "        s.async = true;\n",
       "        s.onload = () => resolve(paths[lib]);\n",
       "        s.onerror = () => reject(`Error loading script: ${paths[lib]}`);\n",
       "        document.getElementsByTagName(\"head\")[0].appendChild(s);\n",
       "      });\n",
       "    }\n",
       "\n",
       "    function showError(err) {\n",
       "      outputDiv.innerHTML = `<div class=\"error\" style=\"color:red;\">${err}</div>`;\n",
       "      throw err;\n",
       "    }\n",
       "\n",
       "    function displayChart(vegaEmbed) {\n",
       "      vegaEmbed(outputDiv, spec, embedOpt)\n",
       "        .catch(err => showError(`Javascript Error: ${err.message}<br>This usually means there's a typo in your chart specification. See the javascript console for the full traceback.`));\n",
       "    }\n",
       "\n",
       "    if(typeof define === \"function\" && define.amd) {\n",
       "      requirejs.config({paths});\n",
       "      require([\"vega-embed\"], displayChart, err => showError(`Error loading script: ${err.message}`));\n",
       "    } else if (typeof vegaEmbed === \"function\") {\n",
       "      displayChart(vegaEmbed);\n",
       "    } else {\n",
       "      loadScript(\"vega\")\n",
       "        .then(() => loadScript(\"vega-lite\"))\n",
       "        .then(() => loadScript(\"vega-embed\"))\n",
       "        .catch(showError)\n",
       "        .then(() => displayChart(vegaEmbed));\n",
       "    }\n",
       "  })({\"config\": {\"view\": {\"continuousWidth\": 400, \"continuousHeight\": 300}}, \"layer\": [{\"mark\": \"bar\", \"encoding\": {\"x\": {\"type\": \"nominal\", \"axis\": {\"labelAngle\": 0}, \"field\": \"Race\", \"sort\": {\"field\": \"Letters\", \"op\": \"count\", \"order\": \"ascending\"}}, \"y\": {\"type\": \"quantitative\", \"field\": \"Amount\"}}, \"height\": 300, \"title\": \"Officer Demographics MNPD - 2012\", \"width\": 800}, {\"mark\": {\"type\": \"text\", \"dy\": -10}, \"encoding\": {\"text\": {\"type\": \"nominal\", \"field\": \"Percentage\"}, \"x\": {\"type\": \"nominal\", \"axis\": {\"labelAngle\": 0}, \"field\": \"Race\", \"sort\": {\"field\": \"Letters\", \"op\": \"count\", \"order\": \"ascending\"}}, \"y\": {\"type\": \"quantitative\", \"field\": \"Amount\"}}, \"height\": 300, \"title\": \"Officer Demographics MNPD - 2012\", \"width\": 800}], \"data\": {\"name\": \"data-9eec67c3b1f85fe894c54121c6959f75\"}, \"$schema\": \"https://vega.github.io/schema/vega-lite/v4.8.1.json\", \"datasets\": {\"data-9eec67c3b1f85fe894c54121c6959f75\": [{\"Race\": \"white\", \"Amount\": 1547, \"Percentage\": \"76.2%\"}, {\"Race\": \"black\", \"Amount\": 429, \"Percentage\": \"21.1%\"}, {\"Race\": \"hispanic\", \"Amount\": 26, \"Percentage\": \"1.3%\"}, {\"Race\": \"asian/pacific islander\", \"Amount\": 23, \"Percentage\": \"1.1%\"}, {\"Race\": \"native american\", \"Amount\": 3, \"Percentage\": \"0.1%\"}, {\"Race\": \"unknown\", \"Amount\": 1, \"Percentage\": \"0.0%\"}]}}, {\"mode\": \"vega-lite\"});\n",
       "</script>"
      ],
      "text/plain": [
       "alt.LayerChart(...)"
      ]
     },
     "execution_count": 17,
     "metadata": {},
     "output_type": "execute_result"
    }
   ],
   "source": [
    "twelve = alt.Chart(chart12, title= 'Officer Demographics MNPD - 2012').mark_bar().encode(\n",
    "    alt.X('Race', axis=alt.Axis(labelAngle=0),sort=alt.EncodingSortField(field=\"Letters\", op=\"count\", order='ascending')),\n",
    "    alt.Y('Amount')).properties(\n",
    "    width=800,\n",
    "    height=300\n",
    ")\n",
    "\n",
    "text = twelve.mark_text(dy=-10).encode(text='Percentage')\n",
    "\n",
    "twelve + text"
   ]
  },
  {
   "cell_type": "markdown",
   "id": "93517fa5-b4de-4a18-accf-07d5e3cb27ff",
   "metadata": {},
   "source": [
    "### Demographic Breakdown in 2013"
   ]
  },
  {
   "cell_type": "code",
   "execution_count": 18,
   "id": "0d9af0cf-e218-4372-905d-ed07a4375904",
   "metadata": {},
   "outputs": [],
   "source": [
    "roster_2013 = year_race.loc[year_race['year'] == 2013]\n",
    "chart13 = roster_2013.value_counts().reset_index()\n",
    "del chart13['year']\n",
    "chart13.columns = ['Race', 'Amount']"
   ]
  },
  {
   "cell_type": "code",
   "execution_count": 19,
   "id": "c2d1ce4e-9e31-4617-a14b-51aae3246ae0",
   "metadata": {},
   "outputs": [],
   "source": [
    "chart13['Percentage'] = ((chart13['Amount']/chart13['Amount'].sum())*100).round(1)\n",
    "chart13['Percentage'] = chart13['Percentage'].astype(str) + '%'"
   ]
  },
  {
   "cell_type": "code",
   "execution_count": 20,
   "id": "f5b6f8b7-69b0-4642-ac34-2e7452c47730",
   "metadata": {},
   "outputs": [
    {
     "data": {
      "text/html": [
       "<div>\n",
       "<style scoped>\n",
       "    .dataframe tbody tr th:only-of-type {\n",
       "        vertical-align: middle;\n",
       "    }\n",
       "\n",
       "    .dataframe tbody tr th {\n",
       "        vertical-align: top;\n",
       "    }\n",
       "\n",
       "    .dataframe thead th {\n",
       "        text-align: right;\n",
       "    }\n",
       "</style>\n",
       "<table border=\"1\" class=\"dataframe\">\n",
       "  <thead>\n",
       "    <tr style=\"text-align: right;\">\n",
       "      <th></th>\n",
       "      <th>Race</th>\n",
       "      <th>Amount</th>\n",
       "      <th>Percentage</th>\n",
       "    </tr>\n",
       "  </thead>\n",
       "  <tbody>\n",
       "    <tr>\n",
       "      <th>0</th>\n",
       "      <td>white</td>\n",
       "      <td>1493</td>\n",
       "      <td>77.2%</td>\n",
       "    </tr>\n",
       "    <tr>\n",
       "      <th>1</th>\n",
       "      <td>black</td>\n",
       "      <td>381</td>\n",
       "      <td>19.7%</td>\n",
       "    </tr>\n",
       "    <tr>\n",
       "      <th>2</th>\n",
       "      <td>hispanic</td>\n",
       "      <td>30</td>\n",
       "      <td>1.6%</td>\n",
       "    </tr>\n",
       "    <tr>\n",
       "      <th>3</th>\n",
       "      <td>asian/pacific islander</td>\n",
       "      <td>25</td>\n",
       "      <td>1.3%</td>\n",
       "    </tr>\n",
       "    <tr>\n",
       "      <th>4</th>\n",
       "      <td>native american</td>\n",
       "      <td>2</td>\n",
       "      <td>0.1%</td>\n",
       "    </tr>\n",
       "    <tr>\n",
       "      <th>5</th>\n",
       "      <td>unknown</td>\n",
       "      <td>2</td>\n",
       "      <td>0.1%</td>\n",
       "    </tr>\n",
       "  </tbody>\n",
       "</table>\n",
       "</div>"
      ],
      "text/plain": [
       "                     Race  Amount Percentage\n",
       "0                   white    1493      77.2%\n",
       "1                   black     381      19.7%\n",
       "2                hispanic      30       1.6%\n",
       "3  asian/pacific islander      25       1.3%\n",
       "4         native american       2       0.1%\n",
       "5                 unknown       2       0.1%"
      ]
     },
     "execution_count": 20,
     "metadata": {},
     "output_type": "execute_result"
    }
   ],
   "source": [
    "chart13"
   ]
  },
  {
   "cell_type": "code",
   "execution_count": 21,
   "id": "827a23fb-a082-4751-8160-0e523b757089",
   "metadata": {},
   "outputs": [
    {
     "data": {
      "text/html": [
       "\n",
       "<div id=\"altair-viz-a1f2d1920871412da8a45a9ecb210be6\"></div>\n",
       "<script type=\"text/javascript\">\n",
       "  (function(spec, embedOpt){\n",
       "    let outputDiv = document.currentScript.previousElementSibling;\n",
       "    if (outputDiv.id !== \"altair-viz-a1f2d1920871412da8a45a9ecb210be6\") {\n",
       "      outputDiv = document.getElementById(\"altair-viz-a1f2d1920871412da8a45a9ecb210be6\");\n",
       "    }\n",
       "    const paths = {\n",
       "      \"vega\": \"https://cdn.jsdelivr.net/npm//vega@5?noext\",\n",
       "      \"vega-lib\": \"https://cdn.jsdelivr.net/npm//vega-lib?noext\",\n",
       "      \"vega-lite\": \"https://cdn.jsdelivr.net/npm//vega-lite@4.8.1?noext\",\n",
       "      \"vega-embed\": \"https://cdn.jsdelivr.net/npm//vega-embed@6?noext\",\n",
       "    };\n",
       "\n",
       "    function loadScript(lib) {\n",
       "      return new Promise(function(resolve, reject) {\n",
       "        var s = document.createElement('script');\n",
       "        s.src = paths[lib];\n",
       "        s.async = true;\n",
       "        s.onload = () => resolve(paths[lib]);\n",
       "        s.onerror = () => reject(`Error loading script: ${paths[lib]}`);\n",
       "        document.getElementsByTagName(\"head\")[0].appendChild(s);\n",
       "      });\n",
       "    }\n",
       "\n",
       "    function showError(err) {\n",
       "      outputDiv.innerHTML = `<div class=\"error\" style=\"color:red;\">${err}</div>`;\n",
       "      throw err;\n",
       "    }\n",
       "\n",
       "    function displayChart(vegaEmbed) {\n",
       "      vegaEmbed(outputDiv, spec, embedOpt)\n",
       "        .catch(err => showError(`Javascript Error: ${err.message}<br>This usually means there's a typo in your chart specification. See the javascript console for the full traceback.`));\n",
       "    }\n",
       "\n",
       "    if(typeof define === \"function\" && define.amd) {\n",
       "      requirejs.config({paths});\n",
       "      require([\"vega-embed\"], displayChart, err => showError(`Error loading script: ${err.message}`));\n",
       "    } else if (typeof vegaEmbed === \"function\") {\n",
       "      displayChart(vegaEmbed);\n",
       "    } else {\n",
       "      loadScript(\"vega\")\n",
       "        .then(() => loadScript(\"vega-lite\"))\n",
       "        .then(() => loadScript(\"vega-embed\"))\n",
       "        .catch(showError)\n",
       "        .then(() => displayChart(vegaEmbed));\n",
       "    }\n",
       "  })({\"config\": {\"view\": {\"continuousWidth\": 400, \"continuousHeight\": 300}}, \"layer\": [{\"mark\": \"bar\", \"encoding\": {\"x\": {\"type\": \"nominal\", \"axis\": {\"labelAngle\": 0}, \"field\": \"Race\", \"sort\": {\"field\": \"Letters\", \"op\": \"count\", \"order\": \"ascending\"}}, \"y\": {\"type\": \"quantitative\", \"field\": \"Amount\"}}, \"height\": 300, \"title\": \"Officer Demographics MNPD - 2013\", \"width\": 800}, {\"mark\": {\"type\": \"text\", \"dy\": -10}, \"encoding\": {\"text\": {\"type\": \"nominal\", \"field\": \"Percentage\"}, \"x\": {\"type\": \"nominal\", \"axis\": {\"labelAngle\": 0}, \"field\": \"Race\", \"sort\": {\"field\": \"Letters\", \"op\": \"count\", \"order\": \"ascending\"}}, \"y\": {\"type\": \"quantitative\", \"field\": \"Amount\"}}, \"height\": 300, \"title\": \"Officer Demographics MNPD - 2013\", \"width\": 800}], \"data\": {\"name\": \"data-7bb0b57ca89ebb70188291daa22dafd4\"}, \"$schema\": \"https://vega.github.io/schema/vega-lite/v4.8.1.json\", \"datasets\": {\"data-7bb0b57ca89ebb70188291daa22dafd4\": [{\"Race\": \"white\", \"Amount\": 1493, \"Percentage\": \"77.2%\"}, {\"Race\": \"black\", \"Amount\": 381, \"Percentage\": \"19.7%\"}, {\"Race\": \"hispanic\", \"Amount\": 30, \"Percentage\": \"1.6%\"}, {\"Race\": \"asian/pacific islander\", \"Amount\": 25, \"Percentage\": \"1.3%\"}, {\"Race\": \"native american\", \"Amount\": 2, \"Percentage\": \"0.1%\"}, {\"Race\": \"unknown\", \"Amount\": 2, \"Percentage\": \"0.1%\"}]}}, {\"mode\": \"vega-lite\"});\n",
       "</script>"
      ],
      "text/plain": [
       "alt.LayerChart(...)"
      ]
     },
     "execution_count": 21,
     "metadata": {},
     "output_type": "execute_result"
    }
   ],
   "source": [
    "thirteen = alt.Chart(chart13, title= 'Officer Demographics MNPD - 2013').mark_bar().encode(\n",
    "    alt.X('Race', axis=alt.Axis(labelAngle=0),sort=alt.EncodingSortField(field=\"Letters\", op=\"count\", order='ascending')),\n",
    "    alt.Y('Amount')).properties(\n",
    "    width=800,\n",
    "    height=300\n",
    ")\n",
    "\n",
    "text = thirteen.mark_text(dy=-10).encode(text='Percentage')\n",
    "\n",
    "thirteen + text"
   ]
  },
  {
   "cell_type": "markdown",
   "id": "6f43ea5e-5aae-446a-bd7a-db362ef19177",
   "metadata": {},
   "source": [
    "### Demographic Breakdown in 2014"
   ]
  },
  {
   "cell_type": "code",
   "execution_count": 22,
   "id": "134dee7a-a368-431e-aaed-1d7221e302c8",
   "metadata": {},
   "outputs": [],
   "source": [
    "roster_2014 = year_race.loc[year_race['year'] == 2014]\n",
    "chart14 = roster_2014.value_counts().reset_index()\n",
    "del chart14['year']\n",
    "chart14.columns = ['Race', 'Amount']"
   ]
  },
  {
   "cell_type": "code",
   "execution_count": 23,
   "id": "4cbc5074-f6a8-4ba1-baaa-fa1c525f4b01",
   "metadata": {},
   "outputs": [],
   "source": [
    "chart14['Percentage'] = ((chart14['Amount']/chart14['Amount'].sum())*100).round(1)\n",
    "chart14['Percentage'] = chart14['Percentage'].astype(str) + '%'"
   ]
  },
  {
   "cell_type": "code",
   "execution_count": 24,
   "id": "5dcfc127-def3-43a3-9490-2c40e43f31eb",
   "metadata": {},
   "outputs": [
    {
     "data": {
      "text/html": [
       "<div>\n",
       "<style scoped>\n",
       "    .dataframe tbody tr th:only-of-type {\n",
       "        vertical-align: middle;\n",
       "    }\n",
       "\n",
       "    .dataframe tbody tr th {\n",
       "        vertical-align: top;\n",
       "    }\n",
       "\n",
       "    .dataframe thead th {\n",
       "        text-align: right;\n",
       "    }\n",
       "</style>\n",
       "<table border=\"1\" class=\"dataframe\">\n",
       "  <thead>\n",
       "    <tr style=\"text-align: right;\">\n",
       "      <th></th>\n",
       "      <th>Race</th>\n",
       "      <th>Amount</th>\n",
       "      <th>Percentage</th>\n",
       "    </tr>\n",
       "  </thead>\n",
       "  <tbody>\n",
       "    <tr>\n",
       "      <th>0</th>\n",
       "      <td>white</td>\n",
       "      <td>1517</td>\n",
       "      <td>78.6%</td>\n",
       "    </tr>\n",
       "    <tr>\n",
       "      <th>1</th>\n",
       "      <td>black</td>\n",
       "      <td>357</td>\n",
       "      <td>18.5%</td>\n",
       "    </tr>\n",
       "    <tr>\n",
       "      <th>2</th>\n",
       "      <td>hispanic</td>\n",
       "      <td>28</td>\n",
       "      <td>1.5%</td>\n",
       "    </tr>\n",
       "    <tr>\n",
       "      <th>3</th>\n",
       "      <td>asian/pacific islander</td>\n",
       "      <td>24</td>\n",
       "      <td>1.2%</td>\n",
       "    </tr>\n",
       "    <tr>\n",
       "      <th>4</th>\n",
       "      <td>native american</td>\n",
       "      <td>2</td>\n",
       "      <td>0.1%</td>\n",
       "    </tr>\n",
       "    <tr>\n",
       "      <th>5</th>\n",
       "      <td>unknown</td>\n",
       "      <td>2</td>\n",
       "      <td>0.1%</td>\n",
       "    </tr>\n",
       "  </tbody>\n",
       "</table>\n",
       "</div>"
      ],
      "text/plain": [
       "                     Race  Amount Percentage\n",
       "0                   white    1517      78.6%\n",
       "1                   black     357      18.5%\n",
       "2                hispanic      28       1.5%\n",
       "3  asian/pacific islander      24       1.2%\n",
       "4         native american       2       0.1%\n",
       "5                 unknown       2       0.1%"
      ]
     },
     "execution_count": 24,
     "metadata": {},
     "output_type": "execute_result"
    }
   ],
   "source": [
    "chart14"
   ]
  },
  {
   "cell_type": "code",
   "execution_count": 25,
   "id": "f00611a6-7272-4bf4-a160-03e64ad8ffe7",
   "metadata": {},
   "outputs": [
    {
     "data": {
      "text/html": [
       "\n",
       "<div id=\"altair-viz-b46bf9d3ba1d46a1b2d1ee233b042532\"></div>\n",
       "<script type=\"text/javascript\">\n",
       "  (function(spec, embedOpt){\n",
       "    let outputDiv = document.currentScript.previousElementSibling;\n",
       "    if (outputDiv.id !== \"altair-viz-b46bf9d3ba1d46a1b2d1ee233b042532\") {\n",
       "      outputDiv = document.getElementById(\"altair-viz-b46bf9d3ba1d46a1b2d1ee233b042532\");\n",
       "    }\n",
       "    const paths = {\n",
       "      \"vega\": \"https://cdn.jsdelivr.net/npm//vega@5?noext\",\n",
       "      \"vega-lib\": \"https://cdn.jsdelivr.net/npm//vega-lib?noext\",\n",
       "      \"vega-lite\": \"https://cdn.jsdelivr.net/npm//vega-lite@4.8.1?noext\",\n",
       "      \"vega-embed\": \"https://cdn.jsdelivr.net/npm//vega-embed@6?noext\",\n",
       "    };\n",
       "\n",
       "    function loadScript(lib) {\n",
       "      return new Promise(function(resolve, reject) {\n",
       "        var s = document.createElement('script');\n",
       "        s.src = paths[lib];\n",
       "        s.async = true;\n",
       "        s.onload = () => resolve(paths[lib]);\n",
       "        s.onerror = () => reject(`Error loading script: ${paths[lib]}`);\n",
       "        document.getElementsByTagName(\"head\")[0].appendChild(s);\n",
       "      });\n",
       "    }\n",
       "\n",
       "    function showError(err) {\n",
       "      outputDiv.innerHTML = `<div class=\"error\" style=\"color:red;\">${err}</div>`;\n",
       "      throw err;\n",
       "    }\n",
       "\n",
       "    function displayChart(vegaEmbed) {\n",
       "      vegaEmbed(outputDiv, spec, embedOpt)\n",
       "        .catch(err => showError(`Javascript Error: ${err.message}<br>This usually means there's a typo in your chart specification. See the javascript console for the full traceback.`));\n",
       "    }\n",
       "\n",
       "    if(typeof define === \"function\" && define.amd) {\n",
       "      requirejs.config({paths});\n",
       "      require([\"vega-embed\"], displayChart, err => showError(`Error loading script: ${err.message}`));\n",
       "    } else if (typeof vegaEmbed === \"function\") {\n",
       "      displayChart(vegaEmbed);\n",
       "    } else {\n",
       "      loadScript(\"vega\")\n",
       "        .then(() => loadScript(\"vega-lite\"))\n",
       "        .then(() => loadScript(\"vega-embed\"))\n",
       "        .catch(showError)\n",
       "        .then(() => displayChart(vegaEmbed));\n",
       "    }\n",
       "  })({\"config\": {\"view\": {\"continuousWidth\": 400, \"continuousHeight\": 300}}, \"layer\": [{\"mark\": \"bar\", \"encoding\": {\"x\": {\"type\": \"nominal\", \"axis\": {\"labelAngle\": 0}, \"field\": \"Race\", \"sort\": {\"field\": \"Letters\", \"op\": \"count\", \"order\": \"ascending\"}}, \"y\": {\"type\": \"quantitative\", \"field\": \"Amount\"}}, \"height\": 300, \"title\": \"Officer Demographics MNPD - 2014\", \"width\": 800}, {\"mark\": {\"type\": \"text\", \"dy\": -10}, \"encoding\": {\"text\": {\"type\": \"nominal\", \"field\": \"Percentage\"}, \"x\": {\"type\": \"nominal\", \"axis\": {\"labelAngle\": 0}, \"field\": \"Race\", \"sort\": {\"field\": \"Letters\", \"op\": \"count\", \"order\": \"ascending\"}}, \"y\": {\"type\": \"quantitative\", \"field\": \"Amount\"}}, \"height\": 300, \"title\": \"Officer Demographics MNPD - 2014\", \"width\": 800}], \"data\": {\"name\": \"data-d3b0abc63cd2ecdc9fc7d3020250f51b\"}, \"$schema\": \"https://vega.github.io/schema/vega-lite/v4.8.1.json\", \"datasets\": {\"data-d3b0abc63cd2ecdc9fc7d3020250f51b\": [{\"Race\": \"white\", \"Amount\": 1517, \"Percentage\": \"78.6%\"}, {\"Race\": \"black\", \"Amount\": 357, \"Percentage\": \"18.5%\"}, {\"Race\": \"hispanic\", \"Amount\": 28, \"Percentage\": \"1.5%\"}, {\"Race\": \"asian/pacific islander\", \"Amount\": 24, \"Percentage\": \"1.2%\"}, {\"Race\": \"native american\", \"Amount\": 2, \"Percentage\": \"0.1%\"}, {\"Race\": \"unknown\", \"Amount\": 2, \"Percentage\": \"0.1%\"}]}}, {\"mode\": \"vega-lite\"});\n",
       "</script>"
      ],
      "text/plain": [
       "alt.LayerChart(...)"
      ]
     },
     "execution_count": 25,
     "metadata": {},
     "output_type": "execute_result"
    }
   ],
   "source": [
    "fourteen = alt.Chart(chart14, title= 'Officer Demographics MNPD - 2014').mark_bar().encode(\n",
    "    alt.X('Race', axis=alt.Axis(labelAngle=0),sort=alt.EncodingSortField(field=\"Letters\", op=\"count\", order='ascending')),\n",
    "    alt.Y('Amount')).properties(\n",
    "    width=800,\n",
    "    height=300\n",
    ")\n",
    "\n",
    "text = fourteen.mark_text(dy=-10).encode(text='Percentage')\n",
    "\n",
    "fourteen + text"
   ]
  },
  {
   "cell_type": "markdown",
   "id": "96fa5f0a-d1f4-4c05-91d8-9d5b07e695ed",
   "metadata": {},
   "source": [
    "### Demographic Breakdown in 2015"
   ]
  },
  {
   "cell_type": "code",
   "execution_count": 26,
   "id": "49069168-9190-4204-b0ad-7e216bfb5269",
   "metadata": {},
   "outputs": [],
   "source": [
    "roster_2015 = year_race.loc[year_race['year'] == 2015]\n",
    "chart15 = roster_2015.value_counts().reset_index()\n",
    "del chart15['year']\n",
    "chart15.columns = ['Race', 'Amount']"
   ]
  },
  {
   "cell_type": "code",
   "execution_count": 27,
   "id": "ceae8112-61a8-4894-bc1c-5a4dd97cc0b0",
   "metadata": {},
   "outputs": [],
   "source": [
    "chart15['Percentage'] = ((chart15['Amount']/chart15['Amount'].sum())*100).round(1)\n",
    "chart15['Percentage'] = chart15['Percentage'].astype(str) + '%'"
   ]
  },
  {
   "cell_type": "code",
   "execution_count": 28,
   "id": "03144f59-9a42-47c2-9e5e-a70a47eaf4e4",
   "metadata": {},
   "outputs": [
    {
     "data": {
      "text/html": [
       "<div>\n",
       "<style scoped>\n",
       "    .dataframe tbody tr th:only-of-type {\n",
       "        vertical-align: middle;\n",
       "    }\n",
       "\n",
       "    .dataframe tbody tr th {\n",
       "        vertical-align: top;\n",
       "    }\n",
       "\n",
       "    .dataframe thead th {\n",
       "        text-align: right;\n",
       "    }\n",
       "</style>\n",
       "<table border=\"1\" class=\"dataframe\">\n",
       "  <thead>\n",
       "    <tr style=\"text-align: right;\">\n",
       "      <th></th>\n",
       "      <th>Race</th>\n",
       "      <th>Amount</th>\n",
       "      <th>Percentage</th>\n",
       "    </tr>\n",
       "  </thead>\n",
       "  <tbody>\n",
       "    <tr>\n",
       "      <th>0</th>\n",
       "      <td>white</td>\n",
       "      <td>1552</td>\n",
       "      <td>79.4%</td>\n",
       "    </tr>\n",
       "    <tr>\n",
       "      <th>1</th>\n",
       "      <td>black</td>\n",
       "      <td>342</td>\n",
       "      <td>17.5%</td>\n",
       "    </tr>\n",
       "    <tr>\n",
       "      <th>2</th>\n",
       "      <td>hispanic</td>\n",
       "      <td>31</td>\n",
       "      <td>1.6%</td>\n",
       "    </tr>\n",
       "    <tr>\n",
       "      <th>3</th>\n",
       "      <td>asian/pacific islander</td>\n",
       "      <td>25</td>\n",
       "      <td>1.3%</td>\n",
       "    </tr>\n",
       "    <tr>\n",
       "      <th>4</th>\n",
       "      <td>native american</td>\n",
       "      <td>2</td>\n",
       "      <td>0.1%</td>\n",
       "    </tr>\n",
       "    <tr>\n",
       "      <th>5</th>\n",
       "      <td>unknown</td>\n",
       "      <td>2</td>\n",
       "      <td>0.1%</td>\n",
       "    </tr>\n",
       "  </tbody>\n",
       "</table>\n",
       "</div>"
      ],
      "text/plain": [
       "                     Race  Amount Percentage\n",
       "0                   white    1552      79.4%\n",
       "1                   black     342      17.5%\n",
       "2                hispanic      31       1.6%\n",
       "3  asian/pacific islander      25       1.3%\n",
       "4         native american       2       0.1%\n",
       "5                 unknown       2       0.1%"
      ]
     },
     "execution_count": 28,
     "metadata": {},
     "output_type": "execute_result"
    }
   ],
   "source": [
    "chart15"
   ]
  },
  {
   "cell_type": "code",
   "execution_count": 29,
   "id": "15c47c21-f8f7-4ce2-a808-c9dacb895a0d",
   "metadata": {},
   "outputs": [
    {
     "data": {
      "text/html": [
       "\n",
       "<div id=\"altair-viz-b0d6000104854f16a415fef7a5034397\"></div>\n",
       "<script type=\"text/javascript\">\n",
       "  (function(spec, embedOpt){\n",
       "    let outputDiv = document.currentScript.previousElementSibling;\n",
       "    if (outputDiv.id !== \"altair-viz-b0d6000104854f16a415fef7a5034397\") {\n",
       "      outputDiv = document.getElementById(\"altair-viz-b0d6000104854f16a415fef7a5034397\");\n",
       "    }\n",
       "    const paths = {\n",
       "      \"vega\": \"https://cdn.jsdelivr.net/npm//vega@5?noext\",\n",
       "      \"vega-lib\": \"https://cdn.jsdelivr.net/npm//vega-lib?noext\",\n",
       "      \"vega-lite\": \"https://cdn.jsdelivr.net/npm//vega-lite@4.8.1?noext\",\n",
       "      \"vega-embed\": \"https://cdn.jsdelivr.net/npm//vega-embed@6?noext\",\n",
       "    };\n",
       "\n",
       "    function loadScript(lib) {\n",
       "      return new Promise(function(resolve, reject) {\n",
       "        var s = document.createElement('script');\n",
       "        s.src = paths[lib];\n",
       "        s.async = true;\n",
       "        s.onload = () => resolve(paths[lib]);\n",
       "        s.onerror = () => reject(`Error loading script: ${paths[lib]}`);\n",
       "        document.getElementsByTagName(\"head\")[0].appendChild(s);\n",
       "      });\n",
       "    }\n",
       "\n",
       "    function showError(err) {\n",
       "      outputDiv.innerHTML = `<div class=\"error\" style=\"color:red;\">${err}</div>`;\n",
       "      throw err;\n",
       "    }\n",
       "\n",
       "    function displayChart(vegaEmbed) {\n",
       "      vegaEmbed(outputDiv, spec, embedOpt)\n",
       "        .catch(err => showError(`Javascript Error: ${err.message}<br>This usually means there's a typo in your chart specification. See the javascript console for the full traceback.`));\n",
       "    }\n",
       "\n",
       "    if(typeof define === \"function\" && define.amd) {\n",
       "      requirejs.config({paths});\n",
       "      require([\"vega-embed\"], displayChart, err => showError(`Error loading script: ${err.message}`));\n",
       "    } else if (typeof vegaEmbed === \"function\") {\n",
       "      displayChart(vegaEmbed);\n",
       "    } else {\n",
       "      loadScript(\"vega\")\n",
       "        .then(() => loadScript(\"vega-lite\"))\n",
       "        .then(() => loadScript(\"vega-embed\"))\n",
       "        .catch(showError)\n",
       "        .then(() => displayChart(vegaEmbed));\n",
       "    }\n",
       "  })({\"config\": {\"view\": {\"continuousWidth\": 400, \"continuousHeight\": 300}}, \"layer\": [{\"mark\": \"bar\", \"encoding\": {\"x\": {\"type\": \"nominal\", \"axis\": {\"labelAngle\": 0}, \"field\": \"Race\", \"sort\": {\"field\": \"Letters\", \"op\": \"count\", \"order\": \"ascending\"}}, \"y\": {\"type\": \"quantitative\", \"field\": \"Amount\"}}, \"height\": 300, \"title\": \"Officer Demographics MNPD - 2015\", \"width\": 800}, {\"mark\": {\"type\": \"text\", \"dy\": -10}, \"encoding\": {\"text\": {\"type\": \"nominal\", \"field\": \"Percentage\"}, \"x\": {\"type\": \"nominal\", \"axis\": {\"labelAngle\": 0}, \"field\": \"Race\", \"sort\": {\"field\": \"Letters\", \"op\": \"count\", \"order\": \"ascending\"}}, \"y\": {\"type\": \"quantitative\", \"field\": \"Amount\"}}, \"height\": 300, \"title\": \"Officer Demographics MNPD - 2015\", \"width\": 800}], \"data\": {\"name\": \"data-9fc1c603fe8f1164edb5c6b156f8e165\"}, \"$schema\": \"https://vega.github.io/schema/vega-lite/v4.8.1.json\", \"datasets\": {\"data-9fc1c603fe8f1164edb5c6b156f8e165\": [{\"Race\": \"white\", \"Amount\": 1552, \"Percentage\": \"79.4%\"}, {\"Race\": \"black\", \"Amount\": 342, \"Percentage\": \"17.5%\"}, {\"Race\": \"hispanic\", \"Amount\": 31, \"Percentage\": \"1.6%\"}, {\"Race\": \"asian/pacific islander\", \"Amount\": 25, \"Percentage\": \"1.3%\"}, {\"Race\": \"native american\", \"Amount\": 2, \"Percentage\": \"0.1%\"}, {\"Race\": \"unknown\", \"Amount\": 2, \"Percentage\": \"0.1%\"}]}}, {\"mode\": \"vega-lite\"});\n",
       "</script>"
      ],
      "text/plain": [
       "alt.LayerChart(...)"
      ]
     },
     "execution_count": 29,
     "metadata": {},
     "output_type": "execute_result"
    }
   ],
   "source": [
    "fifteen = alt.Chart(chart15, title= 'Officer Demographics MNPD - 2015').mark_bar().encode(\n",
    "    alt.X('Race', axis=alt.Axis(labelAngle=0),sort=alt.EncodingSortField(field=\"Letters\", op=\"count\", order='ascending')),\n",
    "    alt.Y('Amount')).properties(\n",
    "    width=800,\n",
    "    height=300\n",
    ")\n",
    "\n",
    "text = fifteen.mark_text(dy=-10).encode(text='Percentage')\n",
    "\n",
    "fifteen + text"
   ]
  },
  {
   "cell_type": "markdown",
   "id": "9c258046-2be4-45cc-b7f0-ce18c52606b5",
   "metadata": {},
   "source": [
    "### Demographic Breakdown in 2016"
   ]
  },
  {
   "cell_type": "code",
   "execution_count": 30,
   "id": "33fc0595-e2c4-46d9-9e0e-c62d10afb2de",
   "metadata": {},
   "outputs": [],
   "source": [
    "roster_2016 = year_race.loc[year_race['year'] == 2016]\n",
    "chart16 = roster_2016.value_counts().reset_index()\n",
    "del chart16['year']\n",
    "chart16.columns = ['Race', 'Amount']"
   ]
  },
  {
   "cell_type": "code",
   "execution_count": 31,
   "id": "3470549f-6627-4b26-a600-a3fbf966d334",
   "metadata": {},
   "outputs": [],
   "source": [
    "chart16['Percentage'] = ((chart16['Amount']/chart16['Amount'].sum())*100).round(1)\n",
    "chart16['Percentage'] = chart16['Percentage'].astype(str) + '%'"
   ]
  },
  {
   "cell_type": "code",
   "execution_count": 32,
   "id": "00a2f475-bdb4-4788-9b0d-15640f5025a1",
   "metadata": {},
   "outputs": [
    {
     "data": {
      "text/html": [
       "<div>\n",
       "<style scoped>\n",
       "    .dataframe tbody tr th:only-of-type {\n",
       "        vertical-align: middle;\n",
       "    }\n",
       "\n",
       "    .dataframe tbody tr th {\n",
       "        vertical-align: top;\n",
       "    }\n",
       "\n",
       "    .dataframe thead th {\n",
       "        text-align: right;\n",
       "    }\n",
       "</style>\n",
       "<table border=\"1\" class=\"dataframe\">\n",
       "  <thead>\n",
       "    <tr style=\"text-align: right;\">\n",
       "      <th></th>\n",
       "      <th>Race</th>\n",
       "      <th>Amount</th>\n",
       "      <th>Percentage</th>\n",
       "    </tr>\n",
       "  </thead>\n",
       "  <tbody>\n",
       "    <tr>\n",
       "      <th>0</th>\n",
       "      <td>white</td>\n",
       "      <td>1587</td>\n",
       "      <td>78.8%</td>\n",
       "    </tr>\n",
       "    <tr>\n",
       "      <th>1</th>\n",
       "      <td>black</td>\n",
       "      <td>361</td>\n",
       "      <td>17.9%</td>\n",
       "    </tr>\n",
       "    <tr>\n",
       "      <th>2</th>\n",
       "      <td>hispanic</td>\n",
       "      <td>36</td>\n",
       "      <td>1.8%</td>\n",
       "    </tr>\n",
       "    <tr>\n",
       "      <th>3</th>\n",
       "      <td>asian/pacific islander</td>\n",
       "      <td>26</td>\n",
       "      <td>1.3%</td>\n",
       "    </tr>\n",
       "    <tr>\n",
       "      <th>4</th>\n",
       "      <td>unknown</td>\n",
       "      <td>3</td>\n",
       "      <td>0.1%</td>\n",
       "    </tr>\n",
       "    <tr>\n",
       "      <th>5</th>\n",
       "      <td>native american</td>\n",
       "      <td>1</td>\n",
       "      <td>0.0%</td>\n",
       "    </tr>\n",
       "  </tbody>\n",
       "</table>\n",
       "</div>"
      ],
      "text/plain": [
       "                     Race  Amount Percentage\n",
       "0                   white    1587      78.8%\n",
       "1                   black     361      17.9%\n",
       "2                hispanic      36       1.8%\n",
       "3  asian/pacific islander      26       1.3%\n",
       "4                 unknown       3       0.1%\n",
       "5         native american       1       0.0%"
      ]
     },
     "execution_count": 32,
     "metadata": {},
     "output_type": "execute_result"
    }
   ],
   "source": [
    "chart16"
   ]
  },
  {
   "cell_type": "code",
   "execution_count": 33,
   "id": "7bc41653-fb53-4df1-aeb2-ee687d6e7fac",
   "metadata": {},
   "outputs": [
    {
     "data": {
      "text/html": [
       "\n",
       "<div id=\"altair-viz-4d6e2a27000146f8b3b9fdee967ce529\"></div>\n",
       "<script type=\"text/javascript\">\n",
       "  (function(spec, embedOpt){\n",
       "    let outputDiv = document.currentScript.previousElementSibling;\n",
       "    if (outputDiv.id !== \"altair-viz-4d6e2a27000146f8b3b9fdee967ce529\") {\n",
       "      outputDiv = document.getElementById(\"altair-viz-4d6e2a27000146f8b3b9fdee967ce529\");\n",
       "    }\n",
       "    const paths = {\n",
       "      \"vega\": \"https://cdn.jsdelivr.net/npm//vega@5?noext\",\n",
       "      \"vega-lib\": \"https://cdn.jsdelivr.net/npm//vega-lib?noext\",\n",
       "      \"vega-lite\": \"https://cdn.jsdelivr.net/npm//vega-lite@4.8.1?noext\",\n",
       "      \"vega-embed\": \"https://cdn.jsdelivr.net/npm//vega-embed@6?noext\",\n",
       "    };\n",
       "\n",
       "    function loadScript(lib) {\n",
       "      return new Promise(function(resolve, reject) {\n",
       "        var s = document.createElement('script');\n",
       "        s.src = paths[lib];\n",
       "        s.async = true;\n",
       "        s.onload = () => resolve(paths[lib]);\n",
       "        s.onerror = () => reject(`Error loading script: ${paths[lib]}`);\n",
       "        document.getElementsByTagName(\"head\")[0].appendChild(s);\n",
       "      });\n",
       "    }\n",
       "\n",
       "    function showError(err) {\n",
       "      outputDiv.innerHTML = `<div class=\"error\" style=\"color:red;\">${err}</div>`;\n",
       "      throw err;\n",
       "    }\n",
       "\n",
       "    function displayChart(vegaEmbed) {\n",
       "      vegaEmbed(outputDiv, spec, embedOpt)\n",
       "        .catch(err => showError(`Javascript Error: ${err.message}<br>This usually means there's a typo in your chart specification. See the javascript console for the full traceback.`));\n",
       "    }\n",
       "\n",
       "    if(typeof define === \"function\" && define.amd) {\n",
       "      requirejs.config({paths});\n",
       "      require([\"vega-embed\"], displayChart, err => showError(`Error loading script: ${err.message}`));\n",
       "    } else if (typeof vegaEmbed === \"function\") {\n",
       "      displayChart(vegaEmbed);\n",
       "    } else {\n",
       "      loadScript(\"vega\")\n",
       "        .then(() => loadScript(\"vega-lite\"))\n",
       "        .then(() => loadScript(\"vega-embed\"))\n",
       "        .catch(showError)\n",
       "        .then(() => displayChart(vegaEmbed));\n",
       "    }\n",
       "  })({\"config\": {\"view\": {\"continuousWidth\": 400, \"continuousHeight\": 300}}, \"layer\": [{\"mark\": \"bar\", \"encoding\": {\"x\": {\"type\": \"nominal\", \"axis\": {\"labelAngle\": 0}, \"field\": \"Race\", \"sort\": {\"field\": \"Letters\", \"op\": \"count\", \"order\": \"ascending\"}}, \"y\": {\"type\": \"quantitative\", \"field\": \"Amount\"}}, \"height\": 300, \"title\": \"Officer Demographics MNPD - 2016\", \"width\": 800}, {\"mark\": {\"type\": \"text\", \"dy\": -10}, \"encoding\": {\"text\": {\"type\": \"nominal\", \"field\": \"Percentage\"}, \"x\": {\"type\": \"nominal\", \"axis\": {\"labelAngle\": 0}, \"field\": \"Race\", \"sort\": {\"field\": \"Letters\", \"op\": \"count\", \"order\": \"ascending\"}}, \"y\": {\"type\": \"quantitative\", \"field\": \"Amount\"}}, \"height\": 300, \"title\": \"Officer Demographics MNPD - 2016\", \"width\": 800}], \"data\": {\"name\": \"data-241537a78caf6e2ace36002bc3c1edbe\"}, \"$schema\": \"https://vega.github.io/schema/vega-lite/v4.8.1.json\", \"datasets\": {\"data-241537a78caf6e2ace36002bc3c1edbe\": [{\"Race\": \"white\", \"Amount\": 1587, \"Percentage\": \"78.8%\"}, {\"Race\": \"black\", \"Amount\": 361, \"Percentage\": \"17.9%\"}, {\"Race\": \"hispanic\", \"Amount\": 36, \"Percentage\": \"1.8%\"}, {\"Race\": \"asian/pacific islander\", \"Amount\": 26, \"Percentage\": \"1.3%\"}, {\"Race\": \"unknown\", \"Amount\": 3, \"Percentage\": \"0.1%\"}, {\"Race\": \"native american\", \"Amount\": 1, \"Percentage\": \"0.0%\"}]}}, {\"mode\": \"vega-lite\"});\n",
       "</script>"
      ],
      "text/plain": [
       "alt.LayerChart(...)"
      ]
     },
     "execution_count": 33,
     "metadata": {},
     "output_type": "execute_result"
    }
   ],
   "source": [
    "sixteen = alt.Chart(chart16, title= 'Officer Demographics MNPD - 2016').mark_bar().encode(\n",
    "    alt.X('Race', axis=alt.Axis(labelAngle=0),sort=alt.EncodingSortField(field=\"Letters\", op=\"count\", order='ascending')),\n",
    "    alt.Y('Amount')).properties(\n",
    "    width=800,\n",
    "    height=300\n",
    ")\n",
    "\n",
    "text = sixteen.mark_text(dy=-10).encode(text='Percentage')\n",
    "\n",
    "sixteen + text"
   ]
  },
  {
   "cell_type": "markdown",
   "id": "d3ae4021-9651-47bf-9b0d-7e908059b062",
   "metadata": {},
   "source": [
    "### Demographic Breakdown in 2017"
   ]
  },
  {
   "cell_type": "code",
   "execution_count": 34,
   "id": "84697124-0587-4853-b605-585c2222b440",
   "metadata": {},
   "outputs": [],
   "source": [
    "roster_2017 = year_race.loc[year_race['year'] == 2017]\n",
    "chart17 = roster_2017.value_counts().reset_index()\n",
    "del chart17['year']\n",
    "chart17.columns = ['Race', 'Amount']"
   ]
  },
  {
   "cell_type": "code",
   "execution_count": 35,
   "id": "14220f3d-b9f9-4eaf-8477-cc0dab5bfd54",
   "metadata": {},
   "outputs": [],
   "source": [
    "chart17['Percentage'] = ((chart17['Amount']/chart17['Amount'].sum())*100).round(1)\n",
    "chart17['Percentage'] = chart17['Percentage'].astype(str) + '%'"
   ]
  },
  {
   "cell_type": "code",
   "execution_count": 36,
   "id": "94b79aee-ddea-40c9-95c1-066c5c2773b2",
   "metadata": {},
   "outputs": [
    {
     "data": {
      "text/html": [
       "<div>\n",
       "<style scoped>\n",
       "    .dataframe tbody tr th:only-of-type {\n",
       "        vertical-align: middle;\n",
       "    }\n",
       "\n",
       "    .dataframe tbody tr th {\n",
       "        vertical-align: top;\n",
       "    }\n",
       "\n",
       "    .dataframe thead th {\n",
       "        text-align: right;\n",
       "    }\n",
       "</style>\n",
       "<table border=\"1\" class=\"dataframe\">\n",
       "  <thead>\n",
       "    <tr style=\"text-align: right;\">\n",
       "      <th></th>\n",
       "      <th>Race</th>\n",
       "      <th>Amount</th>\n",
       "      <th>Percentage</th>\n",
       "    </tr>\n",
       "  </thead>\n",
       "  <tbody>\n",
       "    <tr>\n",
       "      <th>0</th>\n",
       "      <td>white</td>\n",
       "      <td>1586</td>\n",
       "      <td>78.4%</td>\n",
       "    </tr>\n",
       "    <tr>\n",
       "      <th>1</th>\n",
       "      <td>black</td>\n",
       "      <td>373</td>\n",
       "      <td>18.4%</td>\n",
       "    </tr>\n",
       "    <tr>\n",
       "      <th>2</th>\n",
       "      <td>hispanic</td>\n",
       "      <td>36</td>\n",
       "      <td>1.8%</td>\n",
       "    </tr>\n",
       "    <tr>\n",
       "      <th>3</th>\n",
       "      <td>asian/pacific islander</td>\n",
       "      <td>25</td>\n",
       "      <td>1.2%</td>\n",
       "    </tr>\n",
       "    <tr>\n",
       "      <th>4</th>\n",
       "      <td>unknown</td>\n",
       "      <td>3</td>\n",
       "      <td>0.1%</td>\n",
       "    </tr>\n",
       "    <tr>\n",
       "      <th>5</th>\n",
       "      <td>native american</td>\n",
       "      <td>1</td>\n",
       "      <td>0.0%</td>\n",
       "    </tr>\n",
       "  </tbody>\n",
       "</table>\n",
       "</div>"
      ],
      "text/plain": [
       "                     Race  Amount Percentage\n",
       "0                   white    1586      78.4%\n",
       "1                   black     373      18.4%\n",
       "2                hispanic      36       1.8%\n",
       "3  asian/pacific islander      25       1.2%\n",
       "4                 unknown       3       0.1%\n",
       "5         native american       1       0.0%"
      ]
     },
     "execution_count": 36,
     "metadata": {},
     "output_type": "execute_result"
    }
   ],
   "source": [
    "chart17"
   ]
  },
  {
   "cell_type": "code",
   "execution_count": 37,
   "id": "8d84ace7-0a68-444c-a839-876c3e544d50",
   "metadata": {},
   "outputs": [
    {
     "data": {
      "text/html": [
       "\n",
       "<div id=\"altair-viz-bd1e360f40594e568ac3d22b28729da0\"></div>\n",
       "<script type=\"text/javascript\">\n",
       "  (function(spec, embedOpt){\n",
       "    let outputDiv = document.currentScript.previousElementSibling;\n",
       "    if (outputDiv.id !== \"altair-viz-bd1e360f40594e568ac3d22b28729da0\") {\n",
       "      outputDiv = document.getElementById(\"altair-viz-bd1e360f40594e568ac3d22b28729da0\");\n",
       "    }\n",
       "    const paths = {\n",
       "      \"vega\": \"https://cdn.jsdelivr.net/npm//vega@5?noext\",\n",
       "      \"vega-lib\": \"https://cdn.jsdelivr.net/npm//vega-lib?noext\",\n",
       "      \"vega-lite\": \"https://cdn.jsdelivr.net/npm//vega-lite@4.8.1?noext\",\n",
       "      \"vega-embed\": \"https://cdn.jsdelivr.net/npm//vega-embed@6?noext\",\n",
       "    };\n",
       "\n",
       "    function loadScript(lib) {\n",
       "      return new Promise(function(resolve, reject) {\n",
       "        var s = document.createElement('script');\n",
       "        s.src = paths[lib];\n",
       "        s.async = true;\n",
       "        s.onload = () => resolve(paths[lib]);\n",
       "        s.onerror = () => reject(`Error loading script: ${paths[lib]}`);\n",
       "        document.getElementsByTagName(\"head\")[0].appendChild(s);\n",
       "      });\n",
       "    }\n",
       "\n",
       "    function showError(err) {\n",
       "      outputDiv.innerHTML = `<div class=\"error\" style=\"color:red;\">${err}</div>`;\n",
       "      throw err;\n",
       "    }\n",
       "\n",
       "    function displayChart(vegaEmbed) {\n",
       "      vegaEmbed(outputDiv, spec, embedOpt)\n",
       "        .catch(err => showError(`Javascript Error: ${err.message}<br>This usually means there's a typo in your chart specification. See the javascript console for the full traceback.`));\n",
       "    }\n",
       "\n",
       "    if(typeof define === \"function\" && define.amd) {\n",
       "      requirejs.config({paths});\n",
       "      require([\"vega-embed\"], displayChart, err => showError(`Error loading script: ${err.message}`));\n",
       "    } else if (typeof vegaEmbed === \"function\") {\n",
       "      displayChart(vegaEmbed);\n",
       "    } else {\n",
       "      loadScript(\"vega\")\n",
       "        .then(() => loadScript(\"vega-lite\"))\n",
       "        .then(() => loadScript(\"vega-embed\"))\n",
       "        .catch(showError)\n",
       "        .then(() => displayChart(vegaEmbed));\n",
       "    }\n",
       "  })({\"config\": {\"view\": {\"continuousWidth\": 400, \"continuousHeight\": 300}}, \"layer\": [{\"mark\": \"bar\", \"encoding\": {\"x\": {\"type\": \"nominal\", \"axis\": {\"labelAngle\": 0}, \"field\": \"Race\", \"sort\": {\"field\": \"Letters\", \"op\": \"count\", \"order\": \"ascending\"}}, \"y\": {\"type\": \"quantitative\", \"field\": \"Amount\"}}, \"height\": 300, \"title\": \"Officer Demographics MNPD - 2017\", \"width\": 800}, {\"mark\": {\"type\": \"text\", \"dy\": -10}, \"encoding\": {\"text\": {\"type\": \"nominal\", \"field\": \"Percentage\"}, \"x\": {\"type\": \"nominal\", \"axis\": {\"labelAngle\": 0}, \"field\": \"Race\", \"sort\": {\"field\": \"Letters\", \"op\": \"count\", \"order\": \"ascending\"}}, \"y\": {\"type\": \"quantitative\", \"field\": \"Amount\"}}, \"height\": 300, \"title\": \"Officer Demographics MNPD - 2017\", \"width\": 800}], \"data\": {\"name\": \"data-505a366088a9ea1b6d2d60468944ae87\"}, \"$schema\": \"https://vega.github.io/schema/vega-lite/v4.8.1.json\", \"datasets\": {\"data-505a366088a9ea1b6d2d60468944ae87\": [{\"Race\": \"white\", \"Amount\": 1586, \"Percentage\": \"78.4%\"}, {\"Race\": \"black\", \"Amount\": 373, \"Percentage\": \"18.4%\"}, {\"Race\": \"hispanic\", \"Amount\": 36, \"Percentage\": \"1.8%\"}, {\"Race\": \"asian/pacific islander\", \"Amount\": 25, \"Percentage\": \"1.2%\"}, {\"Race\": \"unknown\", \"Amount\": 3, \"Percentage\": \"0.1%\"}, {\"Race\": \"native american\", \"Amount\": 1, \"Percentage\": \"0.0%\"}]}}, {\"mode\": \"vega-lite\"});\n",
       "</script>"
      ],
      "text/plain": [
       "alt.LayerChart(...)"
      ]
     },
     "execution_count": 37,
     "metadata": {},
     "output_type": "execute_result"
    }
   ],
   "source": [
    "seventeen = alt.Chart(chart17, title= 'Officer Demographics MNPD - 2017').mark_bar().encode(\n",
    "    alt.X('Race', axis=alt.Axis(labelAngle=0),sort=alt.EncodingSortField(field=\"Letters\", op=\"count\", order='ascending')),\n",
    "    alt.Y('Amount')).properties(\n",
    "    width=800,\n",
    "    height=300\n",
    ")\n",
    "\n",
    "text = seventeen.mark_text(dy=-10).encode(text='Percentage')\n",
    "\n",
    "seventeen + text"
   ]
  },
  {
   "cell_type": "markdown",
   "id": "ed27aa9b-32de-468e-8560-3df389b3a63d",
   "metadata": {},
   "source": [
    "### Demographic Breakdown in 2018"
   ]
  },
  {
   "cell_type": "code",
   "execution_count": 38,
   "id": "7ee123f6-2a4a-432e-a5e3-652ddb1afa72",
   "metadata": {},
   "outputs": [],
   "source": [
    "roster_2018 = year_race.loc[year_race['year'] == 2018]\n",
    "chart18 = roster_2018.value_counts().reset_index()\n",
    "del chart18['year']\n",
    "chart18.columns = ['Race', 'Amount']"
   ]
  },
  {
   "cell_type": "code",
   "execution_count": 39,
   "id": "02f10bb5-0027-4b44-a95d-5d7c8be00fd2",
   "metadata": {},
   "outputs": [],
   "source": [
    "chart18['Percentage'] = ((chart18['Amount']/chart18['Amount'].sum())*100).round(1)\n",
    "chart18['Percentage'] = chart18['Percentage'].astype(str) + '%'"
   ]
  },
  {
   "cell_type": "code",
   "execution_count": 40,
   "id": "f62b2d33-ec5d-4992-8219-26fa3cbda2cd",
   "metadata": {},
   "outputs": [
    {
     "data": {
      "text/html": [
       "<div>\n",
       "<style scoped>\n",
       "    .dataframe tbody tr th:only-of-type {\n",
       "        vertical-align: middle;\n",
       "    }\n",
       "\n",
       "    .dataframe tbody tr th {\n",
       "        vertical-align: top;\n",
       "    }\n",
       "\n",
       "    .dataframe thead th {\n",
       "        text-align: right;\n",
       "    }\n",
       "</style>\n",
       "<table border=\"1\" class=\"dataframe\">\n",
       "  <thead>\n",
       "    <tr style=\"text-align: right;\">\n",
       "      <th></th>\n",
       "      <th>Race</th>\n",
       "      <th>Amount</th>\n",
       "      <th>Percentage</th>\n",
       "    </tr>\n",
       "  </thead>\n",
       "  <tbody>\n",
       "    <tr>\n",
       "      <th>0</th>\n",
       "      <td>white</td>\n",
       "      <td>1602</td>\n",
       "      <td>76.1%</td>\n",
       "    </tr>\n",
       "    <tr>\n",
       "      <th>1</th>\n",
       "      <td>black</td>\n",
       "      <td>369</td>\n",
       "      <td>17.5%</td>\n",
       "    </tr>\n",
       "    <tr>\n",
       "      <th>2</th>\n",
       "      <td>multiracial</td>\n",
       "      <td>68</td>\n",
       "      <td>3.2%</td>\n",
       "    </tr>\n",
       "    <tr>\n",
       "      <th>3</th>\n",
       "      <td>hispanic</td>\n",
       "      <td>41</td>\n",
       "      <td>1.9%</td>\n",
       "    </tr>\n",
       "    <tr>\n",
       "      <th>4</th>\n",
       "      <td>asian/pacific islander</td>\n",
       "      <td>21</td>\n",
       "      <td>1.0%</td>\n",
       "    </tr>\n",
       "    <tr>\n",
       "      <th>5</th>\n",
       "      <td>native american</td>\n",
       "      <td>4</td>\n",
       "      <td>0.2%</td>\n",
       "    </tr>\n",
       "  </tbody>\n",
       "</table>\n",
       "</div>"
      ],
      "text/plain": [
       "                     Race  Amount Percentage\n",
       "0                   white    1602      76.1%\n",
       "1                   black     369      17.5%\n",
       "2             multiracial      68       3.2%\n",
       "3                hispanic      41       1.9%\n",
       "4  asian/pacific islander      21       1.0%\n",
       "5         native american       4       0.2%"
      ]
     },
     "execution_count": 40,
     "metadata": {},
     "output_type": "execute_result"
    }
   ],
   "source": [
    "chart18"
   ]
  },
  {
   "cell_type": "code",
   "execution_count": 41,
   "id": "767dcaa3-3255-4f05-9ed7-a8088ace7c88",
   "metadata": {},
   "outputs": [
    {
     "data": {
      "text/html": [
       "\n",
       "<div id=\"altair-viz-45a8a1e7278e4c699eb49708f15bed13\"></div>\n",
       "<script type=\"text/javascript\">\n",
       "  (function(spec, embedOpt){\n",
       "    let outputDiv = document.currentScript.previousElementSibling;\n",
       "    if (outputDiv.id !== \"altair-viz-45a8a1e7278e4c699eb49708f15bed13\") {\n",
       "      outputDiv = document.getElementById(\"altair-viz-45a8a1e7278e4c699eb49708f15bed13\");\n",
       "    }\n",
       "    const paths = {\n",
       "      \"vega\": \"https://cdn.jsdelivr.net/npm//vega@5?noext\",\n",
       "      \"vega-lib\": \"https://cdn.jsdelivr.net/npm//vega-lib?noext\",\n",
       "      \"vega-lite\": \"https://cdn.jsdelivr.net/npm//vega-lite@4.8.1?noext\",\n",
       "      \"vega-embed\": \"https://cdn.jsdelivr.net/npm//vega-embed@6?noext\",\n",
       "    };\n",
       "\n",
       "    function loadScript(lib) {\n",
       "      return new Promise(function(resolve, reject) {\n",
       "        var s = document.createElement('script');\n",
       "        s.src = paths[lib];\n",
       "        s.async = true;\n",
       "        s.onload = () => resolve(paths[lib]);\n",
       "        s.onerror = () => reject(`Error loading script: ${paths[lib]}`);\n",
       "        document.getElementsByTagName(\"head\")[0].appendChild(s);\n",
       "      });\n",
       "    }\n",
       "\n",
       "    function showError(err) {\n",
       "      outputDiv.innerHTML = `<div class=\"error\" style=\"color:red;\">${err}</div>`;\n",
       "      throw err;\n",
       "    }\n",
       "\n",
       "    function displayChart(vegaEmbed) {\n",
       "      vegaEmbed(outputDiv, spec, embedOpt)\n",
       "        .catch(err => showError(`Javascript Error: ${err.message}<br>This usually means there's a typo in your chart specification. See the javascript console for the full traceback.`));\n",
       "    }\n",
       "\n",
       "    if(typeof define === \"function\" && define.amd) {\n",
       "      requirejs.config({paths});\n",
       "      require([\"vega-embed\"], displayChart, err => showError(`Error loading script: ${err.message}`));\n",
       "    } else if (typeof vegaEmbed === \"function\") {\n",
       "      displayChart(vegaEmbed);\n",
       "    } else {\n",
       "      loadScript(\"vega\")\n",
       "        .then(() => loadScript(\"vega-lite\"))\n",
       "        .then(() => loadScript(\"vega-embed\"))\n",
       "        .catch(showError)\n",
       "        .then(() => displayChart(vegaEmbed));\n",
       "    }\n",
       "  })({\"config\": {\"view\": {\"continuousWidth\": 400, \"continuousHeight\": 300}}, \"layer\": [{\"mark\": \"bar\", \"encoding\": {\"x\": {\"type\": \"nominal\", \"axis\": {\"labelAngle\": 0}, \"field\": \"Race\", \"sort\": {\"field\": \"Letters\", \"op\": \"count\", \"order\": \"ascending\"}}, \"y\": {\"type\": \"quantitative\", \"field\": \"Amount\"}}, \"height\": 300, \"title\": \"Officer Demographics MNPD - 2018\", \"width\": 800}, {\"mark\": {\"type\": \"text\", \"dy\": -10}, \"encoding\": {\"text\": {\"type\": \"nominal\", \"field\": \"Percentage\"}, \"x\": {\"type\": \"nominal\", \"axis\": {\"labelAngle\": 0}, \"field\": \"Race\", \"sort\": {\"field\": \"Letters\", \"op\": \"count\", \"order\": \"ascending\"}}, \"y\": {\"type\": \"quantitative\", \"field\": \"Amount\"}}, \"height\": 300, \"title\": \"Officer Demographics MNPD - 2018\", \"width\": 800}], \"data\": {\"name\": \"data-283d8175fe1c6922ce4c6b8554a770ac\"}, \"$schema\": \"https://vega.github.io/schema/vega-lite/v4.8.1.json\", \"datasets\": {\"data-283d8175fe1c6922ce4c6b8554a770ac\": [{\"Race\": \"white\", \"Amount\": 1602, \"Percentage\": \"76.1%\"}, {\"Race\": \"black\", \"Amount\": 369, \"Percentage\": \"17.5%\"}, {\"Race\": \"multiracial\", \"Amount\": 68, \"Percentage\": \"3.2%\"}, {\"Race\": \"hispanic\", \"Amount\": 41, \"Percentage\": \"1.9%\"}, {\"Race\": \"asian/pacific islander\", \"Amount\": 21, \"Percentage\": \"1.0%\"}, {\"Race\": \"native american\", \"Amount\": 4, \"Percentage\": \"0.2%\"}]}}, {\"mode\": \"vega-lite\"});\n",
       "</script>"
      ],
      "text/plain": [
       "alt.LayerChart(...)"
      ]
     },
     "execution_count": 41,
     "metadata": {},
     "output_type": "execute_result"
    }
   ],
   "source": [
    "eighteen = alt.Chart(chart18, title= 'Officer Demographics MNPD - 2018').mark_bar().encode(\n",
    "    alt.X('Race', axis=alt.Axis(labelAngle=0),sort=alt.EncodingSortField(field=\"Letters\", op=\"count\", order='ascending')),\n",
    "    alt.Y('Amount')).properties(\n",
    "    width=800,\n",
    "    height=300\n",
    ")\n",
    "\n",
    "text = eighteen.mark_text(dy=-10).encode(text='Percentage')\n",
    "\n",
    "eighteen + text"
   ]
  },
  {
   "cell_type": "markdown",
   "id": "5643e4e4-ec47-45f3-ad4e-dc31c78fa8f2",
   "metadata": {},
   "source": [
    "### Demographic Breakdown in 2019"
   ]
  },
  {
   "cell_type": "code",
   "execution_count": 42,
   "id": "8e38bad9-a6be-46d9-b2b0-9d9706b968e1",
   "metadata": {},
   "outputs": [],
   "source": [
    "roster_2019 = year_race.loc[year_race['year'] == 2019]\n",
    "chart19 = roster_2019.value_counts().reset_index()\n",
    "del chart19['year']\n",
    "chart19.columns = ['Race', 'Amount']"
   ]
  },
  {
   "cell_type": "code",
   "execution_count": 43,
   "id": "8c15261b-4976-4f20-ae45-9299cf2d090f",
   "metadata": {},
   "outputs": [],
   "source": [
    "chart19['Percentage'] = ((chart19['Amount']/chart19['Amount'].sum())*100).round(1)\n",
    "chart19['Percentage'] = chart19['Percentage'].astype(str) + '%'"
   ]
  },
  {
   "cell_type": "code",
   "execution_count": 44,
   "id": "de8141c8-7669-49e2-a7dd-49b8deb9c47d",
   "metadata": {},
   "outputs": [
    {
     "data": {
      "text/html": [
       "<div>\n",
       "<style scoped>\n",
       "    .dataframe tbody tr th:only-of-type {\n",
       "        vertical-align: middle;\n",
       "    }\n",
       "\n",
       "    .dataframe tbody tr th {\n",
       "        vertical-align: top;\n",
       "    }\n",
       "\n",
       "    .dataframe thead th {\n",
       "        text-align: right;\n",
       "    }\n",
       "</style>\n",
       "<table border=\"1\" class=\"dataframe\">\n",
       "  <thead>\n",
       "    <tr style=\"text-align: right;\">\n",
       "      <th></th>\n",
       "      <th>Race</th>\n",
       "      <th>Amount</th>\n",
       "      <th>Percentage</th>\n",
       "    </tr>\n",
       "  </thead>\n",
       "  <tbody>\n",
       "    <tr>\n",
       "      <th>0</th>\n",
       "      <td>white</td>\n",
       "      <td>1508</td>\n",
       "      <td>76.4%</td>\n",
       "    </tr>\n",
       "    <tr>\n",
       "      <th>1</th>\n",
       "      <td>black</td>\n",
       "      <td>332</td>\n",
       "      <td>16.8%</td>\n",
       "    </tr>\n",
       "    <tr>\n",
       "      <th>2</th>\n",
       "      <td>multiracial</td>\n",
       "      <td>64</td>\n",
       "      <td>3.2%</td>\n",
       "    </tr>\n",
       "    <tr>\n",
       "      <th>3</th>\n",
       "      <td>hispanic</td>\n",
       "      <td>45</td>\n",
       "      <td>2.3%</td>\n",
       "    </tr>\n",
       "    <tr>\n",
       "      <th>4</th>\n",
       "      <td>asian/pacific islander</td>\n",
       "      <td>22</td>\n",
       "      <td>1.1%</td>\n",
       "    </tr>\n",
       "    <tr>\n",
       "      <th>5</th>\n",
       "      <td>native american</td>\n",
       "      <td>3</td>\n",
       "      <td>0.2%</td>\n",
       "    </tr>\n",
       "  </tbody>\n",
       "</table>\n",
       "</div>"
      ],
      "text/plain": [
       "                     Race  Amount Percentage\n",
       "0                   white    1508      76.4%\n",
       "1                   black     332      16.8%\n",
       "2             multiracial      64       3.2%\n",
       "3                hispanic      45       2.3%\n",
       "4  asian/pacific islander      22       1.1%\n",
       "5         native american       3       0.2%"
      ]
     },
     "execution_count": 44,
     "metadata": {},
     "output_type": "execute_result"
    }
   ],
   "source": [
    "chart19"
   ]
  },
  {
   "cell_type": "code",
   "execution_count": 45,
   "id": "1030611d-20ec-4be6-a532-8f2087de7253",
   "metadata": {},
   "outputs": [
    {
     "data": {
      "text/html": [
       "\n",
       "<div id=\"altair-viz-39579f1c400e4d46b6e61b3d40e2571a\"></div>\n",
       "<script type=\"text/javascript\">\n",
       "  (function(spec, embedOpt){\n",
       "    let outputDiv = document.currentScript.previousElementSibling;\n",
       "    if (outputDiv.id !== \"altair-viz-39579f1c400e4d46b6e61b3d40e2571a\") {\n",
       "      outputDiv = document.getElementById(\"altair-viz-39579f1c400e4d46b6e61b3d40e2571a\");\n",
       "    }\n",
       "    const paths = {\n",
       "      \"vega\": \"https://cdn.jsdelivr.net/npm//vega@5?noext\",\n",
       "      \"vega-lib\": \"https://cdn.jsdelivr.net/npm//vega-lib?noext\",\n",
       "      \"vega-lite\": \"https://cdn.jsdelivr.net/npm//vega-lite@4.8.1?noext\",\n",
       "      \"vega-embed\": \"https://cdn.jsdelivr.net/npm//vega-embed@6?noext\",\n",
       "    };\n",
       "\n",
       "    function loadScript(lib) {\n",
       "      return new Promise(function(resolve, reject) {\n",
       "        var s = document.createElement('script');\n",
       "        s.src = paths[lib];\n",
       "        s.async = true;\n",
       "        s.onload = () => resolve(paths[lib]);\n",
       "        s.onerror = () => reject(`Error loading script: ${paths[lib]}`);\n",
       "        document.getElementsByTagName(\"head\")[0].appendChild(s);\n",
       "      });\n",
       "    }\n",
       "\n",
       "    function showError(err) {\n",
       "      outputDiv.innerHTML = `<div class=\"error\" style=\"color:red;\">${err}</div>`;\n",
       "      throw err;\n",
       "    }\n",
       "\n",
       "    function displayChart(vegaEmbed) {\n",
       "      vegaEmbed(outputDiv, spec, embedOpt)\n",
       "        .catch(err => showError(`Javascript Error: ${err.message}<br>This usually means there's a typo in your chart specification. See the javascript console for the full traceback.`));\n",
       "    }\n",
       "\n",
       "    if(typeof define === \"function\" && define.amd) {\n",
       "      requirejs.config({paths});\n",
       "      require([\"vega-embed\"], displayChart, err => showError(`Error loading script: ${err.message}`));\n",
       "    } else if (typeof vegaEmbed === \"function\") {\n",
       "      displayChart(vegaEmbed);\n",
       "    } else {\n",
       "      loadScript(\"vega\")\n",
       "        .then(() => loadScript(\"vega-lite\"))\n",
       "        .then(() => loadScript(\"vega-embed\"))\n",
       "        .catch(showError)\n",
       "        .then(() => displayChart(vegaEmbed));\n",
       "    }\n",
       "  })({\"config\": {\"view\": {\"continuousWidth\": 400, \"continuousHeight\": 300}}, \"layer\": [{\"mark\": \"bar\", \"encoding\": {\"x\": {\"type\": \"nominal\", \"axis\": {\"labelAngle\": 0}, \"field\": \"Race\", \"sort\": {\"field\": \"Letters\", \"op\": \"count\", \"order\": \"ascending\"}}, \"y\": {\"type\": \"quantitative\", \"field\": \"Amount\"}}, \"height\": 300, \"title\": \"Officer Demographics MNPD - 2019\", \"width\": 800}, {\"mark\": {\"type\": \"text\", \"dy\": -10}, \"encoding\": {\"text\": {\"type\": \"nominal\", \"field\": \"Percentage\"}, \"x\": {\"type\": \"nominal\", \"axis\": {\"labelAngle\": 0}, \"field\": \"Race\", \"sort\": {\"field\": \"Letters\", \"op\": \"count\", \"order\": \"ascending\"}}, \"y\": {\"type\": \"quantitative\", \"field\": \"Amount\"}}, \"height\": 300, \"title\": \"Officer Demographics MNPD - 2019\", \"width\": 800}], \"data\": {\"name\": \"data-f4780a77f66d01a68c3f5b34a0fbccb7\"}, \"$schema\": \"https://vega.github.io/schema/vega-lite/v4.8.1.json\", \"datasets\": {\"data-f4780a77f66d01a68c3f5b34a0fbccb7\": [{\"Race\": \"white\", \"Amount\": 1508, \"Percentage\": \"76.4%\"}, {\"Race\": \"black\", \"Amount\": 332, \"Percentage\": \"16.8%\"}, {\"Race\": \"multiracial\", \"Amount\": 64, \"Percentage\": \"3.2%\"}, {\"Race\": \"hispanic\", \"Amount\": 45, \"Percentage\": \"2.3%\"}, {\"Race\": \"asian/pacific islander\", \"Amount\": 22, \"Percentage\": \"1.1%\"}, {\"Race\": \"native american\", \"Amount\": 3, \"Percentage\": \"0.2%\"}]}}, {\"mode\": \"vega-lite\"});\n",
       "</script>"
      ],
      "text/plain": [
       "alt.LayerChart(...)"
      ]
     },
     "execution_count": 45,
     "metadata": {},
     "output_type": "execute_result"
    }
   ],
   "source": [
    "nineteen = alt.Chart(chart19, title= 'Officer Demographics MNPD - 2019').mark_bar().encode(\n",
    "    alt.X('Race', axis=alt.Axis(labelAngle=0),sort=alt.EncodingSortField(field=\"Letters\", op=\"count\", order='ascending')),\n",
    "    alt.Y('Amount')).properties(\n",
    "    width=800,\n",
    "    height=300\n",
    ")\n",
    "\n",
    "text = nineteen.mark_text(dy=-10).encode(text='Percentage')\n",
    "\n",
    "nineteen + text"
   ]
  },
  {
   "cell_type": "markdown",
   "id": "6015eccc-d25f-409b-bdd0-742b82a3677e",
   "metadata": {},
   "source": [
    "### Demographic Breakdown in 2020"
   ]
  },
  {
   "cell_type": "code",
   "execution_count": 46,
   "id": "bc0cb62b-c346-48da-8b12-d717b124b648",
   "metadata": {},
   "outputs": [],
   "source": [
    "roster_2020 = year_race.loc[year_race['year'] == 2020]\n",
    "chart20 = roster_2020.value_counts().reset_index()\n",
    "del chart20['year']\n",
    "chart20.columns = ['Race', 'Amount']"
   ]
  },
  {
   "cell_type": "code",
   "execution_count": 47,
   "id": "316ec929-e8a9-4b62-ae01-c7afc98ccdab",
   "metadata": {},
   "outputs": [],
   "source": [
    "chart20['Percentage'] = ((chart20['Amount']/chart20['Amount'].sum())*100).round(1)\n",
    "chart20['Percentage'] = chart20['Percentage'].astype(str) + '%'"
   ]
  },
  {
   "cell_type": "code",
   "execution_count": 48,
   "id": "1d21567d-90e7-45e2-bee0-9563dd424954",
   "metadata": {},
   "outputs": [
    {
     "data": {
      "text/html": [
       "<div>\n",
       "<style scoped>\n",
       "    .dataframe tbody tr th:only-of-type {\n",
       "        vertical-align: middle;\n",
       "    }\n",
       "\n",
       "    .dataframe tbody tr th {\n",
       "        vertical-align: top;\n",
       "    }\n",
       "\n",
       "    .dataframe thead th {\n",
       "        text-align: right;\n",
       "    }\n",
       "</style>\n",
       "<table border=\"1\" class=\"dataframe\">\n",
       "  <thead>\n",
       "    <tr style=\"text-align: right;\">\n",
       "      <th></th>\n",
       "      <th>Race</th>\n",
       "      <th>Amount</th>\n",
       "      <th>Percentage</th>\n",
       "    </tr>\n",
       "  </thead>\n",
       "  <tbody>\n",
       "    <tr>\n",
       "      <th>0</th>\n",
       "      <td>white</td>\n",
       "      <td>1506</td>\n",
       "      <td>76.2%</td>\n",
       "    </tr>\n",
       "    <tr>\n",
       "      <th>1</th>\n",
       "      <td>black</td>\n",
       "      <td>330</td>\n",
       "      <td>16.7%</td>\n",
       "    </tr>\n",
       "    <tr>\n",
       "      <th>2</th>\n",
       "      <td>multiracial</td>\n",
       "      <td>61</td>\n",
       "      <td>3.1%</td>\n",
       "    </tr>\n",
       "    <tr>\n",
       "      <th>3</th>\n",
       "      <td>hispanic</td>\n",
       "      <td>52</td>\n",
       "      <td>2.6%</td>\n",
       "    </tr>\n",
       "    <tr>\n",
       "      <th>4</th>\n",
       "      <td>asian/pacific islander</td>\n",
       "      <td>24</td>\n",
       "      <td>1.2%</td>\n",
       "    </tr>\n",
       "    <tr>\n",
       "      <th>5</th>\n",
       "      <td>native american</td>\n",
       "      <td>4</td>\n",
       "      <td>0.2%</td>\n",
       "    </tr>\n",
       "  </tbody>\n",
       "</table>\n",
       "</div>"
      ],
      "text/plain": [
       "                     Race  Amount Percentage\n",
       "0                   white    1506      76.2%\n",
       "1                   black     330      16.7%\n",
       "2             multiracial      61       3.1%\n",
       "3                hispanic      52       2.6%\n",
       "4  asian/pacific islander      24       1.2%\n",
       "5         native american       4       0.2%"
      ]
     },
     "execution_count": 48,
     "metadata": {},
     "output_type": "execute_result"
    }
   ],
   "source": [
    "chart20"
   ]
  },
  {
   "cell_type": "code",
   "execution_count": 49,
   "id": "6f63c440-398e-4510-9224-5b39986ed45e",
   "metadata": {},
   "outputs": [
    {
     "data": {
      "text/html": [
       "\n",
       "<div id=\"altair-viz-7d02bc69c481421c8eb70bd886552017\"></div>\n",
       "<script type=\"text/javascript\">\n",
       "  (function(spec, embedOpt){\n",
       "    let outputDiv = document.currentScript.previousElementSibling;\n",
       "    if (outputDiv.id !== \"altair-viz-7d02bc69c481421c8eb70bd886552017\") {\n",
       "      outputDiv = document.getElementById(\"altair-viz-7d02bc69c481421c8eb70bd886552017\");\n",
       "    }\n",
       "    const paths = {\n",
       "      \"vega\": \"https://cdn.jsdelivr.net/npm//vega@5?noext\",\n",
       "      \"vega-lib\": \"https://cdn.jsdelivr.net/npm//vega-lib?noext\",\n",
       "      \"vega-lite\": \"https://cdn.jsdelivr.net/npm//vega-lite@4.8.1?noext\",\n",
       "      \"vega-embed\": \"https://cdn.jsdelivr.net/npm//vega-embed@6?noext\",\n",
       "    };\n",
       "\n",
       "    function loadScript(lib) {\n",
       "      return new Promise(function(resolve, reject) {\n",
       "        var s = document.createElement('script');\n",
       "        s.src = paths[lib];\n",
       "        s.async = true;\n",
       "        s.onload = () => resolve(paths[lib]);\n",
       "        s.onerror = () => reject(`Error loading script: ${paths[lib]}`);\n",
       "        document.getElementsByTagName(\"head\")[0].appendChild(s);\n",
       "      });\n",
       "    }\n",
       "\n",
       "    function showError(err) {\n",
       "      outputDiv.innerHTML = `<div class=\"error\" style=\"color:red;\">${err}</div>`;\n",
       "      throw err;\n",
       "    }\n",
       "\n",
       "    function displayChart(vegaEmbed) {\n",
       "      vegaEmbed(outputDiv, spec, embedOpt)\n",
       "        .catch(err => showError(`Javascript Error: ${err.message}<br>This usually means there's a typo in your chart specification. See the javascript console for the full traceback.`));\n",
       "    }\n",
       "\n",
       "    if(typeof define === \"function\" && define.amd) {\n",
       "      requirejs.config({paths});\n",
       "      require([\"vega-embed\"], displayChart, err => showError(`Error loading script: ${err.message}`));\n",
       "    } else if (typeof vegaEmbed === \"function\") {\n",
       "      displayChart(vegaEmbed);\n",
       "    } else {\n",
       "      loadScript(\"vega\")\n",
       "        .then(() => loadScript(\"vega-lite\"))\n",
       "        .then(() => loadScript(\"vega-embed\"))\n",
       "        .catch(showError)\n",
       "        .then(() => displayChart(vegaEmbed));\n",
       "    }\n",
       "  })({\"config\": {\"view\": {\"continuousWidth\": 400, \"continuousHeight\": 300}}, \"layer\": [{\"mark\": \"bar\", \"encoding\": {\"x\": {\"type\": \"nominal\", \"axis\": {\"labelAngle\": 0}, \"field\": \"Race\", \"sort\": {\"field\": \"Letters\", \"op\": \"count\", \"order\": \"ascending\"}}, \"y\": {\"type\": \"quantitative\", \"field\": \"Amount\"}}, \"height\": 300, \"title\": \"Officer Demographics MNPD - 2020\", \"width\": 800}, {\"mark\": {\"type\": \"text\", \"dy\": -10}, \"encoding\": {\"text\": {\"type\": \"nominal\", \"field\": \"Percentage\"}, \"x\": {\"type\": \"nominal\", \"axis\": {\"labelAngle\": 0}, \"field\": \"Race\", \"sort\": {\"field\": \"Letters\", \"op\": \"count\", \"order\": \"ascending\"}}, \"y\": {\"type\": \"quantitative\", \"field\": \"Amount\"}}, \"height\": 300, \"title\": \"Officer Demographics MNPD - 2020\", \"width\": 800}], \"data\": {\"name\": \"data-34f2ba67f08f020432149eda33b8715a\"}, \"$schema\": \"https://vega.github.io/schema/vega-lite/v4.8.1.json\", \"datasets\": {\"data-34f2ba67f08f020432149eda33b8715a\": [{\"Race\": \"white\", \"Amount\": 1506, \"Percentage\": \"76.2%\"}, {\"Race\": \"black\", \"Amount\": 330, \"Percentage\": \"16.7%\"}, {\"Race\": \"multiracial\", \"Amount\": 61, \"Percentage\": \"3.1%\"}, {\"Race\": \"hispanic\", \"Amount\": 52, \"Percentage\": \"2.6%\"}, {\"Race\": \"asian/pacific islander\", \"Amount\": 24, \"Percentage\": \"1.2%\"}, {\"Race\": \"native american\", \"Amount\": 4, \"Percentage\": \"0.2%\"}]}}, {\"mode\": \"vega-lite\"});\n",
       "</script>"
      ],
      "text/plain": [
       "alt.LayerChart(...)"
      ]
     },
     "execution_count": 49,
     "metadata": {},
     "output_type": "execute_result"
    }
   ],
   "source": [
    "twenty = alt.Chart(chart20, title= 'Officer Demographics MNPD - 2020').mark_bar().encode(\n",
    "    alt.X('Race', axis=alt.Axis(labelAngle=0),sort=alt.EncodingSortField(field=\"Letters\", op=\"count\", order='ascending')),\n",
    "    alt.Y('Amount')).properties(\n",
    "    width=800,\n",
    "    height=300\n",
    ")\n",
    "\n",
    "text = twenty.mark_text(dy=-10).encode(text='Percentage')\n",
    "\n",
    "twenty + text"
   ]
  },
  {
   "cell_type": "markdown",
   "id": "d81c13e9-3a7c-4290-bce7-dd4d7445355c",
   "metadata": {},
   "source": [
    "### Demographic Breakdown in 2021"
   ]
  },
  {
   "cell_type": "code",
   "execution_count": 50,
   "id": "9927a9c9-cf50-4831-9c3e-d0cbee6dfd50",
   "metadata": {},
   "outputs": [],
   "source": [
    "roster_2021 = year_race.loc[year_race['year'] == 2021]\n",
    "chart21 = roster_2021.value_counts().reset_index()\n",
    "del chart21['year']\n",
    "chart21.columns = ['Race', 'Amount']"
   ]
  },
  {
   "cell_type": "code",
   "execution_count": 51,
   "id": "5bbeedd7-bb4f-48fd-9267-d43c8f973c64",
   "metadata": {},
   "outputs": [],
   "source": [
    "chart21['Percentage'] = ((chart21['Amount']/chart21['Amount'].sum())*100).round(1)\n",
    "chart21['Percentage'] = chart21['Percentage'].astype(str) + '%'"
   ]
  },
  {
   "cell_type": "code",
   "execution_count": 52,
   "id": "9fb0ba55-dc73-42e2-b121-ec3f7e7b1be2",
   "metadata": {},
   "outputs": [
    {
     "data": {
      "text/html": [
       "<div>\n",
       "<style scoped>\n",
       "    .dataframe tbody tr th:only-of-type {\n",
       "        vertical-align: middle;\n",
       "    }\n",
       "\n",
       "    .dataframe tbody tr th {\n",
       "        vertical-align: top;\n",
       "    }\n",
       "\n",
       "    .dataframe thead th {\n",
       "        text-align: right;\n",
       "    }\n",
       "</style>\n",
       "<table border=\"1\" class=\"dataframe\">\n",
       "  <thead>\n",
       "    <tr style=\"text-align: right;\">\n",
       "      <th></th>\n",
       "      <th>Race</th>\n",
       "      <th>Amount</th>\n",
       "      <th>Percentage</th>\n",
       "    </tr>\n",
       "  </thead>\n",
       "  <tbody>\n",
       "    <tr>\n",
       "      <th>0</th>\n",
       "      <td>white</td>\n",
       "      <td>1518</td>\n",
       "      <td>76.5%</td>\n",
       "    </tr>\n",
       "    <tr>\n",
       "      <th>1</th>\n",
       "      <td>black</td>\n",
       "      <td>324</td>\n",
       "      <td>16.3%</td>\n",
       "    </tr>\n",
       "    <tr>\n",
       "      <th>2</th>\n",
       "      <td>multiracial</td>\n",
       "      <td>64</td>\n",
       "      <td>3.2%</td>\n",
       "    </tr>\n",
       "    <tr>\n",
       "      <th>3</th>\n",
       "      <td>hispanic</td>\n",
       "      <td>51</td>\n",
       "      <td>2.6%</td>\n",
       "    </tr>\n",
       "    <tr>\n",
       "      <th>4</th>\n",
       "      <td>asian/pacific islander</td>\n",
       "      <td>24</td>\n",
       "      <td>1.2%</td>\n",
       "    </tr>\n",
       "    <tr>\n",
       "      <th>5</th>\n",
       "      <td>native american</td>\n",
       "      <td>4</td>\n",
       "      <td>0.2%</td>\n",
       "    </tr>\n",
       "  </tbody>\n",
       "</table>\n",
       "</div>"
      ],
      "text/plain": [
       "                     Race  Amount Percentage\n",
       "0                   white    1518      76.5%\n",
       "1                   black     324      16.3%\n",
       "2             multiracial      64       3.2%\n",
       "3                hispanic      51       2.6%\n",
       "4  asian/pacific islander      24       1.2%\n",
       "5         native american       4       0.2%"
      ]
     },
     "execution_count": 52,
     "metadata": {},
     "output_type": "execute_result"
    }
   ],
   "source": [
    "chart21"
   ]
  },
  {
   "cell_type": "code",
   "execution_count": 53,
   "id": "0cb39f45-a4cd-41c0-9efc-af52cb5497b7",
   "metadata": {},
   "outputs": [
    {
     "data": {
      "text/html": [
       "\n",
       "<div id=\"altair-viz-4d88ebc609c2440ca210642e211753a3\"></div>\n",
       "<script type=\"text/javascript\">\n",
       "  (function(spec, embedOpt){\n",
       "    let outputDiv = document.currentScript.previousElementSibling;\n",
       "    if (outputDiv.id !== \"altair-viz-4d88ebc609c2440ca210642e211753a3\") {\n",
       "      outputDiv = document.getElementById(\"altair-viz-4d88ebc609c2440ca210642e211753a3\");\n",
       "    }\n",
       "    const paths = {\n",
       "      \"vega\": \"https://cdn.jsdelivr.net/npm//vega@5?noext\",\n",
       "      \"vega-lib\": \"https://cdn.jsdelivr.net/npm//vega-lib?noext\",\n",
       "      \"vega-lite\": \"https://cdn.jsdelivr.net/npm//vega-lite@4.8.1?noext\",\n",
       "      \"vega-embed\": \"https://cdn.jsdelivr.net/npm//vega-embed@6?noext\",\n",
       "    };\n",
       "\n",
       "    function loadScript(lib) {\n",
       "      return new Promise(function(resolve, reject) {\n",
       "        var s = document.createElement('script');\n",
       "        s.src = paths[lib];\n",
       "        s.async = true;\n",
       "        s.onload = () => resolve(paths[lib]);\n",
       "        s.onerror = () => reject(`Error loading script: ${paths[lib]}`);\n",
       "        document.getElementsByTagName(\"head\")[0].appendChild(s);\n",
       "      });\n",
       "    }\n",
       "\n",
       "    function showError(err) {\n",
       "      outputDiv.innerHTML = `<div class=\"error\" style=\"color:red;\">${err}</div>`;\n",
       "      throw err;\n",
       "    }\n",
       "\n",
       "    function displayChart(vegaEmbed) {\n",
       "      vegaEmbed(outputDiv, spec, embedOpt)\n",
       "        .catch(err => showError(`Javascript Error: ${err.message}<br>This usually means there's a typo in your chart specification. See the javascript console for the full traceback.`));\n",
       "    }\n",
       "\n",
       "    if(typeof define === \"function\" && define.amd) {\n",
       "      requirejs.config({paths});\n",
       "      require([\"vega-embed\"], displayChart, err => showError(`Error loading script: ${err.message}`));\n",
       "    } else if (typeof vegaEmbed === \"function\") {\n",
       "      displayChart(vegaEmbed);\n",
       "    } else {\n",
       "      loadScript(\"vega\")\n",
       "        .then(() => loadScript(\"vega-lite\"))\n",
       "        .then(() => loadScript(\"vega-embed\"))\n",
       "        .catch(showError)\n",
       "        .then(() => displayChart(vegaEmbed));\n",
       "    }\n",
       "  })({\"config\": {\"view\": {\"continuousWidth\": 400, \"continuousHeight\": 300}}, \"layer\": [{\"mark\": \"bar\", \"encoding\": {\"x\": {\"type\": \"nominal\", \"axis\": {\"labelAngle\": 0}, \"field\": \"Race\", \"sort\": {\"field\": \"Letters\", \"op\": \"count\", \"order\": \"ascending\"}}, \"y\": {\"type\": \"quantitative\", \"field\": \"Amount\"}}, \"height\": 300, \"title\": \"Officer Demographics MNPD - 2021\", \"width\": 800}, {\"mark\": {\"type\": \"text\", \"dy\": -10}, \"encoding\": {\"text\": {\"type\": \"nominal\", \"field\": \"Percentage\"}, \"x\": {\"type\": \"nominal\", \"axis\": {\"labelAngle\": 0}, \"field\": \"Race\", \"sort\": {\"field\": \"Letters\", \"op\": \"count\", \"order\": \"ascending\"}}, \"y\": {\"type\": \"quantitative\", \"field\": \"Amount\"}}, \"height\": 300, \"title\": \"Officer Demographics MNPD - 2021\", \"width\": 800}], \"data\": {\"name\": \"data-338a877ae3e8b6cbad9914eb2c137b9b\"}, \"$schema\": \"https://vega.github.io/schema/vega-lite/v4.8.1.json\", \"datasets\": {\"data-338a877ae3e8b6cbad9914eb2c137b9b\": [{\"Race\": \"white\", \"Amount\": 1518, \"Percentage\": \"76.5%\"}, {\"Race\": \"black\", \"Amount\": 324, \"Percentage\": \"16.3%\"}, {\"Race\": \"multiracial\", \"Amount\": 64, \"Percentage\": \"3.2%\"}, {\"Race\": \"hispanic\", \"Amount\": 51, \"Percentage\": \"2.6%\"}, {\"Race\": \"asian/pacific islander\", \"Amount\": 24, \"Percentage\": \"1.2%\"}, {\"Race\": \"native american\", \"Amount\": 4, \"Percentage\": \"0.2%\"}]}}, {\"mode\": \"vega-lite\"});\n",
       "</script>"
      ],
      "text/plain": [
       "alt.LayerChart(...)"
      ]
     },
     "execution_count": 53,
     "metadata": {},
     "output_type": "execute_result"
    }
   ],
   "source": [
    "twenty_one = alt.Chart(chart21, title= 'Officer Demographics MNPD - 2021').mark_bar().encode(\n",
    "    alt.X('Race', axis=alt.Axis(labelAngle=0),sort=alt.EncodingSortField(field=\"Letters\", op=\"count\", order='ascending')),\n",
    "    alt.Y('Amount')).properties(\n",
    "    width=800,\n",
    "    height=300\n",
    ")\n",
    "\n",
    "text = twenty_one.mark_text(dy=-10).encode(text='Percentage')\n",
    "\n",
    "twenty_one + text"
   ]
  },
  {
   "cell_type": "markdown",
   "id": "8b309d4a-3599-4928-9844-106c2ca5d6b2",
   "metadata": {},
   "source": [
    "## Findings from yearly demographic breakdowns:\n",
    "    • White officers's racial makeup at MNPD remained above 75% from 2010 to 2021.\n",
    "    • Black officers were the next largest group. Their racial makeup decreased, starting at 20.9% in 2010 to 16.3% in 2021.\n",
    "    • Multiracial was added as an option in 2018, so that could explain some percentage differences.\n",
    "   "
   ]
  },
  {
   "cell_type": "markdown",
   "id": "289360a1-f10f-4588-bd66-c72221b9ba37",
   "metadata": {},
   "source": [
    "# **Unique Demographic Change over 11 years**"
   ]
  },
  {
   "cell_type": "markdown",
   "id": "41b47de1-e320-432b-87ea-c7813200f0a6",
   "metadata": {},
   "source": [
    "### White Officer Change from 2010 - 2021"
   ]
  },
  {
   "cell_type": "code",
   "execution_count": 54,
   "id": "b43f7a48-0da5-4a3e-af71-e11b2921b10b",
   "metadata": {},
   "outputs": [],
   "source": [
    "#filtered dataset to where only white officers were shown over time\n",
    "roster_white = year_race.loc[year_race['clean_race_ethnicity'] == 'white']\n",
    "#found the number of white officers per year\n",
    "chart_white = roster_white['year'].value_counts().reset_index()\n",
    "#Renamed columns for clarity\n",
    "chart_white.columns = ['Year','Amount']\n",
    "#Turned the year column into string, because Altair takes in years as integers and starts chart at 0.\n",
    "chart_white['Year'] = chart_white['Year'].astype(str)"
   ]
  },
  {
   "cell_type": "code",
   "execution_count": 55,
   "id": "1b8828f8-f612-48f0-b232-b3d1adb225a4",
   "metadata": {},
   "outputs": [
    {
     "data": {
      "text/html": [
       "<div>\n",
       "<style scoped>\n",
       "    .dataframe tbody tr th:only-of-type {\n",
       "        vertical-align: middle;\n",
       "    }\n",
       "\n",
       "    .dataframe tbody tr th {\n",
       "        vertical-align: top;\n",
       "    }\n",
       "\n",
       "    .dataframe thead th {\n",
       "        text-align: right;\n",
       "    }\n",
       "</style>\n",
       "<table border=\"1\" class=\"dataframe\">\n",
       "  <thead>\n",
       "    <tr style=\"text-align: right;\">\n",
       "      <th></th>\n",
       "      <th>Year</th>\n",
       "      <th>Amount</th>\n",
       "    </tr>\n",
       "  </thead>\n",
       "  <tbody>\n",
       "    <tr>\n",
       "      <th>0</th>\n",
       "      <td>2018</td>\n",
       "      <td>1602</td>\n",
       "    </tr>\n",
       "    <tr>\n",
       "      <th>1</th>\n",
       "      <td>2016</td>\n",
       "      <td>1587</td>\n",
       "    </tr>\n",
       "    <tr>\n",
       "      <th>2</th>\n",
       "      <td>2017</td>\n",
       "      <td>1586</td>\n",
       "    </tr>\n",
       "    <tr>\n",
       "      <th>3</th>\n",
       "      <td>2015</td>\n",
       "      <td>1552</td>\n",
       "    </tr>\n",
       "    <tr>\n",
       "      <th>4</th>\n",
       "      <td>2012</td>\n",
       "      <td>1547</td>\n",
       "    </tr>\n",
       "    <tr>\n",
       "      <th>5</th>\n",
       "      <td>2021</td>\n",
       "      <td>1518</td>\n",
       "    </tr>\n",
       "    <tr>\n",
       "      <th>6</th>\n",
       "      <td>2014</td>\n",
       "      <td>1517</td>\n",
       "    </tr>\n",
       "    <tr>\n",
       "      <th>7</th>\n",
       "      <td>2019</td>\n",
       "      <td>1508</td>\n",
       "    </tr>\n",
       "    <tr>\n",
       "      <th>8</th>\n",
       "      <td>2020</td>\n",
       "      <td>1506</td>\n",
       "    </tr>\n",
       "    <tr>\n",
       "      <th>9</th>\n",
       "      <td>2013</td>\n",
       "      <td>1493</td>\n",
       "    </tr>\n",
       "    <tr>\n",
       "      <th>10</th>\n",
       "      <td>2010</td>\n",
       "      <td>1455</td>\n",
       "    </tr>\n",
       "    <tr>\n",
       "      <th>11</th>\n",
       "      <td>2011</td>\n",
       "      <td>1379</td>\n",
       "    </tr>\n",
       "  </tbody>\n",
       "</table>\n",
       "</div>"
      ],
      "text/plain": [
       "    Year  Amount\n",
       "0   2018    1602\n",
       "1   2016    1587\n",
       "2   2017    1586\n",
       "3   2015    1552\n",
       "4   2012    1547\n",
       "5   2021    1518\n",
       "6   2014    1517\n",
       "7   2019    1508\n",
       "8   2020    1506\n",
       "9   2013    1493\n",
       "10  2010    1455\n",
       "11  2011    1379"
      ]
     },
     "execution_count": 55,
     "metadata": {},
     "output_type": "execute_result"
    }
   ],
   "source": [
    "chart_white"
   ]
  },
  {
   "cell_type": "code",
   "execution_count": 56,
   "id": "d04c8525-bcf5-4054-9b94-1a436e8f3853",
   "metadata": {},
   "outputs": [
    {
     "data": {
      "text/plain": [
       "1520.8333333333333"
      ]
     },
     "execution_count": 56,
     "metadata": {},
     "output_type": "execute_result"
    }
   ],
   "source": [
    "chart_white['Amount'].mean()"
   ]
  },
  {
   "cell_type": "code",
   "execution_count": 57,
   "id": "de3f46cf-e79f-43c8-8bee-98a9d9989bbb",
   "metadata": {},
   "outputs": [],
   "source": [
    "white_chart = alt.Chart(chart_white, title= 'White Officers from 2010 - 2021').mark_bar().encode(\n",
    "    alt.X('Year', axis=alt.Axis(labelAngle=0)),\n",
    "    alt.Y('Amount')).properties(\n",
    "    width=800,\n",
    "    height=300\n",
    ")"
   ]
  },
  {
   "cell_type": "code",
   "execution_count": 58,
   "id": "14585622-dd12-49ed-a93d-2a25aeec577a",
   "metadata": {},
   "outputs": [
    {
     "data": {
      "text/html": [
       "\n",
       "<div id=\"altair-viz-4be1088cc4d44ac0b0056ba781e79aa9\"></div>\n",
       "<script type=\"text/javascript\">\n",
       "  (function(spec, embedOpt){\n",
       "    let outputDiv = document.currentScript.previousElementSibling;\n",
       "    if (outputDiv.id !== \"altair-viz-4be1088cc4d44ac0b0056ba781e79aa9\") {\n",
       "      outputDiv = document.getElementById(\"altair-viz-4be1088cc4d44ac0b0056ba781e79aa9\");\n",
       "    }\n",
       "    const paths = {\n",
       "      \"vega\": \"https://cdn.jsdelivr.net/npm//vega@5?noext\",\n",
       "      \"vega-lib\": \"https://cdn.jsdelivr.net/npm//vega-lib?noext\",\n",
       "      \"vega-lite\": \"https://cdn.jsdelivr.net/npm//vega-lite@4.8.1?noext\",\n",
       "      \"vega-embed\": \"https://cdn.jsdelivr.net/npm//vega-embed@6?noext\",\n",
       "    };\n",
       "\n",
       "    function loadScript(lib) {\n",
       "      return new Promise(function(resolve, reject) {\n",
       "        var s = document.createElement('script');\n",
       "        s.src = paths[lib];\n",
       "        s.async = true;\n",
       "        s.onload = () => resolve(paths[lib]);\n",
       "        s.onerror = () => reject(`Error loading script: ${paths[lib]}`);\n",
       "        document.getElementsByTagName(\"head\")[0].appendChild(s);\n",
       "      });\n",
       "    }\n",
       "\n",
       "    function showError(err) {\n",
       "      outputDiv.innerHTML = `<div class=\"error\" style=\"color:red;\">${err}</div>`;\n",
       "      throw err;\n",
       "    }\n",
       "\n",
       "    function displayChart(vegaEmbed) {\n",
       "      vegaEmbed(outputDiv, spec, embedOpt)\n",
       "        .catch(err => showError(`Javascript Error: ${err.message}<br>This usually means there's a typo in your chart specification. See the javascript console for the full traceback.`));\n",
       "    }\n",
       "\n",
       "    if(typeof define === \"function\" && define.amd) {\n",
       "      requirejs.config({paths});\n",
       "      require([\"vega-embed\"], displayChart, err => showError(`Error loading script: ${err.message}`));\n",
       "    } else if (typeof vegaEmbed === \"function\") {\n",
       "      displayChart(vegaEmbed);\n",
       "    } else {\n",
       "      loadScript(\"vega\")\n",
       "        .then(() => loadScript(\"vega-lite\"))\n",
       "        .then(() => loadScript(\"vega-embed\"))\n",
       "        .catch(showError)\n",
       "        .then(() => displayChart(vegaEmbed));\n",
       "    }\n",
       "  })({\"config\": {\"view\": {\"continuousWidth\": 400, \"continuousHeight\": 300}}, \"data\": {\"name\": \"data-9c8cb2105bd9669e36996ad793276268\"}, \"mark\": \"bar\", \"encoding\": {\"x\": {\"type\": \"nominal\", \"axis\": {\"labelAngle\": 0}, \"field\": \"Year\"}, \"y\": {\"type\": \"quantitative\", \"field\": \"Amount\"}}, \"height\": 300, \"title\": \"White Officers from 2010 - 2021\", \"width\": 800, \"$schema\": \"https://vega.github.io/schema/vega-lite/v4.8.1.json\", \"datasets\": {\"data-9c8cb2105bd9669e36996ad793276268\": [{\"Year\": \"2018\", \"Amount\": 1602}, {\"Year\": \"2016\", \"Amount\": 1587}, {\"Year\": \"2017\", \"Amount\": 1586}, {\"Year\": \"2015\", \"Amount\": 1552}, {\"Year\": \"2012\", \"Amount\": 1547}, {\"Year\": \"2021\", \"Amount\": 1518}, {\"Year\": \"2014\", \"Amount\": 1517}, {\"Year\": \"2019\", \"Amount\": 1508}, {\"Year\": \"2020\", \"Amount\": 1506}, {\"Year\": \"2013\", \"Amount\": 1493}, {\"Year\": \"2010\", \"Amount\": 1455}, {\"Year\": \"2011\", \"Amount\": 1379}]}}, {\"mode\": \"vega-lite\"});\n",
       "</script>"
      ],
      "text/plain": [
       "alt.Chart(...)"
      ]
     },
     "execution_count": 58,
     "metadata": {},
     "output_type": "execute_result"
    }
   ],
   "source": [
    "white_chart"
   ]
  },
  {
   "cell_type": "markdown",
   "id": "0f446254-4963-470c-933e-5db88b2151c2",
   "metadata": {},
   "source": [
    "## Notes above are same for following racial stats over time"
   ]
  },
  {
   "cell_type": "markdown",
   "id": "110186ae-6b10-4f6f-bfcc-1b4e96fe1c39",
   "metadata": {},
   "source": [
    "### Black Officer Change from 2010 - 2021"
   ]
  },
  {
   "cell_type": "code",
   "execution_count": 59,
   "id": "9ebe7abb-faca-4e0e-9fcb-a6fb7655383b",
   "metadata": {},
   "outputs": [],
   "source": [
    "roster_black = year_race.loc[year_race['clean_race_ethnicity'] == 'black']\n",
    "chart_black = roster_black['year'].value_counts().reset_index()\n",
    "chart_black.columns = ['Year','Amount']\n",
    "chart_black['Year'] = chart_black['Year'].astype(str)"
   ]
  },
  {
   "cell_type": "code",
   "execution_count": 60,
   "id": "6faf0d4d-fcab-4103-afa7-44cc90efda8c",
   "metadata": {},
   "outputs": [
    {
     "data": {
      "text/html": [
       "<style  type=\"text/css\" >\n",
       "</style><table id=\"T_7afdb_\" ><caption>Black Officers from 2010 - 2021</caption><thead>    <tr>        <th class=\"blank level0\" ></th>        <th class=\"col_heading level0 col0\" >Year</th>        <th class=\"col_heading level0 col1\" >Amount</th>    </tr></thead><tbody>\n",
       "                <tr>\n",
       "                        <th id=\"T_7afdb_level0_row0\" class=\"row_heading level0 row0\" >0</th>\n",
       "                        <td id=\"T_7afdb_row0_col0\" class=\"data row0 col0\" >2012</td>\n",
       "                        <td id=\"T_7afdb_row0_col1\" class=\"data row0 col1\" >429</td>\n",
       "            </tr>\n",
       "            <tr>\n",
       "                        <th id=\"T_7afdb_level0_row1\" class=\"row_heading level0 row1\" >1</th>\n",
       "                        <td id=\"T_7afdb_row1_col0\" class=\"data row1 col0\" >2010</td>\n",
       "                        <td id=\"T_7afdb_row1_col1\" class=\"data row1 col1\" >398</td>\n",
       "            </tr>\n",
       "            <tr>\n",
       "                        <th id=\"T_7afdb_level0_row2\" class=\"row_heading level0 row2\" >2</th>\n",
       "                        <td id=\"T_7afdb_row2_col0\" class=\"data row2 col0\" >2011</td>\n",
       "                        <td id=\"T_7afdb_row2_col1\" class=\"data row2 col1\" >388</td>\n",
       "            </tr>\n",
       "            <tr>\n",
       "                        <th id=\"T_7afdb_level0_row3\" class=\"row_heading level0 row3\" >3</th>\n",
       "                        <td id=\"T_7afdb_row3_col0\" class=\"data row3 col0\" >2013</td>\n",
       "                        <td id=\"T_7afdb_row3_col1\" class=\"data row3 col1\" >381</td>\n",
       "            </tr>\n",
       "            <tr>\n",
       "                        <th id=\"T_7afdb_level0_row4\" class=\"row_heading level0 row4\" >4</th>\n",
       "                        <td id=\"T_7afdb_row4_col0\" class=\"data row4 col0\" >2017</td>\n",
       "                        <td id=\"T_7afdb_row4_col1\" class=\"data row4 col1\" >373</td>\n",
       "            </tr>\n",
       "            <tr>\n",
       "                        <th id=\"T_7afdb_level0_row5\" class=\"row_heading level0 row5\" >5</th>\n",
       "                        <td id=\"T_7afdb_row5_col0\" class=\"data row5 col0\" >2018</td>\n",
       "                        <td id=\"T_7afdb_row5_col1\" class=\"data row5 col1\" >369</td>\n",
       "            </tr>\n",
       "            <tr>\n",
       "                        <th id=\"T_7afdb_level0_row6\" class=\"row_heading level0 row6\" >6</th>\n",
       "                        <td id=\"T_7afdb_row6_col0\" class=\"data row6 col0\" >2016</td>\n",
       "                        <td id=\"T_7afdb_row6_col1\" class=\"data row6 col1\" >361</td>\n",
       "            </tr>\n",
       "            <tr>\n",
       "                        <th id=\"T_7afdb_level0_row7\" class=\"row_heading level0 row7\" >7</th>\n",
       "                        <td id=\"T_7afdb_row7_col0\" class=\"data row7 col0\" >2014</td>\n",
       "                        <td id=\"T_7afdb_row7_col1\" class=\"data row7 col1\" >357</td>\n",
       "            </tr>\n",
       "            <tr>\n",
       "                        <th id=\"T_7afdb_level0_row8\" class=\"row_heading level0 row8\" >8</th>\n",
       "                        <td id=\"T_7afdb_row8_col0\" class=\"data row8 col0\" >2015</td>\n",
       "                        <td id=\"T_7afdb_row8_col1\" class=\"data row8 col1\" >342</td>\n",
       "            </tr>\n",
       "            <tr>\n",
       "                        <th id=\"T_7afdb_level0_row9\" class=\"row_heading level0 row9\" >9</th>\n",
       "                        <td id=\"T_7afdb_row9_col0\" class=\"data row9 col0\" >2019</td>\n",
       "                        <td id=\"T_7afdb_row9_col1\" class=\"data row9 col1\" >332</td>\n",
       "            </tr>\n",
       "            <tr>\n",
       "                        <th id=\"T_7afdb_level0_row10\" class=\"row_heading level0 row10\" >10</th>\n",
       "                        <td id=\"T_7afdb_row10_col0\" class=\"data row10 col0\" >2020</td>\n",
       "                        <td id=\"T_7afdb_row10_col1\" class=\"data row10 col1\" >330</td>\n",
       "            </tr>\n",
       "            <tr>\n",
       "                        <th id=\"T_7afdb_level0_row11\" class=\"row_heading level0 row11\" >11</th>\n",
       "                        <td id=\"T_7afdb_row11_col0\" class=\"data row11 col0\" >2021</td>\n",
       "                        <td id=\"T_7afdb_row11_col1\" class=\"data row11 col1\" >324</td>\n",
       "            </tr>\n",
       "    </tbody></table>"
      ],
      "text/plain": [
       "<pandas.io.formats.style.Styler at 0x7fc6888dadc0>"
      ]
     },
     "execution_count": 60,
     "metadata": {},
     "output_type": "execute_result"
    }
   ],
   "source": [
    "chart_black.style.set_caption(\"Black Officers from 2010 - 2021\")"
   ]
  },
  {
   "cell_type": "code",
   "execution_count": 61,
   "id": "416feb9b-b6c6-4df5-b550-17b6cbc77bae",
   "metadata": {},
   "outputs": [
    {
     "data": {
      "text/plain": [
       "365.3333333333333"
      ]
     },
     "execution_count": 61,
     "metadata": {},
     "output_type": "execute_result"
    }
   ],
   "source": [
    "test = chart_black['Amount'].mean()\n",
    "test"
   ]
  },
  {
   "cell_type": "code",
   "execution_count": 62,
   "id": "d200b51e-96bd-4817-817b-49fc8e7ddbed",
   "metadata": {},
   "outputs": [],
   "source": [
    "black_chart = alt.Chart(chart_black, title= 'Black Officers from 2010 - 2021').mark_bar(color=\"#FE2D00\").encode(\n",
    "    alt.X('Year', axis=alt.Axis(labelAngle=0)),\n",
    "    alt.Y('Amount')).properties(\n",
    "    width=800,\n",
    "    height=300\n",
    ")"
   ]
  },
  {
   "cell_type": "code",
   "execution_count": 63,
   "id": "1fdfb397-bdd6-45e5-b71e-603a9403fb02",
   "metadata": {},
   "outputs": [
    {
     "data": {
      "text/html": [
       "\n",
       "<div id=\"altair-viz-93cc05dad17f4c5a847ef302ab425a7d\"></div>\n",
       "<script type=\"text/javascript\">\n",
       "  (function(spec, embedOpt){\n",
       "    let outputDiv = document.currentScript.previousElementSibling;\n",
       "    if (outputDiv.id !== \"altair-viz-93cc05dad17f4c5a847ef302ab425a7d\") {\n",
       "      outputDiv = document.getElementById(\"altair-viz-93cc05dad17f4c5a847ef302ab425a7d\");\n",
       "    }\n",
       "    const paths = {\n",
       "      \"vega\": \"https://cdn.jsdelivr.net/npm//vega@5?noext\",\n",
       "      \"vega-lib\": \"https://cdn.jsdelivr.net/npm//vega-lib?noext\",\n",
       "      \"vega-lite\": \"https://cdn.jsdelivr.net/npm//vega-lite@4.8.1?noext\",\n",
       "      \"vega-embed\": \"https://cdn.jsdelivr.net/npm//vega-embed@6?noext\",\n",
       "    };\n",
       "\n",
       "    function loadScript(lib) {\n",
       "      return new Promise(function(resolve, reject) {\n",
       "        var s = document.createElement('script');\n",
       "        s.src = paths[lib];\n",
       "        s.async = true;\n",
       "        s.onload = () => resolve(paths[lib]);\n",
       "        s.onerror = () => reject(`Error loading script: ${paths[lib]}`);\n",
       "        document.getElementsByTagName(\"head\")[0].appendChild(s);\n",
       "      });\n",
       "    }\n",
       "\n",
       "    function showError(err) {\n",
       "      outputDiv.innerHTML = `<div class=\"error\" style=\"color:red;\">${err}</div>`;\n",
       "      throw err;\n",
       "    }\n",
       "\n",
       "    function displayChart(vegaEmbed) {\n",
       "      vegaEmbed(outputDiv, spec, embedOpt)\n",
       "        .catch(err => showError(`Javascript Error: ${err.message}<br>This usually means there's a typo in your chart specification. See the javascript console for the full traceback.`));\n",
       "    }\n",
       "\n",
       "    if(typeof define === \"function\" && define.amd) {\n",
       "      requirejs.config({paths});\n",
       "      require([\"vega-embed\"], displayChart, err => showError(`Error loading script: ${err.message}`));\n",
       "    } else if (typeof vegaEmbed === \"function\") {\n",
       "      displayChart(vegaEmbed);\n",
       "    } else {\n",
       "      loadScript(\"vega\")\n",
       "        .then(() => loadScript(\"vega-lite\"))\n",
       "        .then(() => loadScript(\"vega-embed\"))\n",
       "        .catch(showError)\n",
       "        .then(() => displayChart(vegaEmbed));\n",
       "    }\n",
       "  })({\"config\": {\"view\": {\"continuousWidth\": 400, \"continuousHeight\": 300}}, \"data\": {\"name\": \"data-d36c9c0f456d1a6c4f533e5e870c2f01\"}, \"mark\": {\"type\": \"bar\", \"color\": \"#FE2D00\"}, \"encoding\": {\"x\": {\"type\": \"nominal\", \"axis\": {\"labelAngle\": 0}, \"field\": \"Year\"}, \"y\": {\"type\": \"quantitative\", \"field\": \"Amount\"}}, \"height\": 300, \"title\": \"Black Officers from 2010 - 2021\", \"width\": 800, \"$schema\": \"https://vega.github.io/schema/vega-lite/v4.8.1.json\", \"datasets\": {\"data-d36c9c0f456d1a6c4f533e5e870c2f01\": [{\"Year\": \"2012\", \"Amount\": 429}, {\"Year\": \"2010\", \"Amount\": 398}, {\"Year\": \"2011\", \"Amount\": 388}, {\"Year\": \"2013\", \"Amount\": 381}, {\"Year\": \"2017\", \"Amount\": 373}, {\"Year\": \"2018\", \"Amount\": 369}, {\"Year\": \"2016\", \"Amount\": 361}, {\"Year\": \"2014\", \"Amount\": 357}, {\"Year\": \"2015\", \"Amount\": 342}, {\"Year\": \"2019\", \"Amount\": 332}, {\"Year\": \"2020\", \"Amount\": 330}, {\"Year\": \"2021\", \"Amount\": 324}]}}, {\"mode\": \"vega-lite\"});\n",
       "</script>"
      ],
      "text/plain": [
       "alt.Chart(...)"
      ]
     },
     "execution_count": 63,
     "metadata": {},
     "output_type": "execute_result"
    }
   ],
   "source": [
    "black_chart"
   ]
  },
  {
   "cell_type": "markdown",
   "id": "27b0f6b3-1c90-421d-a4e5-bed6c9f155cf",
   "metadata": {},
   "source": [
    "## **Overall, the number of Black officers decreased in the past 10 years. Hit its lowest point in 2020, not counting 2021 since that data could change.**"
   ]
  },
  {
   "cell_type": "markdown",
   "id": "23039d0e-b562-4477-9b40-a8958f942515",
   "metadata": {},
   "source": [
    "### Hispanic Officer Change from 2010 - 2021"
   ]
  },
  {
   "cell_type": "code",
   "execution_count": 64,
   "id": "1aa0365d-b438-4edb-9b2c-de490ccb81e3",
   "metadata": {},
   "outputs": [],
   "source": [
    "roster_hispanic = year_race.loc[year_race['clean_race_ethnicity'] == 'hispanic']\n",
    "chart_hispanic = roster_hispanic['year'].value_counts().reset_index()\n",
    "chart_hispanic.columns = ['Year','Amount']\n",
    "chart_hispanic['Year'] = chart_hispanic['Year'].astype(str)"
   ]
  },
  {
   "cell_type": "code",
   "execution_count": 65,
   "id": "4ff0ef42-5c0c-4462-a6b6-6c8d7d2f2b64",
   "metadata": {},
   "outputs": [],
   "source": [
    "hispanic_chart = alt.Chart(chart_hispanic, title= 'Hispanic Officers from 2010 - 2021').mark_bar().encode(\n",
    "    alt.X('Year', axis=alt.Axis(labelAngle=0)),\n",
    "    alt.Y('Amount')).properties(\n",
    "    width=800,\n",
    "    height=300\n",
    ")"
   ]
  },
  {
   "cell_type": "code",
   "execution_count": 66,
   "id": "adb0933c-5418-4f0c-936a-f25340a081ed",
   "metadata": {},
   "outputs": [
    {
     "data": {
      "text/html": [
       "\n",
       "<div id=\"altair-viz-378ec482f257429896655d55a0350ff4\"></div>\n",
       "<script type=\"text/javascript\">\n",
       "  (function(spec, embedOpt){\n",
       "    let outputDiv = document.currentScript.previousElementSibling;\n",
       "    if (outputDiv.id !== \"altair-viz-378ec482f257429896655d55a0350ff4\") {\n",
       "      outputDiv = document.getElementById(\"altair-viz-378ec482f257429896655d55a0350ff4\");\n",
       "    }\n",
       "    const paths = {\n",
       "      \"vega\": \"https://cdn.jsdelivr.net/npm//vega@5?noext\",\n",
       "      \"vega-lib\": \"https://cdn.jsdelivr.net/npm//vega-lib?noext\",\n",
       "      \"vega-lite\": \"https://cdn.jsdelivr.net/npm//vega-lite@4.8.1?noext\",\n",
       "      \"vega-embed\": \"https://cdn.jsdelivr.net/npm//vega-embed@6?noext\",\n",
       "    };\n",
       "\n",
       "    function loadScript(lib) {\n",
       "      return new Promise(function(resolve, reject) {\n",
       "        var s = document.createElement('script');\n",
       "        s.src = paths[lib];\n",
       "        s.async = true;\n",
       "        s.onload = () => resolve(paths[lib]);\n",
       "        s.onerror = () => reject(`Error loading script: ${paths[lib]}`);\n",
       "        document.getElementsByTagName(\"head\")[0].appendChild(s);\n",
       "      });\n",
       "    }\n",
       "\n",
       "    function showError(err) {\n",
       "      outputDiv.innerHTML = `<div class=\"error\" style=\"color:red;\">${err}</div>`;\n",
       "      throw err;\n",
       "    }\n",
       "\n",
       "    function displayChart(vegaEmbed) {\n",
       "      vegaEmbed(outputDiv, spec, embedOpt)\n",
       "        .catch(err => showError(`Javascript Error: ${err.message}<br>This usually means there's a typo in your chart specification. See the javascript console for the full traceback.`));\n",
       "    }\n",
       "\n",
       "    if(typeof define === \"function\" && define.amd) {\n",
       "      requirejs.config({paths});\n",
       "      require([\"vega-embed\"], displayChart, err => showError(`Error loading script: ${err.message}`));\n",
       "    } else if (typeof vegaEmbed === \"function\") {\n",
       "      displayChart(vegaEmbed);\n",
       "    } else {\n",
       "      loadScript(\"vega\")\n",
       "        .then(() => loadScript(\"vega-lite\"))\n",
       "        .then(() => loadScript(\"vega-embed\"))\n",
       "        .catch(showError)\n",
       "        .then(() => displayChart(vegaEmbed));\n",
       "    }\n",
       "  })({\"config\": {\"view\": {\"continuousWidth\": 400, \"continuousHeight\": 300}}, \"data\": {\"name\": \"data-be4f534e615032385a51736f6ba24c68\"}, \"mark\": \"bar\", \"encoding\": {\"x\": {\"type\": \"nominal\", \"axis\": {\"labelAngle\": 0}, \"field\": \"Year\"}, \"y\": {\"type\": \"quantitative\", \"field\": \"Amount\"}}, \"height\": 300, \"title\": \"Hispanic Officers from 2010 - 2021\", \"width\": 800, \"$schema\": \"https://vega.github.io/schema/vega-lite/v4.8.1.json\", \"datasets\": {\"data-be4f534e615032385a51736f6ba24c68\": [{\"Year\": \"2020\", \"Amount\": 52}, {\"Year\": \"2021\", \"Amount\": 51}, {\"Year\": \"2019\", \"Amount\": 45}, {\"Year\": \"2018\", \"Amount\": 41}, {\"Year\": \"2016\", \"Amount\": 36}, {\"Year\": \"2017\", \"Amount\": 36}, {\"Year\": \"2015\", \"Amount\": 31}, {\"Year\": \"2013\", \"Amount\": 30}, {\"Year\": \"2014\", \"Amount\": 28}, {\"Year\": \"2012\", \"Amount\": 26}, {\"Year\": \"2011\", \"Amount\": 24}, {\"Year\": \"2010\", \"Amount\": 23}]}}, {\"mode\": \"vega-lite\"});\n",
       "</script>"
      ],
      "text/plain": [
       "alt.Chart(...)"
      ]
     },
     "execution_count": 66,
     "metadata": {},
     "output_type": "execute_result"
    }
   ],
   "source": [
    "hispanic_chart"
   ]
  },
  {
   "cell_type": "markdown",
   "id": "20f07522-e69c-4dca-93e6-177b8d9c013a",
   "metadata": {},
   "source": [
    "## **Interesting to see that Hispanic officers more than doubled over the past ten years**"
   ]
  },
  {
   "cell_type": "markdown",
   "id": "edcec971-d734-4e7d-9f95-05f9a0f75d89",
   "metadata": {},
   "source": [
    "### Multiracial Officer Change from 2010 - 2021"
   ]
  },
  {
   "cell_type": "code",
   "execution_count": 67,
   "id": "0ab938ab-3117-4bd5-a517-dd7eed0befaa",
   "metadata": {},
   "outputs": [],
   "source": [
    "roster_multi = year_race.loc[year_race['clean_race_ethnicity'] == 'multiracial']\n",
    "chart_multi = roster_multi['year'].value_counts().reset_index()\n",
    "chart_multi.columns = ['Year','Amount']\n",
    "chart_multi['Year'] = chart_multi['Year'].astype(str)"
   ]
  },
  {
   "cell_type": "code",
   "execution_count": 68,
   "id": "1d4b6c97-9da6-4364-814c-5e9b9404412c",
   "metadata": {},
   "outputs": [],
   "source": [
    "multi_chart = alt.Chart(chart_multi, title= 'Multiracial Officers from 2010 - 2021').mark_bar().encode(\n",
    "    alt.X('Year', axis=alt.Axis(labelAngle=0)),\n",
    "    alt.Y('Amount')).properties(\n",
    "    width=800,\n",
    "    height=300\n",
    ")"
   ]
  },
  {
   "cell_type": "code",
   "execution_count": 69,
   "id": "89a636d5-4391-4c9d-93d2-cf62769a6aa9",
   "metadata": {},
   "outputs": [
    {
     "data": {
      "text/html": [
       "\n",
       "<div id=\"altair-viz-afffeba0b58648cba48fbe399f53df77\"></div>\n",
       "<script type=\"text/javascript\">\n",
       "  (function(spec, embedOpt){\n",
       "    let outputDiv = document.currentScript.previousElementSibling;\n",
       "    if (outputDiv.id !== \"altair-viz-afffeba0b58648cba48fbe399f53df77\") {\n",
       "      outputDiv = document.getElementById(\"altair-viz-afffeba0b58648cba48fbe399f53df77\");\n",
       "    }\n",
       "    const paths = {\n",
       "      \"vega\": \"https://cdn.jsdelivr.net/npm//vega@5?noext\",\n",
       "      \"vega-lib\": \"https://cdn.jsdelivr.net/npm//vega-lib?noext\",\n",
       "      \"vega-lite\": \"https://cdn.jsdelivr.net/npm//vega-lite@4.8.1?noext\",\n",
       "      \"vega-embed\": \"https://cdn.jsdelivr.net/npm//vega-embed@6?noext\",\n",
       "    };\n",
       "\n",
       "    function loadScript(lib) {\n",
       "      return new Promise(function(resolve, reject) {\n",
       "        var s = document.createElement('script');\n",
       "        s.src = paths[lib];\n",
       "        s.async = true;\n",
       "        s.onload = () => resolve(paths[lib]);\n",
       "        s.onerror = () => reject(`Error loading script: ${paths[lib]}`);\n",
       "        document.getElementsByTagName(\"head\")[0].appendChild(s);\n",
       "      });\n",
       "    }\n",
       "\n",
       "    function showError(err) {\n",
       "      outputDiv.innerHTML = `<div class=\"error\" style=\"color:red;\">${err}</div>`;\n",
       "      throw err;\n",
       "    }\n",
       "\n",
       "    function displayChart(vegaEmbed) {\n",
       "      vegaEmbed(outputDiv, spec, embedOpt)\n",
       "        .catch(err => showError(`Javascript Error: ${err.message}<br>This usually means there's a typo in your chart specification. See the javascript console for the full traceback.`));\n",
       "    }\n",
       "\n",
       "    if(typeof define === \"function\" && define.amd) {\n",
       "      requirejs.config({paths});\n",
       "      require([\"vega-embed\"], displayChart, err => showError(`Error loading script: ${err.message}`));\n",
       "    } else if (typeof vegaEmbed === \"function\") {\n",
       "      displayChart(vegaEmbed);\n",
       "    } else {\n",
       "      loadScript(\"vega\")\n",
       "        .then(() => loadScript(\"vega-lite\"))\n",
       "        .then(() => loadScript(\"vega-embed\"))\n",
       "        .catch(showError)\n",
       "        .then(() => displayChart(vegaEmbed));\n",
       "    }\n",
       "  })({\"config\": {\"view\": {\"continuousWidth\": 400, \"continuousHeight\": 300}}, \"data\": {\"name\": \"data-6d6fe274e33048da6818257de12604f5\"}, \"mark\": \"bar\", \"encoding\": {\"x\": {\"type\": \"nominal\", \"axis\": {\"labelAngle\": 0}, \"field\": \"Year\"}, \"y\": {\"type\": \"quantitative\", \"field\": \"Amount\"}}, \"height\": 300, \"title\": \"Multiracial Officers from 2010 - 2021\", \"width\": 800, \"$schema\": \"https://vega.github.io/schema/vega-lite/v4.8.1.json\", \"datasets\": {\"data-6d6fe274e33048da6818257de12604f5\": [{\"Year\": \"2018\", \"Amount\": 68}, {\"Year\": \"2019\", \"Amount\": 64}, {\"Year\": \"2021\", \"Amount\": 64}, {\"Year\": \"2020\", \"Amount\": 61}]}}, {\"mode\": \"vega-lite\"});\n",
       "</script>"
      ],
      "text/plain": [
       "alt.Chart(...)"
      ]
     },
     "execution_count": 69,
     "metadata": {},
     "output_type": "execute_result"
    }
   ],
   "source": [
    "multi_chart"
   ]
  },
  {
   "cell_type": "markdown",
   "id": "7272bcf9-c833-4a34-8bb6-b4f9801adf82",
   "metadata": {},
   "source": [
    "## **Large amounts of officers, 60+, designated as multiracial starting in 2018. Definitely affect other racial categories.**"
   ]
  },
  {
   "cell_type": "markdown",
   "id": "4a4482b8-aa16-4793-8567-cc1f728ae838",
   "metadata": {},
   "source": [
    "### Asian/Pacific Islander Officer Change from 2010 - 2021"
   ]
  },
  {
   "cell_type": "code",
   "execution_count": 70,
   "id": "1841d7d1-b091-4bda-b36f-e1c310e163b1",
   "metadata": {},
   "outputs": [],
   "source": [
    "roster_asian = year_race.loc[year_race['clean_race_ethnicity'] == 'asian/pacific islander']\n",
    "chart_asian = roster_asian['year'].value_counts().reset_index()\n",
    "chart_asian.columns = ['Year','Amount']\n",
    "chart_asian['Year'] = chart_asian['Year'].astype(str)"
   ]
  },
  {
   "cell_type": "code",
   "execution_count": 71,
   "id": "6a624665-6689-4e25-ba50-275acf5b2156",
   "metadata": {},
   "outputs": [],
   "source": [
    "asian_chart = alt.Chart(chart_asian, title= 'Asian/Pacific Islander Officers from 2010 - 2021').mark_bar().encode(\n",
    "    alt.X('Year', axis=alt.Axis(labelAngle=0)),\n",
    "    alt.Y('Amount')).properties(\n",
    "    width=800,\n",
    "    height=300\n",
    ")"
   ]
  },
  {
   "cell_type": "code",
   "execution_count": 72,
   "id": "6aa92bdc-0c61-4a48-8157-af6d99a3e8ea",
   "metadata": {},
   "outputs": [
    {
     "data": {
      "text/html": [
       "\n",
       "<div id=\"altair-viz-c9ddb350c0fb4489b960c04bfa2de84e\"></div>\n",
       "<script type=\"text/javascript\">\n",
       "  (function(spec, embedOpt){\n",
       "    let outputDiv = document.currentScript.previousElementSibling;\n",
       "    if (outputDiv.id !== \"altair-viz-c9ddb350c0fb4489b960c04bfa2de84e\") {\n",
       "      outputDiv = document.getElementById(\"altair-viz-c9ddb350c0fb4489b960c04bfa2de84e\");\n",
       "    }\n",
       "    const paths = {\n",
       "      \"vega\": \"https://cdn.jsdelivr.net/npm//vega@5?noext\",\n",
       "      \"vega-lib\": \"https://cdn.jsdelivr.net/npm//vega-lib?noext\",\n",
       "      \"vega-lite\": \"https://cdn.jsdelivr.net/npm//vega-lite@4.8.1?noext\",\n",
       "      \"vega-embed\": \"https://cdn.jsdelivr.net/npm//vega-embed@6?noext\",\n",
       "    };\n",
       "\n",
       "    function loadScript(lib) {\n",
       "      return new Promise(function(resolve, reject) {\n",
       "        var s = document.createElement('script');\n",
       "        s.src = paths[lib];\n",
       "        s.async = true;\n",
       "        s.onload = () => resolve(paths[lib]);\n",
       "        s.onerror = () => reject(`Error loading script: ${paths[lib]}`);\n",
       "        document.getElementsByTagName(\"head\")[0].appendChild(s);\n",
       "      });\n",
       "    }\n",
       "\n",
       "    function showError(err) {\n",
       "      outputDiv.innerHTML = `<div class=\"error\" style=\"color:red;\">${err}</div>`;\n",
       "      throw err;\n",
       "    }\n",
       "\n",
       "    function displayChart(vegaEmbed) {\n",
       "      vegaEmbed(outputDiv, spec, embedOpt)\n",
       "        .catch(err => showError(`Javascript Error: ${err.message}<br>This usually means there's a typo in your chart specification. See the javascript console for the full traceback.`));\n",
       "    }\n",
       "\n",
       "    if(typeof define === \"function\" && define.amd) {\n",
       "      requirejs.config({paths});\n",
       "      require([\"vega-embed\"], displayChart, err => showError(`Error loading script: ${err.message}`));\n",
       "    } else if (typeof vegaEmbed === \"function\") {\n",
       "      displayChart(vegaEmbed);\n",
       "    } else {\n",
       "      loadScript(\"vega\")\n",
       "        .then(() => loadScript(\"vega-lite\"))\n",
       "        .then(() => loadScript(\"vega-embed\"))\n",
       "        .catch(showError)\n",
       "        .then(() => displayChart(vegaEmbed));\n",
       "    }\n",
       "  })({\"config\": {\"view\": {\"continuousWidth\": 400, \"continuousHeight\": 300}}, \"data\": {\"name\": \"data-878425b65455755d7ccd6462d46d68d0\"}, \"mark\": \"bar\", \"encoding\": {\"x\": {\"type\": \"nominal\", \"axis\": {\"labelAngle\": 0}, \"field\": \"Year\"}, \"y\": {\"type\": \"quantitative\", \"field\": \"Amount\"}}, \"height\": 300, \"title\": \"Asian/Pacific Islander Officers from 2010 - 2021\", \"width\": 800, \"$schema\": \"https://vega.github.io/schema/vega-lite/v4.8.1.json\", \"datasets\": {\"data-878425b65455755d7ccd6462d46d68d0\": [{\"Year\": \"2016\", \"Amount\": 26}, {\"Year\": \"2013\", \"Amount\": 25}, {\"Year\": \"2015\", \"Amount\": 25}, {\"Year\": \"2017\", \"Amount\": 25}, {\"Year\": \"2014\", \"Amount\": 24}, {\"Year\": \"2020\", \"Amount\": 24}, {\"Year\": \"2021\", \"Amount\": 24}, {\"Year\": \"2010\", \"Amount\": 23}, {\"Year\": \"2012\", \"Amount\": 23}, {\"Year\": \"2011\", \"Amount\": 22}, {\"Year\": \"2019\", \"Amount\": 22}, {\"Year\": \"2018\", \"Amount\": 21}]}}, {\"mode\": \"vega-lite\"});\n",
       "</script>"
      ],
      "text/plain": [
       "alt.Chart(...)"
      ]
     },
     "execution_count": 72,
     "metadata": {},
     "output_type": "execute_result"
    }
   ],
   "source": [
    "asian_chart"
   ]
  },
  {
   "cell_type": "markdown",
   "id": "50415eaa-ff81-464c-a664-0c60c1390fc4",
   "metadata": {},
   "source": [
    "## **Number of Asian/Pacific Islanders never rose above 26 in any given year.**"
   ]
  },
  {
   "cell_type": "markdown",
   "id": "677d82f8-eb6e-4ed5-b241-fc6e8c7d522a",
   "metadata": {},
   "source": [
    "### Native American Officer Change from 2010 - 2021"
   ]
  },
  {
   "cell_type": "code",
   "execution_count": 73,
   "id": "f2c5dc22-e491-4afa-a118-a41d6a3c4c78",
   "metadata": {},
   "outputs": [],
   "source": [
    "roster_native = year_race.loc[year_race['clean_race_ethnicity'] == 'native american']\n",
    "chart_native = roster_native['year'].value_counts().reset_index()\n",
    "chart_native.columns = ['Year','Amount']\n",
    "chart_native['Year'] = chart_native['Year'].astype(str)"
   ]
  },
  {
   "cell_type": "code",
   "execution_count": 74,
   "id": "e7cb9545-3c33-44cc-b0c0-3e03d066d9c9",
   "metadata": {},
   "outputs": [],
   "source": [
    "native_chart = alt.Chart(chart_native, title= 'Native American Officers from 2010 - 2021').mark_bar().encode(\n",
    "    alt.X('Year', axis=alt.Axis(labelAngle=0)),\n",
    "    alt.Y('Amount')).properties(\n",
    "    width=800,\n",
    "    height=300\n",
    ")"
   ]
  },
  {
   "cell_type": "code",
   "execution_count": 75,
   "id": "5b15bf4a-3049-4d53-914f-ce8aa90738a3",
   "metadata": {},
   "outputs": [
    {
     "data": {
      "text/html": [
       "\n",
       "<div id=\"altair-viz-20c70712c3f34ef2b798ff39400d80ea\"></div>\n",
       "<script type=\"text/javascript\">\n",
       "  (function(spec, embedOpt){\n",
       "    let outputDiv = document.currentScript.previousElementSibling;\n",
       "    if (outputDiv.id !== \"altair-viz-20c70712c3f34ef2b798ff39400d80ea\") {\n",
       "      outputDiv = document.getElementById(\"altair-viz-20c70712c3f34ef2b798ff39400d80ea\");\n",
       "    }\n",
       "    const paths = {\n",
       "      \"vega\": \"https://cdn.jsdelivr.net/npm//vega@5?noext\",\n",
       "      \"vega-lib\": \"https://cdn.jsdelivr.net/npm//vega-lib?noext\",\n",
       "      \"vega-lite\": \"https://cdn.jsdelivr.net/npm//vega-lite@4.8.1?noext\",\n",
       "      \"vega-embed\": \"https://cdn.jsdelivr.net/npm//vega-embed@6?noext\",\n",
       "    };\n",
       "\n",
       "    function loadScript(lib) {\n",
       "      return new Promise(function(resolve, reject) {\n",
       "        var s = document.createElement('script');\n",
       "        s.src = paths[lib];\n",
       "        s.async = true;\n",
       "        s.onload = () => resolve(paths[lib]);\n",
       "        s.onerror = () => reject(`Error loading script: ${paths[lib]}`);\n",
       "        document.getElementsByTagName(\"head\")[0].appendChild(s);\n",
       "      });\n",
       "    }\n",
       "\n",
       "    function showError(err) {\n",
       "      outputDiv.innerHTML = `<div class=\"error\" style=\"color:red;\">${err}</div>`;\n",
       "      throw err;\n",
       "    }\n",
       "\n",
       "    function displayChart(vegaEmbed) {\n",
       "      vegaEmbed(outputDiv, spec, embedOpt)\n",
       "        .catch(err => showError(`Javascript Error: ${err.message}<br>This usually means there's a typo in your chart specification. See the javascript console for the full traceback.`));\n",
       "    }\n",
       "\n",
       "    if(typeof define === \"function\" && define.amd) {\n",
       "      requirejs.config({paths});\n",
       "      require([\"vega-embed\"], displayChart, err => showError(`Error loading script: ${err.message}`));\n",
       "    } else if (typeof vegaEmbed === \"function\") {\n",
       "      displayChart(vegaEmbed);\n",
       "    } else {\n",
       "      loadScript(\"vega\")\n",
       "        .then(() => loadScript(\"vega-lite\"))\n",
       "        .then(() => loadScript(\"vega-embed\"))\n",
       "        .catch(showError)\n",
       "        .then(() => displayChart(vegaEmbed));\n",
       "    }\n",
       "  })({\"config\": {\"view\": {\"continuousWidth\": 400, \"continuousHeight\": 300}}, \"data\": {\"name\": \"data-ba818d7e9bbc92df2d4236f3aed954e4\"}, \"mark\": \"bar\", \"encoding\": {\"x\": {\"type\": \"nominal\", \"axis\": {\"labelAngle\": 0}, \"field\": \"Year\"}, \"y\": {\"type\": \"quantitative\", \"field\": \"Amount\"}}, \"height\": 300, \"title\": \"Native American Officers from 2010 - 2021\", \"width\": 800, \"$schema\": \"https://vega.github.io/schema/vega-lite/v4.8.1.json\", \"datasets\": {\"data-ba818d7e9bbc92df2d4236f3aed954e4\": [{\"Year\": \"2018\", \"Amount\": 4}, {\"Year\": \"2020\", \"Amount\": 4}, {\"Year\": \"2021\", \"Amount\": 4}, {\"Year\": \"2019\", \"Amount\": 3}, {\"Year\": \"2012\", \"Amount\": 3}, {\"Year\": \"2010\", \"Amount\": 2}, {\"Year\": \"2011\", \"Amount\": 2}, {\"Year\": \"2013\", \"Amount\": 2}, {\"Year\": \"2014\", \"Amount\": 2}, {\"Year\": \"2015\", \"Amount\": 2}, {\"Year\": \"2016\", \"Amount\": 1}, {\"Year\": \"2017\", \"Amount\": 1}]}}, {\"mode\": \"vega-lite\"});\n",
       "</script>"
      ],
      "text/plain": [
       "alt.Chart(...)"
      ]
     },
     "execution_count": 75,
     "metadata": {},
     "output_type": "execute_result"
    }
   ],
   "source": [
    "native_chart"
   ]
  },
  {
   "cell_type": "markdown",
   "id": "15cb0a5d-5454-452b-8d30-9142c26558f7",
   "metadata": {},
   "source": [
    "## **Number of Native officers never reached 5.**"
   ]
  },
  {
   "cell_type": "markdown",
   "id": "952af9b4-09fb-4b70-a86d-a163678c33b5",
   "metadata": {},
   "source": [
    "### Unknown Officer Change from 2010 - 2021"
   ]
  },
  {
   "cell_type": "code",
   "execution_count": 76,
   "id": "548cc8e7-d50a-4ad5-893e-f51c26494862",
   "metadata": {},
   "outputs": [],
   "source": [
    "roster_unknown = year_race.loc[year_race['clean_race_ethnicity'] == 'unknown']\n",
    "chart_unknown = roster_unknown['year'].value_counts().reset_index()\n",
    "chart_unknown.columns = ['Year','Amount']\n",
    "chart_unknown['Year'] = chart_unknown['Year'].astype(str)"
   ]
  },
  {
   "cell_type": "code",
   "execution_count": 77,
   "id": "72251fc3-00dd-4ac3-ab8e-cf2bf500cb9f",
   "metadata": {},
   "outputs": [],
   "source": [
    "unknown_chart = alt.Chart(chart_unknown, title= 'Unknown Officers from 2010 - 2021').mark_bar().encode(\n",
    "    alt.X('Year', axis=alt.Axis(labelAngle=0)),\n",
    "    alt.Y('Amount')).properties(\n",
    "    width=800,\n",
    "    height=300\n",
    ")"
   ]
  },
  {
   "cell_type": "code",
   "execution_count": 78,
   "id": "71a19de9-31cc-4afc-baa9-b3d9bf969210",
   "metadata": {},
   "outputs": [
    {
     "data": {
      "text/html": [
       "\n",
       "<div id=\"altair-viz-a0bc6f06fdcc4ee3bab6e6c6568e4bb3\"></div>\n",
       "<script type=\"text/javascript\">\n",
       "  (function(spec, embedOpt){\n",
       "    let outputDiv = document.currentScript.previousElementSibling;\n",
       "    if (outputDiv.id !== \"altair-viz-a0bc6f06fdcc4ee3bab6e6c6568e4bb3\") {\n",
       "      outputDiv = document.getElementById(\"altair-viz-a0bc6f06fdcc4ee3bab6e6c6568e4bb3\");\n",
       "    }\n",
       "    const paths = {\n",
       "      \"vega\": \"https://cdn.jsdelivr.net/npm//vega@5?noext\",\n",
       "      \"vega-lib\": \"https://cdn.jsdelivr.net/npm//vega-lib?noext\",\n",
       "      \"vega-lite\": \"https://cdn.jsdelivr.net/npm//vega-lite@4.8.1?noext\",\n",
       "      \"vega-embed\": \"https://cdn.jsdelivr.net/npm//vega-embed@6?noext\",\n",
       "    };\n",
       "\n",
       "    function loadScript(lib) {\n",
       "      return new Promise(function(resolve, reject) {\n",
       "        var s = document.createElement('script');\n",
       "        s.src = paths[lib];\n",
       "        s.async = true;\n",
       "        s.onload = () => resolve(paths[lib]);\n",
       "        s.onerror = () => reject(`Error loading script: ${paths[lib]}`);\n",
       "        document.getElementsByTagName(\"head\")[0].appendChild(s);\n",
       "      });\n",
       "    }\n",
       "\n",
       "    function showError(err) {\n",
       "      outputDiv.innerHTML = `<div class=\"error\" style=\"color:red;\">${err}</div>`;\n",
       "      throw err;\n",
       "    }\n",
       "\n",
       "    function displayChart(vegaEmbed) {\n",
       "      vegaEmbed(outputDiv, spec, embedOpt)\n",
       "        .catch(err => showError(`Javascript Error: ${err.message}<br>This usually means there's a typo in your chart specification. See the javascript console for the full traceback.`));\n",
       "    }\n",
       "\n",
       "    if(typeof define === \"function\" && define.amd) {\n",
       "      requirejs.config({paths});\n",
       "      require([\"vega-embed\"], displayChart, err => showError(`Error loading script: ${err.message}`));\n",
       "    } else if (typeof vegaEmbed === \"function\") {\n",
       "      displayChart(vegaEmbed);\n",
       "    } else {\n",
       "      loadScript(\"vega\")\n",
       "        .then(() => loadScript(\"vega-lite\"))\n",
       "        .then(() => loadScript(\"vega-embed\"))\n",
       "        .catch(showError)\n",
       "        .then(() => displayChart(vegaEmbed));\n",
       "    }\n",
       "  })({\"config\": {\"view\": {\"continuousWidth\": 400, \"continuousHeight\": 300}}, \"data\": {\"name\": \"data-b993389e2d7b10cc76a394e12711474b\"}, \"mark\": \"bar\", \"encoding\": {\"x\": {\"type\": \"nominal\", \"axis\": {\"labelAngle\": 0}, \"field\": \"Year\"}, \"y\": {\"type\": \"quantitative\", \"field\": \"Amount\"}}, \"height\": 300, \"title\": \"Unknown Officers from 2010 - 2021\", \"width\": 800, \"$schema\": \"https://vega.github.io/schema/vega-lite/v4.8.1.json\", \"datasets\": {\"data-b993389e2d7b10cc76a394e12711474b\": [{\"Year\": \"2016\", \"Amount\": 3}, {\"Year\": \"2017\", \"Amount\": 3}, {\"Year\": \"2013\", \"Amount\": 2}, {\"Year\": \"2014\", \"Amount\": 2}, {\"Year\": \"2015\", \"Amount\": 2}, {\"Year\": \"2010\", \"Amount\": 1}, {\"Year\": \"2011\", \"Amount\": 1}, {\"Year\": \"2012\", \"Amount\": 1}]}}, {\"mode\": \"vega-lite\"});\n",
       "</script>"
      ],
      "text/plain": [
       "alt.Chart(...)"
      ]
     },
     "execution_count": 78,
     "metadata": {},
     "output_type": "execute_result"
    }
   ],
   "source": [
    "unknown_chart"
   ]
  },
  {
   "cell_type": "markdown",
   "id": "abab4e02-d58c-4d20-92f5-4e5e7bd0b9bf",
   "metadata": {},
   "source": [
    "## Compare White and Black Officer change from 2010 - 2021"
   ]
  },
  {
   "cell_type": "code",
   "execution_count": 79,
   "id": "b9be0d91-7140-46f5-8e81-babc3275493c",
   "metadata": {},
   "outputs": [
    {
     "data": {
      "text/html": [
       "\n",
       "<div id=\"altair-viz-64612b57efa84caba9d332542467e652\"></div>\n",
       "<script type=\"text/javascript\">\n",
       "  (function(spec, embedOpt){\n",
       "    let outputDiv = document.currentScript.previousElementSibling;\n",
       "    if (outputDiv.id !== \"altair-viz-64612b57efa84caba9d332542467e652\") {\n",
       "      outputDiv = document.getElementById(\"altair-viz-64612b57efa84caba9d332542467e652\");\n",
       "    }\n",
       "    const paths = {\n",
       "      \"vega\": \"https://cdn.jsdelivr.net/npm//vega@5?noext\",\n",
       "      \"vega-lib\": \"https://cdn.jsdelivr.net/npm//vega-lib?noext\",\n",
       "      \"vega-lite\": \"https://cdn.jsdelivr.net/npm//vega-lite@4.8.1?noext\",\n",
       "      \"vega-embed\": \"https://cdn.jsdelivr.net/npm//vega-embed@6?noext\",\n",
       "    };\n",
       "\n",
       "    function loadScript(lib) {\n",
       "      return new Promise(function(resolve, reject) {\n",
       "        var s = document.createElement('script');\n",
       "        s.src = paths[lib];\n",
       "        s.async = true;\n",
       "        s.onload = () => resolve(paths[lib]);\n",
       "        s.onerror = () => reject(`Error loading script: ${paths[lib]}`);\n",
       "        document.getElementsByTagName(\"head\")[0].appendChild(s);\n",
       "      });\n",
       "    }\n",
       "\n",
       "    function showError(err) {\n",
       "      outputDiv.innerHTML = `<div class=\"error\" style=\"color:red;\">${err}</div>`;\n",
       "      throw err;\n",
       "    }\n",
       "\n",
       "    function displayChart(vegaEmbed) {\n",
       "      vegaEmbed(outputDiv, spec, embedOpt)\n",
       "        .catch(err => showError(`Javascript Error: ${err.message}<br>This usually means there's a typo in your chart specification. See the javascript console for the full traceback.`));\n",
       "    }\n",
       "\n",
       "    if(typeof define === \"function\" && define.amd) {\n",
       "      requirejs.config({paths});\n",
       "      require([\"vega-embed\"], displayChart, err => showError(`Error loading script: ${err.message}`));\n",
       "    } else if (typeof vegaEmbed === \"function\") {\n",
       "      displayChart(vegaEmbed);\n",
       "    } else {\n",
       "      loadScript(\"vega\")\n",
       "        .then(() => loadScript(\"vega-lite\"))\n",
       "        .then(() => loadScript(\"vega-embed\"))\n",
       "        .catch(showError)\n",
       "        .then(() => displayChart(vegaEmbed));\n",
       "    }\n",
       "  })({\"config\": {\"view\": {\"continuousWidth\": 400, \"continuousHeight\": 300}}, \"layer\": [{\"data\": {\"name\": \"data-9c8cb2105bd9669e36996ad793276268\"}, \"mark\": \"bar\", \"encoding\": {\"x\": {\"type\": \"nominal\", \"axis\": {\"labelAngle\": 0}, \"field\": \"Year\"}, \"y\": {\"type\": \"quantitative\", \"field\": \"Amount\"}}, \"height\": 300, \"title\": \"White Officers from 2010 - 2021\", \"width\": 800}, {\"data\": {\"name\": \"data-d36c9c0f456d1a6c4f533e5e870c2f01\"}, \"mark\": {\"type\": \"bar\", \"color\": \"#FE2D00\"}, \"encoding\": {\"x\": {\"type\": \"nominal\", \"axis\": {\"labelAngle\": 0}, \"field\": \"Year\"}, \"y\": {\"type\": \"quantitative\", \"field\": \"Amount\"}}, \"height\": 300, \"title\": \"Black Officers from 2010 - 2021\", \"width\": 800}], \"$schema\": \"https://vega.github.io/schema/vega-lite/v4.8.1.json\", \"datasets\": {\"data-9c8cb2105bd9669e36996ad793276268\": [{\"Year\": \"2018\", \"Amount\": 1602}, {\"Year\": \"2016\", \"Amount\": 1587}, {\"Year\": \"2017\", \"Amount\": 1586}, {\"Year\": \"2015\", \"Amount\": 1552}, {\"Year\": \"2012\", \"Amount\": 1547}, {\"Year\": \"2021\", \"Amount\": 1518}, {\"Year\": \"2014\", \"Amount\": 1517}, {\"Year\": \"2019\", \"Amount\": 1508}, {\"Year\": \"2020\", \"Amount\": 1506}, {\"Year\": \"2013\", \"Amount\": 1493}, {\"Year\": \"2010\", \"Amount\": 1455}, {\"Year\": \"2011\", \"Amount\": 1379}], \"data-d36c9c0f456d1a6c4f533e5e870c2f01\": [{\"Year\": \"2012\", \"Amount\": 429}, {\"Year\": \"2010\", \"Amount\": 398}, {\"Year\": \"2011\", \"Amount\": 388}, {\"Year\": \"2013\", \"Amount\": 381}, {\"Year\": \"2017\", \"Amount\": 373}, {\"Year\": \"2018\", \"Amount\": 369}, {\"Year\": \"2016\", \"Amount\": 361}, {\"Year\": \"2014\", \"Amount\": 357}, {\"Year\": \"2015\", \"Amount\": 342}, {\"Year\": \"2019\", \"Amount\": 332}, {\"Year\": \"2020\", \"Amount\": 330}, {\"Year\": \"2021\", \"Amount\": 324}]}}, {\"mode\": \"vega-lite\"});\n",
       "</script>"
      ],
      "text/plain": [
       "alt.LayerChart(...)"
      ]
     },
     "execution_count": 79,
     "metadata": {},
     "output_type": "execute_result"
    }
   ],
   "source": [
    "#Layered chart with Black stats over chart with white stats for comparison.\n",
    "white_chart + black_chart"
   ]
  },
  {
   "cell_type": "code",
   "execution_count": 80,
   "id": "38c42c5a-9482-427c-8861-ebc9f4c2ffed",
   "metadata": {},
   "outputs": [
    {
     "data": {
      "text/plain": [
       "Index(['name', 'job_desc', 'dept_desc', 'gender', 'race_ethnicity',\n",
       "       'date_started', 'year', 'clean_name', 'clean_race_ethnicity'],\n",
       "      dtype='object')"
      ]
     },
     "execution_count": 80,
     "metadata": {},
     "output_type": "execute_result"
    }
   ],
   "source": [
    "roster.columns"
   ]
  },
  {
   "cell_type": "code",
   "execution_count": 81,
   "id": "63d375fb-7868-4059-b875-442721a05171",
   "metadata": {},
   "outputs": [],
   "source": [
    "#Staggered dataset to find number of officers and categorize them by gender and year.\n",
    "all_year_gender = roster.groupby(['year','gender'])['gender'].count().to_frame(name='amount').reset_index()"
   ]
  },
  {
   "cell_type": "code",
   "execution_count": 82,
   "id": "bcc5ab4b-926d-4b35-a38d-238b82546067",
   "metadata": {},
   "outputs": [
    {
     "data": {
      "text/html": [
       "<div>\n",
       "<style scoped>\n",
       "    .dataframe tbody tr th:only-of-type {\n",
       "        vertical-align: middle;\n",
       "    }\n",
       "\n",
       "    .dataframe tbody tr th {\n",
       "        vertical-align: top;\n",
       "    }\n",
       "\n",
       "    .dataframe thead th {\n",
       "        text-align: right;\n",
       "    }\n",
       "</style>\n",
       "<table border=\"1\" class=\"dataframe\">\n",
       "  <thead>\n",
       "    <tr style=\"text-align: right;\">\n",
       "      <th></th>\n",
       "      <th>year</th>\n",
       "      <th>gender</th>\n",
       "      <th>amount</th>\n",
       "    </tr>\n",
       "  </thead>\n",
       "  <tbody>\n",
       "    <tr>\n",
       "      <th>0</th>\n",
       "      <td>2010</td>\n",
       "      <td>F</td>\n",
       "      <td>466</td>\n",
       "    </tr>\n",
       "    <tr>\n",
       "      <th>1</th>\n",
       "      <td>2010</td>\n",
       "      <td>M</td>\n",
       "      <td>1436</td>\n",
       "    </tr>\n",
       "    <tr>\n",
       "      <th>2</th>\n",
       "      <td>2011</td>\n",
       "      <td>F</td>\n",
       "      <td>441</td>\n",
       "    </tr>\n",
       "    <tr>\n",
       "      <th>3</th>\n",
       "      <td>2011</td>\n",
       "      <td>M</td>\n",
       "      <td>1375</td>\n",
       "    </tr>\n",
       "    <tr>\n",
       "      <th>4</th>\n",
       "      <td>2012</td>\n",
       "      <td>F</td>\n",
       "      <td>532</td>\n",
       "    </tr>\n",
       "    <tr>\n",
       "      <th>5</th>\n",
       "      <td>2012</td>\n",
       "      <td>M</td>\n",
       "      <td>1497</td>\n",
       "    </tr>\n",
       "    <tr>\n",
       "      <th>6</th>\n",
       "      <td>2013</td>\n",
       "      <td>F</td>\n",
       "      <td>457</td>\n",
       "    </tr>\n",
       "    <tr>\n",
       "      <th>7</th>\n",
       "      <td>2013</td>\n",
       "      <td>M</td>\n",
       "      <td>1476</td>\n",
       "    </tr>\n",
       "    <tr>\n",
       "      <th>8</th>\n",
       "      <td>2014</td>\n",
       "      <td>F</td>\n",
       "      <td>467</td>\n",
       "    </tr>\n",
       "    <tr>\n",
       "      <th>9</th>\n",
       "      <td>2014</td>\n",
       "      <td>M</td>\n",
       "      <td>1463</td>\n",
       "    </tr>\n",
       "    <tr>\n",
       "      <th>10</th>\n",
       "      <td>2015</td>\n",
       "      <td>F</td>\n",
       "      <td>469</td>\n",
       "    </tr>\n",
       "    <tr>\n",
       "      <th>11</th>\n",
       "      <td>2015</td>\n",
       "      <td>M</td>\n",
       "      <td>1485</td>\n",
       "    </tr>\n",
       "    <tr>\n",
       "      <th>12</th>\n",
       "      <td>2016</td>\n",
       "      <td>F</td>\n",
       "      <td>473</td>\n",
       "    </tr>\n",
       "    <tr>\n",
       "      <th>13</th>\n",
       "      <td>2016</td>\n",
       "      <td>M</td>\n",
       "      <td>1541</td>\n",
       "    </tr>\n",
       "    <tr>\n",
       "      <th>14</th>\n",
       "      <td>2017</td>\n",
       "      <td>F</td>\n",
       "      <td>497</td>\n",
       "    </tr>\n",
       "    <tr>\n",
       "      <th>15</th>\n",
       "      <td>2017</td>\n",
       "      <td>M</td>\n",
       "      <td>1527</td>\n",
       "    </tr>\n",
       "    <tr>\n",
       "      <th>16</th>\n",
       "      <td>2018</td>\n",
       "      <td>F</td>\n",
       "      <td>546</td>\n",
       "    </tr>\n",
       "    <tr>\n",
       "      <th>17</th>\n",
       "      <td>2018</td>\n",
       "      <td>M</td>\n",
       "      <td>1559</td>\n",
       "    </tr>\n",
       "    <tr>\n",
       "      <th>18</th>\n",
       "      <td>2019</td>\n",
       "      <td>F</td>\n",
       "      <td>479</td>\n",
       "    </tr>\n",
       "    <tr>\n",
       "      <th>19</th>\n",
       "      <td>2019</td>\n",
       "      <td>M</td>\n",
       "      <td>1495</td>\n",
       "    </tr>\n",
       "    <tr>\n",
       "      <th>20</th>\n",
       "      <td>2020</td>\n",
       "      <td>F</td>\n",
       "      <td>489</td>\n",
       "    </tr>\n",
       "    <tr>\n",
       "      <th>21</th>\n",
       "      <td>2020</td>\n",
       "      <td>M</td>\n",
       "      <td>1488</td>\n",
       "    </tr>\n",
       "    <tr>\n",
       "      <th>22</th>\n",
       "      <td>2021</td>\n",
       "      <td>F</td>\n",
       "      <td>500</td>\n",
       "    </tr>\n",
       "    <tr>\n",
       "      <th>23</th>\n",
       "      <td>2021</td>\n",
       "      <td>M</td>\n",
       "      <td>1487</td>\n",
       "    </tr>\n",
       "  </tbody>\n",
       "</table>\n",
       "</div>"
      ],
      "text/plain": [
       "    year gender  amount\n",
       "0   2010      F     466\n",
       "1   2010      M    1436\n",
       "2   2011      F     441\n",
       "3   2011      M    1375\n",
       "4   2012      F     532\n",
       "5   2012      M    1497\n",
       "6   2013      F     457\n",
       "7   2013      M    1476\n",
       "8   2014      F     467\n",
       "9   2014      M    1463\n",
       "10  2015      F     469\n",
       "11  2015      M    1485\n",
       "12  2016      F     473\n",
       "13  2016      M    1541\n",
       "14  2017      F     497\n",
       "15  2017      M    1527\n",
       "16  2018      F     546\n",
       "17  2018      M    1559\n",
       "18  2019      F     479\n",
       "19  2019      M    1495\n",
       "20  2020      F     489\n",
       "21  2020      M    1488\n",
       "22  2021      F     500\n",
       "23  2021      M    1487"
      ]
     },
     "execution_count": 82,
     "metadata": {},
     "output_type": "execute_result"
    }
   ],
   "source": [
    "all_year_gender"
   ]
  },
  {
   "cell_type": "code",
   "execution_count": 83,
   "id": "413be2c4-bbf7-4e7d-afcf-010df15466d9",
   "metadata": {},
   "outputs": [
    {
     "data": {
      "text/html": [
       "\n",
       "<div id=\"altair-viz-e59426038f454cda9457289beee95219\"></div>\n",
       "<script type=\"text/javascript\">\n",
       "  (function(spec, embedOpt){\n",
       "    let outputDiv = document.currentScript.previousElementSibling;\n",
       "    if (outputDiv.id !== \"altair-viz-e59426038f454cda9457289beee95219\") {\n",
       "      outputDiv = document.getElementById(\"altair-viz-e59426038f454cda9457289beee95219\");\n",
       "    }\n",
       "    const paths = {\n",
       "      \"vega\": \"https://cdn.jsdelivr.net/npm//vega@5?noext\",\n",
       "      \"vega-lib\": \"https://cdn.jsdelivr.net/npm//vega-lib?noext\",\n",
       "      \"vega-lite\": \"https://cdn.jsdelivr.net/npm//vega-lite@4.8.1?noext\",\n",
       "      \"vega-embed\": \"https://cdn.jsdelivr.net/npm//vega-embed@6?noext\",\n",
       "    };\n",
       "\n",
       "    function loadScript(lib) {\n",
       "      return new Promise(function(resolve, reject) {\n",
       "        var s = document.createElement('script');\n",
       "        s.src = paths[lib];\n",
       "        s.async = true;\n",
       "        s.onload = () => resolve(paths[lib]);\n",
       "        s.onerror = () => reject(`Error loading script: ${paths[lib]}`);\n",
       "        document.getElementsByTagName(\"head\")[0].appendChild(s);\n",
       "      });\n",
       "    }\n",
       "\n",
       "    function showError(err) {\n",
       "      outputDiv.innerHTML = `<div class=\"error\" style=\"color:red;\">${err}</div>`;\n",
       "      throw err;\n",
       "    }\n",
       "\n",
       "    function displayChart(vegaEmbed) {\n",
       "      vegaEmbed(outputDiv, spec, embedOpt)\n",
       "        .catch(err => showError(`Javascript Error: ${err.message}<br>This usually means there's a typo in your chart specification. See the javascript console for the full traceback.`));\n",
       "    }\n",
       "\n",
       "    if(typeof define === \"function\" && define.amd) {\n",
       "      requirejs.config({paths});\n",
       "      require([\"vega-embed\"], displayChart, err => showError(`Error loading script: ${err.message}`));\n",
       "    } else if (typeof vegaEmbed === \"function\") {\n",
       "      displayChart(vegaEmbed);\n",
       "    } else {\n",
       "      loadScript(\"vega\")\n",
       "        .then(() => loadScript(\"vega-lite\"))\n",
       "        .then(() => loadScript(\"vega-embed\"))\n",
       "        .catch(showError)\n",
       "        .then(() => displayChart(vegaEmbed));\n",
       "    }\n",
       "  })({\"config\": {\"view\": {\"continuousWidth\": 400, \"continuousHeight\": 300}}, \"data\": {\"name\": \"data-c76abcefbda607b8ea48f713bacbdc63\"}, \"mark\": \"bar\", \"encoding\": {\"column\": {\"type\": \"quantitative\", \"field\": \"year\"}, \"x\": {\"type\": \"nominal\", \"axis\": {\"labelAngle\": 0}, \"field\": \"gender\"}, \"y\": {\"type\": \"quantitative\", \"field\": \"amount\"}}, \"height\": 300, \"width\": 100, \"$schema\": \"https://vega.github.io/schema/vega-lite/v4.8.1.json\", \"datasets\": {\"data-c76abcefbda607b8ea48f713bacbdc63\": [{\"year\": 2010, \"gender\": \"F\", \"amount\": 466}, {\"year\": 2010, \"gender\": \"M\", \"amount\": 1436}, {\"year\": 2011, \"gender\": \"F\", \"amount\": 441}, {\"year\": 2011, \"gender\": \"M\", \"amount\": 1375}, {\"year\": 2012, \"gender\": \"F\", \"amount\": 532}, {\"year\": 2012, \"gender\": \"M\", \"amount\": 1497}, {\"year\": 2013, \"gender\": \"F\", \"amount\": 457}, {\"year\": 2013, \"gender\": \"M\", \"amount\": 1476}, {\"year\": 2014, \"gender\": \"F\", \"amount\": 467}, {\"year\": 2014, \"gender\": \"M\", \"amount\": 1463}, {\"year\": 2015, \"gender\": \"F\", \"amount\": 469}, {\"year\": 2015, \"gender\": \"M\", \"amount\": 1485}, {\"year\": 2016, \"gender\": \"F\", \"amount\": 473}, {\"year\": 2016, \"gender\": \"M\", \"amount\": 1541}, {\"year\": 2017, \"gender\": \"F\", \"amount\": 497}, {\"year\": 2017, \"gender\": \"M\", \"amount\": 1527}, {\"year\": 2018, \"gender\": \"F\", \"amount\": 546}, {\"year\": 2018, \"gender\": \"M\", \"amount\": 1559}, {\"year\": 2019, \"gender\": \"F\", \"amount\": 479}, {\"year\": 2019, \"gender\": \"M\", \"amount\": 1495}, {\"year\": 2020, \"gender\": \"F\", \"amount\": 489}, {\"year\": 2020, \"gender\": \"M\", \"amount\": 1488}, {\"year\": 2021, \"gender\": \"F\", \"amount\": 500}, {\"year\": 2021, \"gender\": \"M\", \"amount\": 1487}]}}, {\"mode\": \"vega-lite\"});\n",
       "</script>"
      ],
      "text/plain": [
       "alt.Chart(...)"
      ]
     },
     "execution_count": 83,
     "metadata": {},
     "output_type": "execute_result"
    }
   ],
   "source": [
    "alt.Chart(all_year_gender).mark_bar().encode(\n",
    "    alt.X('gender', axis=alt.Axis(labelAngle=0)),\n",
    "    alt.Y('amount'),column='year').properties(\n",
    "    width=100,\n",
    "    height=300\n",
    ")"
   ]
  },
  {
   "cell_type": "markdown",
   "id": "373fa358-c1ce-472f-8c75-2c00283a0827",
   "metadata": {},
   "source": [
    "## **Females officers remained below 600 for past 10 years. Highest number was 546 in 2018 and lowest was 441 in 2011**\n",
    "## **Male officers remained above 1400 officers hitting a peak of 1559 in 2018**"
   ]
  },
  {
   "cell_type": "markdown",
   "id": "ae042220-9e05-4735-a0d1-a430e69efa3e",
   "metadata": {},
   "source": [
    "# **Started comparing Male and Female officer makeup over time**"
   ]
  },
  {
   "cell_type": "code",
   "execution_count": 84,
   "id": "04c08daa-e9e5-4c09-b594-ea594b85e62f",
   "metadata": {},
   "outputs": [],
   "source": [
    "#Pulled year and gender from dataset\n",
    "year_gender = roster[['year','gender']]"
   ]
  },
  {
   "cell_type": "markdown",
   "id": "1ea43397-6fb3-4dd9-8a1c-4a96fba917cb",
   "metadata": {},
   "source": [
    "### Started creating chart that shows change in male officers over time"
   ]
  },
  {
   "cell_type": "code",
   "execution_count": 85,
   "id": "d06ecbe2-6be2-4871-bf64-672ad11cfaa5",
   "metadata": {},
   "outputs": [],
   "source": [
    "#Filtered data to only include male officers.\n",
    "roster_male = year_gender.loc[year_gender['gender'] == 'M']\n",
    "#Found how many male officers there were by year\n",
    "chart_male = roster_male.value_counts().reset_index()\n",
    "#No need for gender column anymore since they're all male\n",
    "del chart_male['gender']\n",
    "#Renamed columns for clarity\n",
    "chart_male.columns = ['Year', 'Amount']\n",
    "#Turned the year column into string, because Altair takes in years as integers and starts chart at 0.\n",
    "chart_male['Year'] = chart_male['Year'].astype(str)"
   ]
  },
  {
   "cell_type": "code",
   "execution_count": 86,
   "id": "37de5282-3138-4e25-84b7-db8f5226808e",
   "metadata": {},
   "outputs": [],
   "source": [
    "male_chart = alt.Chart(chart_male).mark_bar().encode(\n",
    "    alt.X('Year', axis=alt.Axis(labelAngle=0)),\n",
    "    alt.Y('Amount')).properties(\n",
    "    width=800,\n",
    "    height=300\n",
    ")"
   ]
  },
  {
   "cell_type": "markdown",
   "id": "41bf6464-eba1-472a-9e31-ee9a53c4d636",
   "metadata": {},
   "source": [
    "### Notes above are same for following chart\n",
    "### Below, I am creating a chart that shows the change in female officers over time"
   ]
  },
  {
   "cell_type": "code",
   "execution_count": 87,
   "id": "ca49ee54-a104-4f1d-858f-39553013c5f7",
   "metadata": {},
   "outputs": [],
   "source": [
    "roster_female = year_gender.loc[year_gender['gender'] == 'F']\n",
    "chart_female = roster_female.value_counts().reset_index()\n",
    "del chart_female['gender']\n",
    "chart_female.columns = ['Year', 'Amount']\n",
    "chart_female['Year'] = chart_female['Year'].astype(str)"
   ]
  },
  {
   "cell_type": "code",
   "execution_count": 88,
   "id": "64d3012c-76fb-4be2-995c-50f7411efce0",
   "metadata": {},
   "outputs": [],
   "source": [
    "female_chart = alt.Chart(chart_female).mark_bar(color=\"#FE2D00\").encode(\n",
    "    alt.X('Year', axis=alt.Axis(labelAngle=0)),\n",
    "    alt.Y('Amount')).properties(\n",
    "    width=800,\n",
    "    height=300\n",
    ")"
   ]
  },
  {
   "cell_type": "code",
   "execution_count": 89,
   "id": "12d5880d-42a1-4061-9999-7ee9e3ff1283",
   "metadata": {},
   "outputs": [
    {
     "data": {
      "text/html": [
       "\n",
       "<div id=\"altair-viz-c30dac8303594716bae5f6b432f12455\"></div>\n",
       "<script type=\"text/javascript\">\n",
       "  (function(spec, embedOpt){\n",
       "    let outputDiv = document.currentScript.previousElementSibling;\n",
       "    if (outputDiv.id !== \"altair-viz-c30dac8303594716bae5f6b432f12455\") {\n",
       "      outputDiv = document.getElementById(\"altair-viz-c30dac8303594716bae5f6b432f12455\");\n",
       "    }\n",
       "    const paths = {\n",
       "      \"vega\": \"https://cdn.jsdelivr.net/npm//vega@5?noext\",\n",
       "      \"vega-lib\": \"https://cdn.jsdelivr.net/npm//vega-lib?noext\",\n",
       "      \"vega-lite\": \"https://cdn.jsdelivr.net/npm//vega-lite@4.8.1?noext\",\n",
       "      \"vega-embed\": \"https://cdn.jsdelivr.net/npm//vega-embed@6?noext\",\n",
       "    };\n",
       "\n",
       "    function loadScript(lib) {\n",
       "      return new Promise(function(resolve, reject) {\n",
       "        var s = document.createElement('script');\n",
       "        s.src = paths[lib];\n",
       "        s.async = true;\n",
       "        s.onload = () => resolve(paths[lib]);\n",
       "        s.onerror = () => reject(`Error loading script: ${paths[lib]}`);\n",
       "        document.getElementsByTagName(\"head\")[0].appendChild(s);\n",
       "      });\n",
       "    }\n",
       "\n",
       "    function showError(err) {\n",
       "      outputDiv.innerHTML = `<div class=\"error\" style=\"color:red;\">${err}</div>`;\n",
       "      throw err;\n",
       "    }\n",
       "\n",
       "    function displayChart(vegaEmbed) {\n",
       "      vegaEmbed(outputDiv, spec, embedOpt)\n",
       "        .catch(err => showError(`Javascript Error: ${err.message}<br>This usually means there's a typo in your chart specification. See the javascript console for the full traceback.`));\n",
       "    }\n",
       "\n",
       "    if(typeof define === \"function\" && define.amd) {\n",
       "      requirejs.config({paths});\n",
       "      require([\"vega-embed\"], displayChart, err => showError(`Error loading script: ${err.message}`));\n",
       "    } else if (typeof vegaEmbed === \"function\") {\n",
       "      displayChart(vegaEmbed);\n",
       "    } else {\n",
       "      loadScript(\"vega\")\n",
       "        .then(() => loadScript(\"vega-lite\"))\n",
       "        .then(() => loadScript(\"vega-embed\"))\n",
       "        .catch(showError)\n",
       "        .then(() => displayChart(vegaEmbed));\n",
       "    }\n",
       "  })({\"config\": {\"view\": {\"continuousWidth\": 400, \"continuousHeight\": 300}}, \"layer\": [{\"data\": {\"name\": \"data-55c4315c1800dfdfdebc4fb3a67eb267\"}, \"mark\": \"bar\", \"encoding\": {\"x\": {\"type\": \"nominal\", \"axis\": {\"labelAngle\": 0}, \"field\": \"Year\"}, \"y\": {\"type\": \"quantitative\", \"field\": \"Amount\"}}, \"height\": 300, \"width\": 800}, {\"data\": {\"name\": \"data-4b8d1101415a56f7a3e897fe98a168b8\"}, \"mark\": {\"type\": \"bar\", \"color\": \"#FE2D00\"}, \"encoding\": {\"x\": {\"type\": \"nominal\", \"axis\": {\"labelAngle\": 0}, \"field\": \"Year\"}, \"y\": {\"type\": \"quantitative\", \"field\": \"Amount\"}}, \"height\": 300, \"width\": 800}], \"$schema\": \"https://vega.github.io/schema/vega-lite/v4.8.1.json\", \"datasets\": {\"data-55c4315c1800dfdfdebc4fb3a67eb267\": [{\"Year\": \"2018\", \"Amount\": 1559}, {\"Year\": \"2016\", \"Amount\": 1541}, {\"Year\": \"2017\", \"Amount\": 1527}, {\"Year\": \"2012\", \"Amount\": 1497}, {\"Year\": \"2019\", \"Amount\": 1495}, {\"Year\": \"2020\", \"Amount\": 1488}, {\"Year\": \"2021\", \"Amount\": 1487}, {\"Year\": \"2015\", \"Amount\": 1485}, {\"Year\": \"2013\", \"Amount\": 1476}, {\"Year\": \"2014\", \"Amount\": 1463}, {\"Year\": \"2010\", \"Amount\": 1436}, {\"Year\": \"2011\", \"Amount\": 1375}], \"data-4b8d1101415a56f7a3e897fe98a168b8\": [{\"Year\": \"2018\", \"Amount\": 546}, {\"Year\": \"2012\", \"Amount\": 532}, {\"Year\": \"2021\", \"Amount\": 500}, {\"Year\": \"2017\", \"Amount\": 497}, {\"Year\": \"2020\", \"Amount\": 489}, {\"Year\": \"2019\", \"Amount\": 479}, {\"Year\": \"2016\", \"Amount\": 473}, {\"Year\": \"2015\", \"Amount\": 469}, {\"Year\": \"2014\", \"Amount\": 467}, {\"Year\": \"2010\", \"Amount\": 466}, {\"Year\": \"2013\", \"Amount\": 457}, {\"Year\": \"2011\", \"Amount\": 441}]}}, {\"mode\": \"vega-lite\"});\n",
       "</script>"
      ],
      "text/plain": [
       "alt.LayerChart(...)"
      ]
     },
     "execution_count": 89,
     "metadata": {},
     "output_type": "execute_result"
    }
   ],
   "source": [
    "#Combined both charts for comparison purposes. Red is female, blue is male.\n",
    "male_chart + female_chart"
   ]
  },
  {
   "cell_type": "markdown",
   "id": "41153753-113f-4714-ad60-6a7a43b8e810",
   "metadata": {},
   "source": [
    "### Started seeing total number of officers at MNPD over time"
   ]
  },
  {
   "cell_type": "code",
   "execution_count": 90,
   "id": "588ee941-7214-4888-9deb-cb7628763f8d",
   "metadata": {},
   "outputs": [],
   "source": [
    "#Categorized data by year and found the count of every year to see how many officers there were per year.\n",
    "total_amount = roster.groupby('year')['year'].count().to_frame(name='amount').reset_index()\n",
    "#Turned year into string for Altair purposes since it will start it at 0 if it remains an integer.\n",
    "total_amount['year'] = total_amount['year'].astype(str)"
   ]
  },
  {
   "cell_type": "code",
   "execution_count": 91,
   "id": "083aa498-35cc-4be7-b4b3-80d351d78daf",
   "metadata": {},
   "outputs": [
    {
     "data": {
      "text/html": [
       "<div>\n",
       "<style scoped>\n",
       "    .dataframe tbody tr th:only-of-type {\n",
       "        vertical-align: middle;\n",
       "    }\n",
       "\n",
       "    .dataframe tbody tr th {\n",
       "        vertical-align: top;\n",
       "    }\n",
       "\n",
       "    .dataframe thead th {\n",
       "        text-align: right;\n",
       "    }\n",
       "</style>\n",
       "<table border=\"1\" class=\"dataframe\">\n",
       "  <thead>\n",
       "    <tr style=\"text-align: right;\">\n",
       "      <th></th>\n",
       "      <th>year</th>\n",
       "      <th>amount</th>\n",
       "    </tr>\n",
       "  </thead>\n",
       "  <tbody>\n",
       "    <tr>\n",
       "      <th>0</th>\n",
       "      <td>2010</td>\n",
       "      <td>1902</td>\n",
       "    </tr>\n",
       "    <tr>\n",
       "      <th>1</th>\n",
       "      <td>2011</td>\n",
       "      <td>1816</td>\n",
       "    </tr>\n",
       "    <tr>\n",
       "      <th>2</th>\n",
       "      <td>2012</td>\n",
       "      <td>2029</td>\n",
       "    </tr>\n",
       "    <tr>\n",
       "      <th>3</th>\n",
       "      <td>2013</td>\n",
       "      <td>1933</td>\n",
       "    </tr>\n",
       "    <tr>\n",
       "      <th>4</th>\n",
       "      <td>2014</td>\n",
       "      <td>1930</td>\n",
       "    </tr>\n",
       "    <tr>\n",
       "      <th>5</th>\n",
       "      <td>2015</td>\n",
       "      <td>1954</td>\n",
       "    </tr>\n",
       "    <tr>\n",
       "      <th>6</th>\n",
       "      <td>2016</td>\n",
       "      <td>2014</td>\n",
       "    </tr>\n",
       "    <tr>\n",
       "      <th>7</th>\n",
       "      <td>2017</td>\n",
       "      <td>2024</td>\n",
       "    </tr>\n",
       "    <tr>\n",
       "      <th>8</th>\n",
       "      <td>2018</td>\n",
       "      <td>2105</td>\n",
       "    </tr>\n",
       "    <tr>\n",
       "      <th>9</th>\n",
       "      <td>2019</td>\n",
       "      <td>1974</td>\n",
       "    </tr>\n",
       "    <tr>\n",
       "      <th>10</th>\n",
       "      <td>2020</td>\n",
       "      <td>1977</td>\n",
       "    </tr>\n",
       "    <tr>\n",
       "      <th>11</th>\n",
       "      <td>2021</td>\n",
       "      <td>1987</td>\n",
       "    </tr>\n",
       "  </tbody>\n",
       "</table>\n",
       "</div>"
      ],
      "text/plain": [
       "    year  amount\n",
       "0   2010    1902\n",
       "1   2011    1816\n",
       "2   2012    2029\n",
       "3   2013    1933\n",
       "4   2014    1930\n",
       "5   2015    1954\n",
       "6   2016    2014\n",
       "7   2017    2024\n",
       "8   2018    2105\n",
       "9   2019    1974\n",
       "10  2020    1977\n",
       "11  2021    1987"
      ]
     },
     "execution_count": 91,
     "metadata": {},
     "output_type": "execute_result"
    }
   ],
   "source": [
    "total_amount"
   ]
  },
  {
   "cell_type": "code",
   "execution_count": 92,
   "id": "4c12fcea-351b-4447-943d-3b785d209388",
   "metadata": {},
   "outputs": [
    {
     "data": {
      "text/plain": [
       "1970.4166666666667"
      ]
     },
     "execution_count": 92,
     "metadata": {},
     "output_type": "execute_result"
    }
   ],
   "source": [
    "#Average number of officers from 2010 to 2021\n",
    "total_amount['amount'].mean()"
   ]
  },
  {
   "cell_type": "code",
   "execution_count": 93,
   "id": "de02869f-234a-4077-b5ca-d873380eee52",
   "metadata": {},
   "outputs": [
    {
     "data": {
      "text/html": [
       "\n",
       "<div id=\"altair-viz-3505c564c1a7495f8c562ecbfc57b0af\"></div>\n",
       "<script type=\"text/javascript\">\n",
       "  (function(spec, embedOpt){\n",
       "    let outputDiv = document.currentScript.previousElementSibling;\n",
       "    if (outputDiv.id !== \"altair-viz-3505c564c1a7495f8c562ecbfc57b0af\") {\n",
       "      outputDiv = document.getElementById(\"altair-viz-3505c564c1a7495f8c562ecbfc57b0af\");\n",
       "    }\n",
       "    const paths = {\n",
       "      \"vega\": \"https://cdn.jsdelivr.net/npm//vega@5?noext\",\n",
       "      \"vega-lib\": \"https://cdn.jsdelivr.net/npm//vega-lib?noext\",\n",
       "      \"vega-lite\": \"https://cdn.jsdelivr.net/npm//vega-lite@4.8.1?noext\",\n",
       "      \"vega-embed\": \"https://cdn.jsdelivr.net/npm//vega-embed@6?noext\",\n",
       "    };\n",
       "\n",
       "    function loadScript(lib) {\n",
       "      return new Promise(function(resolve, reject) {\n",
       "        var s = document.createElement('script');\n",
       "        s.src = paths[lib];\n",
       "        s.async = true;\n",
       "        s.onload = () => resolve(paths[lib]);\n",
       "        s.onerror = () => reject(`Error loading script: ${paths[lib]}`);\n",
       "        document.getElementsByTagName(\"head\")[0].appendChild(s);\n",
       "      });\n",
       "    }\n",
       "\n",
       "    function showError(err) {\n",
       "      outputDiv.innerHTML = `<div class=\"error\" style=\"color:red;\">${err}</div>`;\n",
       "      throw err;\n",
       "    }\n",
       "\n",
       "    function displayChart(vegaEmbed) {\n",
       "      vegaEmbed(outputDiv, spec, embedOpt)\n",
       "        .catch(err => showError(`Javascript Error: ${err.message}<br>This usually means there's a typo in your chart specification. See the javascript console for the full traceback.`));\n",
       "    }\n",
       "\n",
       "    if(typeof define === \"function\" && define.amd) {\n",
       "      requirejs.config({paths});\n",
       "      require([\"vega-embed\"], displayChart, err => showError(`Error loading script: ${err.message}`));\n",
       "    } else if (typeof vegaEmbed === \"function\") {\n",
       "      displayChart(vegaEmbed);\n",
       "    } else {\n",
       "      loadScript(\"vega\")\n",
       "        .then(() => loadScript(\"vega-lite\"))\n",
       "        .then(() => loadScript(\"vega-embed\"))\n",
       "        .catch(showError)\n",
       "        .then(() => displayChart(vegaEmbed));\n",
       "    }\n",
       "  })({\"config\": {\"view\": {\"continuousWidth\": 400, \"continuousHeight\": 300}}, \"data\": {\"name\": \"data-24683c55b666f3d67045de59abcf9a05\"}, \"mark\": \"bar\", \"encoding\": {\"x\": {\"type\": \"nominal\", \"axis\": {\"labelAngle\": 0}, \"field\": \"year\"}, \"y\": {\"type\": \"quantitative\", \"field\": \"amount\"}}, \"height\": 500, \"title\": \"Number of Officers at MNPD Over Time\", \"width\": 800, \"$schema\": \"https://vega.github.io/schema/vega-lite/v4.8.1.json\", \"datasets\": {\"data-24683c55b666f3d67045de59abcf9a05\": [{\"year\": \"2010\", \"amount\": 1902}, {\"year\": \"2011\", \"amount\": 1816}, {\"year\": \"2012\", \"amount\": 2029}, {\"year\": \"2013\", \"amount\": 1933}, {\"year\": \"2014\", \"amount\": 1930}, {\"year\": \"2015\", \"amount\": 1954}, {\"year\": \"2016\", \"amount\": 2014}, {\"year\": \"2017\", \"amount\": 2024}, {\"year\": \"2018\", \"amount\": 2105}, {\"year\": \"2019\", \"amount\": 1974}, {\"year\": \"2020\", \"amount\": 1977}, {\"year\": \"2021\", \"amount\": 1987}]}}, {\"mode\": \"vega-lite\"});\n",
       "</script>"
      ],
      "text/plain": [
       "alt.Chart(...)"
      ]
     },
     "execution_count": 93,
     "metadata": {},
     "output_type": "execute_result"
    }
   ],
   "source": [
    "alt.Chart(total_amount, title = 'Number of Officers at MNPD Over Time').mark_bar().encode(\n",
    "    alt.X('year', axis=alt.Axis(labelAngle=0)),\n",
    "    alt.Y('amount')).properties(\n",
    "    width=800,\n",
    "    height=500\n",
    ")"
   ]
  },
  {
   "cell_type": "markdown",
   "id": "10c992b5-cb9f-440c-a08f-de723f89672c",
   "metadata": {},
   "source": [
    "## Hovered above 1,800 hitting a peak of 2,105 in 2018."
   ]
  },
  {
   "cell_type": "code",
   "execution_count": 94,
   "id": "e21c001d-4643-4661-b1b2-db1b62410010",
   "metadata": {},
   "outputs": [
    {
     "data": {
      "text/plain": [
       "Index(['name', 'job_desc', 'dept_desc', 'gender', 'race_ethnicity',\n",
       "       'date_started', 'year', 'clean_name', 'clean_race_ethnicity'],\n",
       "      dtype='object')"
      ]
     },
     "execution_count": 94,
     "metadata": {},
     "output_type": "execute_result"
    }
   ],
   "source": [
    "roster.columns"
   ]
  },
  {
   "cell_type": "code",
   "execution_count": 95,
   "id": "de9a9a7d-6dd4-4746-9ed8-321c1f5f75f5",
   "metadata": {},
   "outputs": [
    {
     "data": {
      "text/plain": [
       "clean_race_ethnicity\n",
       "asian/pacific islander      23.666667\n",
       "black                      365.333333\n",
       "hispanic                    35.250000\n",
       "multiracial                 64.250000\n",
       "native american              2.500000\n",
       "unknown                      1.875000\n",
       "white                     1520.666667\n",
       "Name: clean_name, dtype: float64"
      ]
     },
     "execution_count": 95,
     "metadata": {},
     "output_type": "execute_result"
    }
   ],
   "source": [
    "roster.groupby(['year','clean_race_ethnicity','clean_name'])['clean_name'].count().to_frame(name='amount').reset_index().groupby(['year','clean_race_ethnicity'])['clean_name'].count().to_frame().reset_index().groupby(['clean_race_ethnicity'])['clean_name'].mean()"
   ]
  },
  {
   "cell_type": "code",
   "execution_count": 96,
   "id": "a2cb4ee9-48d0-4cfd-99d5-f426c2a9b974",
   "metadata": {},
   "outputs": [
    {
     "data": {
      "text/plain": [
       "Index(['name', 'job_desc', 'dept_desc', 'gender', 'race_ethnicity',\n",
       "       'date_started', 'year', 'clean_name', 'clean_race_ethnicity'],\n",
       "      dtype='object')"
      ]
     },
     "execution_count": 96,
     "metadata": {},
     "output_type": "execute_result"
    }
   ],
   "source": [
    "roster.columns"
   ]
  },
  {
   "cell_type": "code",
   "execution_count": 97,
   "id": "021e4ba9-e764-4edb-8c76-1c0860cda2be",
   "metadata": {},
   "outputs": [
    {
     "data": {
      "text/html": [
       "<div>\n",
       "<style scoped>\n",
       "    .dataframe tbody tr th:only-of-type {\n",
       "        vertical-align: middle;\n",
       "    }\n",
       "\n",
       "    .dataframe tbody tr th {\n",
       "        vertical-align: top;\n",
       "    }\n",
       "\n",
       "    .dataframe thead th {\n",
       "        text-align: right;\n",
       "    }\n",
       "</style>\n",
       "<table border=\"1\" class=\"dataframe\">\n",
       "  <thead>\n",
       "    <tr style=\"text-align: right;\">\n",
       "      <th></th>\n",
       "      <th>year</th>\n",
       "      <th>gender</th>\n",
       "      <th>clean_name</th>\n",
       "    </tr>\n",
       "  </thead>\n",
       "  <tbody>\n",
       "    <tr>\n",
       "      <th>0</th>\n",
       "      <td>2010</td>\n",
       "      <td>F</td>\n",
       "      <td>466</td>\n",
       "    </tr>\n",
       "    <tr>\n",
       "      <th>1</th>\n",
       "      <td>2010</td>\n",
       "      <td>M</td>\n",
       "      <td>1436</td>\n",
       "    </tr>\n",
       "    <tr>\n",
       "      <th>2</th>\n",
       "      <td>2011</td>\n",
       "      <td>F</td>\n",
       "      <td>441</td>\n",
       "    </tr>\n",
       "    <tr>\n",
       "      <th>3</th>\n",
       "      <td>2011</td>\n",
       "      <td>M</td>\n",
       "      <td>1375</td>\n",
       "    </tr>\n",
       "    <tr>\n",
       "      <th>4</th>\n",
       "      <td>2012</td>\n",
       "      <td>F</td>\n",
       "      <td>532</td>\n",
       "    </tr>\n",
       "    <tr>\n",
       "      <th>5</th>\n",
       "      <td>2012</td>\n",
       "      <td>M</td>\n",
       "      <td>1497</td>\n",
       "    </tr>\n",
       "    <tr>\n",
       "      <th>6</th>\n",
       "      <td>2013</td>\n",
       "      <td>F</td>\n",
       "      <td>457</td>\n",
       "    </tr>\n",
       "    <tr>\n",
       "      <th>7</th>\n",
       "      <td>2013</td>\n",
       "      <td>M</td>\n",
       "      <td>1476</td>\n",
       "    </tr>\n",
       "    <tr>\n",
       "      <th>8</th>\n",
       "      <td>2014</td>\n",
       "      <td>F</td>\n",
       "      <td>467</td>\n",
       "    </tr>\n",
       "    <tr>\n",
       "      <th>9</th>\n",
       "      <td>2014</td>\n",
       "      <td>M</td>\n",
       "      <td>1463</td>\n",
       "    </tr>\n",
       "    <tr>\n",
       "      <th>10</th>\n",
       "      <td>2015</td>\n",
       "      <td>F</td>\n",
       "      <td>469</td>\n",
       "    </tr>\n",
       "    <tr>\n",
       "      <th>11</th>\n",
       "      <td>2015</td>\n",
       "      <td>M</td>\n",
       "      <td>1485</td>\n",
       "    </tr>\n",
       "    <tr>\n",
       "      <th>12</th>\n",
       "      <td>2016</td>\n",
       "      <td>F</td>\n",
       "      <td>473</td>\n",
       "    </tr>\n",
       "    <tr>\n",
       "      <th>13</th>\n",
       "      <td>2016</td>\n",
       "      <td>M</td>\n",
       "      <td>1541</td>\n",
       "    </tr>\n",
       "    <tr>\n",
       "      <th>14</th>\n",
       "      <td>2017</td>\n",
       "      <td>F</td>\n",
       "      <td>497</td>\n",
       "    </tr>\n",
       "    <tr>\n",
       "      <th>15</th>\n",
       "      <td>2017</td>\n",
       "      <td>M</td>\n",
       "      <td>1527</td>\n",
       "    </tr>\n",
       "    <tr>\n",
       "      <th>16</th>\n",
       "      <td>2018</td>\n",
       "      <td>F</td>\n",
       "      <td>546</td>\n",
       "    </tr>\n",
       "    <tr>\n",
       "      <th>17</th>\n",
       "      <td>2018</td>\n",
       "      <td>M</td>\n",
       "      <td>1559</td>\n",
       "    </tr>\n",
       "    <tr>\n",
       "      <th>18</th>\n",
       "      <td>2019</td>\n",
       "      <td>F</td>\n",
       "      <td>479</td>\n",
       "    </tr>\n",
       "    <tr>\n",
       "      <th>19</th>\n",
       "      <td>2019</td>\n",
       "      <td>M</td>\n",
       "      <td>1495</td>\n",
       "    </tr>\n",
       "    <tr>\n",
       "      <th>20</th>\n",
       "      <td>2020</td>\n",
       "      <td>F</td>\n",
       "      <td>489</td>\n",
       "    </tr>\n",
       "    <tr>\n",
       "      <th>21</th>\n",
       "      <td>2020</td>\n",
       "      <td>M</td>\n",
       "      <td>1488</td>\n",
       "    </tr>\n",
       "    <tr>\n",
       "      <th>22</th>\n",
       "      <td>2021</td>\n",
       "      <td>F</td>\n",
       "      <td>500</td>\n",
       "    </tr>\n",
       "    <tr>\n",
       "      <th>23</th>\n",
       "      <td>2021</td>\n",
       "      <td>M</td>\n",
       "      <td>1487</td>\n",
       "    </tr>\n",
       "  </tbody>\n",
       "</table>\n",
       "</div>"
      ],
      "text/plain": [
       "    year gender  clean_name\n",
       "0   2010      F         466\n",
       "1   2010      M        1436\n",
       "2   2011      F         441\n",
       "3   2011      M        1375\n",
       "4   2012      F         532\n",
       "5   2012      M        1497\n",
       "6   2013      F         457\n",
       "7   2013      M        1476\n",
       "8   2014      F         467\n",
       "9   2014      M        1463\n",
       "10  2015      F         469\n",
       "11  2015      M        1485\n",
       "12  2016      F         473\n",
       "13  2016      M        1541\n",
       "14  2017      F         497\n",
       "15  2017      M        1527\n",
       "16  2018      F         546\n",
       "17  2018      M        1559\n",
       "18  2019      F         479\n",
       "19  2019      M        1495\n",
       "20  2020      F         489\n",
       "21  2020      M        1488\n",
       "22  2021      F         500\n",
       "23  2021      M        1487"
      ]
     },
     "execution_count": 97,
     "metadata": {},
     "output_type": "execute_result"
    }
   ],
   "source": [
    "test = roster.groupby(['year','gender'])['clean_name'].count().to_frame().reset_index()\n",
    "test"
   ]
  },
  {
   "cell_type": "code",
   "execution_count": 98,
   "id": "335a8823-fc92-4082-a0a9-926b8c5ee723",
   "metadata": {},
   "outputs": [],
   "source": [
    "test_21 = test.loc[test['year']==2021]"
   ]
  },
  {
   "cell_type": "code",
   "execution_count": 99,
   "id": "464bc939-66c8-4c5d-898f-aa4be0b3aa3f",
   "metadata": {},
   "outputs": [
    {
     "name": "stderr",
     "output_type": "stream",
     "text": [
      "<ipython-input-99-a6d16c9380e5>:1: SettingWithCopyWarning: \n",
      "A value is trying to be set on a copy of a slice from a DataFrame.\n",
      "Try using .loc[row_indexer,col_indexer] = value instead\n",
      "\n",
      "See the caveats in the documentation: https://pandas.pydata.org/pandas-docs/stable/user_guide/indexing.html#returning-a-view-versus-a-copy\n",
      "  test_21['percentage'] = (test_21['clean_name']/test_21['clean_name'].sum())*100\n"
     ]
    },
    {
     "data": {
      "text/html": [
       "<div>\n",
       "<style scoped>\n",
       "    .dataframe tbody tr th:only-of-type {\n",
       "        vertical-align: middle;\n",
       "    }\n",
       "\n",
       "    .dataframe tbody tr th {\n",
       "        vertical-align: top;\n",
       "    }\n",
       "\n",
       "    .dataframe thead th {\n",
       "        text-align: right;\n",
       "    }\n",
       "</style>\n",
       "<table border=\"1\" class=\"dataframe\">\n",
       "  <thead>\n",
       "    <tr style=\"text-align: right;\">\n",
       "      <th></th>\n",
       "      <th>year</th>\n",
       "      <th>gender</th>\n",
       "      <th>clean_name</th>\n",
       "      <th>percentage</th>\n",
       "    </tr>\n",
       "  </thead>\n",
       "  <tbody>\n",
       "    <tr>\n",
       "      <th>22</th>\n",
       "      <td>2021</td>\n",
       "      <td>F</td>\n",
       "      <td>500</td>\n",
       "      <td>25.2</td>\n",
       "    </tr>\n",
       "    <tr>\n",
       "      <th>23</th>\n",
       "      <td>2021</td>\n",
       "      <td>M</td>\n",
       "      <td>1487</td>\n",
       "      <td>74.8</td>\n",
       "    </tr>\n",
       "  </tbody>\n",
       "</table>\n",
       "</div>"
      ],
      "text/plain": [
       "    year gender  clean_name  percentage\n",
       "22  2021      F         500        25.2\n",
       "23  2021      M        1487        74.8"
      ]
     },
     "execution_count": 99,
     "metadata": {},
     "output_type": "execute_result"
    }
   ],
   "source": [
    "test_21['percentage'] = (test_21['clean_name']/test_21['clean_name'].sum())*100\n",
    "test_21.round(1)"
   ]
  },
  {
   "cell_type": "code",
   "execution_count": 100,
   "id": "5616c755-5d1d-40b8-b33b-fb6fa64e953b",
   "metadata": {},
   "outputs": [
    {
     "data": {
      "text/html": [
       "<div>\n",
       "<style scoped>\n",
       "    .dataframe tbody tr th:only-of-type {\n",
       "        vertical-align: middle;\n",
       "    }\n",
       "\n",
       "    .dataframe tbody tr th {\n",
       "        vertical-align: top;\n",
       "    }\n",
       "\n",
       "    .dataframe thead th {\n",
       "        text-align: right;\n",
       "    }\n",
       "</style>\n",
       "<table border=\"1\" class=\"dataframe\">\n",
       "  <thead>\n",
       "    <tr style=\"text-align: right;\">\n",
       "      <th></th>\n",
       "      <th>name</th>\n",
       "      <th>job_desc</th>\n",
       "      <th>dept_desc</th>\n",
       "      <th>gender</th>\n",
       "      <th>race_ethnicity</th>\n",
       "      <th>date_started</th>\n",
       "      <th>year</th>\n",
       "      <th>clean_name</th>\n",
       "      <th>clean_race_ethnicity</th>\n",
       "    </tr>\n",
       "  </thead>\n",
       "  <tbody>\n",
       "    <tr>\n",
       "      <th>0</th>\n",
       "      <td>PETTY, MARLENE F</td>\n",
       "      <td>Police Operations Coord 2</td>\n",
       "      <td>Police</td>\n",
       "      <td>F</td>\n",
       "      <td>White (Not of Hispanic Origin)</td>\n",
       "      <td>1998-02-01</td>\n",
       "      <td>2010</td>\n",
       "      <td>f marlene petty</td>\n",
       "      <td>white</td>\n",
       "    </tr>\n",
       "    <tr>\n",
       "      <th>1</th>\n",
       "      <td>DUPIE III, LEANDER H.</td>\n",
       "      <td>Police Lieutenant</td>\n",
       "      <td>Police</td>\n",
       "      <td>M</td>\n",
       "      <td>White (Not of Hispanic Origin)</td>\n",
       "      <td>1991-11-01</td>\n",
       "      <td>2010</td>\n",
       "      <td>dupie h iii leander</td>\n",
       "      <td>white</td>\n",
       "    </tr>\n",
       "    <tr>\n",
       "      <th>2</th>\n",
       "      <td>TAYLOR, CHRIS M.</td>\n",
       "      <td>Police Captain</td>\n",
       "      <td>Police</td>\n",
       "      <td>M</td>\n",
       "      <td>White (Not of Hispanic Origin)</td>\n",
       "      <td>1992-03-16</td>\n",
       "      <td>2010</td>\n",
       "      <td>chris m taylor</td>\n",
       "      <td>white</td>\n",
       "    </tr>\n",
       "    <tr>\n",
       "      <th>3</th>\n",
       "      <td>DYER, WILLIAM K.</td>\n",
       "      <td>Police Lieutenant</td>\n",
       "      <td>Police</td>\n",
       "      <td>M</td>\n",
       "      <td>White (Not of Hispanic Origin)</td>\n",
       "      <td>1988-03-16</td>\n",
       "      <td>2010</td>\n",
       "      <td>dyer k william</td>\n",
       "      <td>white</td>\n",
       "    </tr>\n",
       "    <tr>\n",
       "      <th>4</th>\n",
       "      <td>SOWELL III, CAMPBELL M.</td>\n",
       "      <td>Police Sergeant</td>\n",
       "      <td>Police</td>\n",
       "      <td>M</td>\n",
       "      <td>White (Not of Hispanic Origin)</td>\n",
       "      <td>1992-09-01</td>\n",
       "      <td>2010</td>\n",
       "      <td>campbell iii m sowell</td>\n",
       "      <td>white</td>\n",
       "    </tr>\n",
       "    <tr>\n",
       "      <th>...</th>\n",
       "      <td>...</td>\n",
       "      <td>...</td>\n",
       "      <td>...</td>\n",
       "      <td>...</td>\n",
       "      <td>...</td>\n",
       "      <td>...</td>\n",
       "      <td>...</td>\n",
       "      <td>...</td>\n",
       "      <td>...</td>\n",
       "    </tr>\n",
       "    <tr>\n",
       "      <th>23640</th>\n",
       "      <td>Modransky, Eric Charles</td>\n",
       "      <td>Police Officer 1</td>\n",
       "      <td>031 Police</td>\n",
       "      <td>M</td>\n",
       "      <td>White</td>\n",
       "      <td>2019-08-16</td>\n",
       "      <td>2021</td>\n",
       "      <td>charles eric modransky</td>\n",
       "      <td>white</td>\n",
       "    </tr>\n",
       "    <tr>\n",
       "      <th>23641</th>\n",
       "      <td>Robertson, Joshua E</td>\n",
       "      <td>Police Officer 2</td>\n",
       "      <td>031 Police</td>\n",
       "      <td>M</td>\n",
       "      <td>White</td>\n",
       "      <td>2006-12-16</td>\n",
       "      <td>2021</td>\n",
       "      <td>e joshua robertson</td>\n",
       "      <td>white</td>\n",
       "    </tr>\n",
       "    <tr>\n",
       "      <th>23642</th>\n",
       "      <td>Vanders, Christian William</td>\n",
       "      <td>Police Officer 2</td>\n",
       "      <td>031 Police</td>\n",
       "      <td>M</td>\n",
       "      <td>White</td>\n",
       "      <td>2019-03-16</td>\n",
       "      <td>2021</td>\n",
       "      <td>christian vanders william</td>\n",
       "      <td>white</td>\n",
       "    </tr>\n",
       "    <tr>\n",
       "      <th>23643</th>\n",
       "      <td>Vegas, Parker Joseph</td>\n",
       "      <td>Police Officer 2</td>\n",
       "      <td>031 Police</td>\n",
       "      <td>M</td>\n",
       "      <td>White</td>\n",
       "      <td>2019-03-16</td>\n",
       "      <td>2021</td>\n",
       "      <td>joseph parker vegas</td>\n",
       "      <td>white</td>\n",
       "    </tr>\n",
       "    <tr>\n",
       "      <th>23644</th>\n",
       "      <td>Williams, Darryl W</td>\n",
       "      <td>Police Officer 2</td>\n",
       "      <td>031 Police</td>\n",
       "      <td>M</td>\n",
       "      <td>Black or African American</td>\n",
       "      <td>2014-04-01</td>\n",
       "      <td>2021</td>\n",
       "      <td>darryl w williams</td>\n",
       "      <td>black</td>\n",
       "    </tr>\n",
       "  </tbody>\n",
       "</table>\n",
       "<p>23645 rows × 9 columns</p>\n",
       "</div>"
      ],
      "text/plain": [
       "                                           name  \\\n",
       "0      PETTY, MARLENE F                           \n",
       "1      DUPIE III, LEANDER H.                      \n",
       "2      TAYLOR, CHRIS M.                           \n",
       "3      DYER, WILLIAM K.                           \n",
       "4      SOWELL III, CAMPBELL M.                    \n",
       "...                                         ...   \n",
       "23640                   Modransky, Eric Charles   \n",
       "23641                       Robertson, Joshua E   \n",
       "23642                Vanders, Christian William   \n",
       "23643                      Vegas, Parker Joseph   \n",
       "23644                        Williams, Darryl W   \n",
       "\n",
       "                             job_desc                       dept_desc gender  \\\n",
       "0      Police Operations Coord 2       Police                              F   \n",
       "1      Police Lieutenant               Police                              M   \n",
       "2      Police Captain                  Police                              M   \n",
       "3      Police Lieutenant               Police                              M   \n",
       "4      Police Sergeant                 Police                              M   \n",
       "...                               ...                             ...    ...   \n",
       "23640                Police Officer 1                      031 Police      M   \n",
       "23641                Police Officer 2                      031 Police      M   \n",
       "23642                Police Officer 2                      031 Police      M   \n",
       "23643                Police Officer 2                      031 Police      M   \n",
       "23644                Police Officer 2                      031 Police      M   \n",
       "\n",
       "                       race_ethnicity date_started  year  \\\n",
       "0      White (Not of Hispanic Origin)   1998-02-01  2010   \n",
       "1      White (Not of Hispanic Origin)   1991-11-01  2010   \n",
       "2      White (Not of Hispanic Origin)   1992-03-16  2010   \n",
       "3      White (Not of Hispanic Origin)   1988-03-16  2010   \n",
       "4      White (Not of Hispanic Origin)   1992-09-01  2010   \n",
       "...                               ...          ...   ...   \n",
       "23640                           White   2019-08-16  2021   \n",
       "23641                           White   2006-12-16  2021   \n",
       "23642                           White   2019-03-16  2021   \n",
       "23643                           White   2019-03-16  2021   \n",
       "23644       Black or African American   2014-04-01  2021   \n",
       "\n",
       "                      clean_name clean_race_ethnicity  \n",
       "0                f marlene petty                white  \n",
       "1            dupie h iii leander                white  \n",
       "2                 chris m taylor                white  \n",
       "3                 dyer k william                white  \n",
       "4          campbell iii m sowell                white  \n",
       "...                          ...                  ...  \n",
       "23640     charles eric modransky                white  \n",
       "23641         e joshua robertson                white  \n",
       "23642  christian vanders william                white  \n",
       "23643        joseph parker vegas                white  \n",
       "23644          darryl w williams                black  \n",
       "\n",
       "[23645 rows x 9 columns]"
      ]
     },
     "execution_count": 100,
     "metadata": {},
     "output_type": "execute_result"
    }
   ],
   "source": [
    "roster"
   ]
  },
  {
   "cell_type": "code",
   "execution_count": null,
   "id": "c7098d23-1828-4c4c-96e5-39f2cffd4c1b",
   "metadata": {},
   "outputs": [],
   "source": []
  }
 ],
 "metadata": {
  "kernelspec": {
   "display_name": "Python 3",
   "language": "python",
   "name": "python3"
  },
  "language_info": {
   "codemirror_mode": {
    "name": "ipython",
    "version": 3
   },
   "file_extension": ".py",
   "mimetype": "text/x-python",
   "name": "python",
   "nbconvert_exporter": "python",
   "pygments_lexer": "ipython3",
   "version": "3.8.8"
  }
 },
 "nbformat": 4,
 "nbformat_minor": 5
}
